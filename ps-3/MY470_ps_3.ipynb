{
 "cells": [
  {
   "attachments": {},
   "cell_type": "markdown",
   "metadata": {
    "slideshow": {
     "slide_type": "slide"
    }
   },
   "source": [
    "##### MY470 Computer Programming\n",
    "\n",
    "### Problem Set 3, AT 2023\n",
    "\n",
    "#### \\*\\*\\* Due 12:00 noon on Monday, November 6 \\*\\*\\*"
   ]
  },
  {
   "attachments": {},
   "cell_type": "markdown",
   "metadata": {
    "slideshow": {
     "slide_type": "slide"
    }
   },
   "source": [
    "---\n",
    "### Simulating contagion on a network\n",
    "\n",
    "In this problem set, you are asked to write a program that simulates the contagion of disease or information on an empirical network. In academic research, contagion models have been used to study the properties of different types of networks. In practice, contagion models are extremely valuable to predict the spread of contagious disease such as the flu or STDs.\n",
    "\n",
    "We will use the simplest of contagion models — the SI model. SI stands for susceptible and infected. The SI model assumes that once a susceptible individual is infected, there is no recovery. This is a good representation for the spread of non-curable but non-deadly infectious disease such as Herpes simplex or for the spread of new technologies and knowledge.\n",
    "\n",
    "In the SI model we will implement, we will start with a population where everyone is susceptible. Then we will randomly pick a small number of individuals (\"Patients 0\") and infect them. In the next period, all the contacts of the infected individuals will get infected (thus, we will assume that the probability of transmission is 1). And so on. We will repeat the process until everyone in the network is infected or until a certain number of periods have passed (the latter is necessary for networks that are not connected and have separate components; in such situations, it is possible that the contagion never reaches some individuals). \n",
    "\n",
    "We will run the model on a real network. For simplicity, we will reuse the co-authorship network we analyzed in Problem Set 1. So think about the contagion in this case as learning about a new research technique, empirical finding, or theoretical result.\n",
    "\n",
    "#### Hints\n",
    "\n",
    "Use docstrings to describe your methods. We will subtract points from your mark if you do not use appropriate description of your code.\n"
   ]
  },
  {
   "attachments": {},
   "cell_type": "markdown",
   "metadata": {},
   "source": [
    "### Problem 1: Working in a team\n",
    "\n",
    "Work with your assigned partner to complete and submit the problem set. You can meet in person to discuss the division of labor but we expect you to use GitHub to communicate when coding your part and merging your contributions. We will  review the Issues, Pull request, and Wiki stats for your repository. You will get the full points for this problem if we find sufficient evidence that you have made use of GitHub as a collaboration tool. \n",
    "\n",
    "#### Hints\n",
    "\n",
    "One reasonable way to divide the work is to assign Problems 2 and 3 to Student A and Problems 4 and 5 to Student B.\n"
   ]
  },
  {
   "attachments": {},
   "cell_type": "markdown",
   "metadata": {},
   "source": [
    "### Problem 2: Class for network\n",
    "\n",
    "Create a class called `UndirectedNetwork`. The class should have the following data attributes:\n",
    "\n",
    "* `nodes` — a dictionary where the node id is a key and the value is a list with the ids of the node's neighbors (coauthors for our data); initially empty\n",
    "\n",
    "and the following methods:\n",
    "\n",
    "* `add_node` — takes `node_id` and initializes it as a key to `nodes` if it is not already there\n",
    "* `add_neighbors` — takes two arguments: `ego_id` and `alter_id` and adds `alter_id` to `ego_id`'s list of neighbors and `ego_id` to `alter_id`'s list of neighbors, if they are not already there\n",
    "* `get_node_ids` — generator method that gives the ids of the nodes in the network\n",
    "* `get_node_neighbors` — generator method that takes `node_id` and gives its neighbors\n",
    "\n",
    "Calling the `print()` function on a `UndirectedNetwork` object should print the number of nodes in the network, e.g. \"Undirected network with 455 nodes\".\n"
   ]
  },
  {
   "cell_type": "code",
   "execution_count": 3,
   "metadata": {},
   "outputs": [],
   "source": [
    "# Enter your answer to Problem 2 below. \n",
    "class UndirectedNetwork():\n",
    "    \"\"\"Represents an undirected network of nodes and neighbours.\n",
    "\n",
    "    This class provides methods to add nodes and links between nodes in\n",
    "    an undirected network, and generates ids and its respective neighbour ids.\n",
    "\n",
    "    Attributes:\n",
    "    - nodes (dict): A dictionary where keys are node IDs, and the value is a list of\n",
    "      neighbor node IDs.\n",
    "    \"\"\"\n",
    "    def __init__(self, nodes = None):\n",
    "        self.nodes = {}\n",
    "\n",
    "    def add_node(self, node_id):\n",
    "        \"\"\"Adds new node as a dictionary key to nodes \n",
    "        if it doesn't already exist.\n",
    "        \"\"\"\n",
    "        if node_id not in self.nodes:\n",
    "            self.nodes[node_id] = []\n",
    "\n",
    "    def add_neighbours(self, ego_id, alter_id):\n",
    "        \"\"\"Appends each node's ID to the other's list of neighbors \n",
    "        if the nodes do not already exist in the network. alter_id is added\n",
    "        to ego_id's list of neighbours and vice versa. \n",
    "        \"\"\"\n",
    "        if ego_id not in self.nodes:\n",
    "            self.add_node(ego_id)\n",
    "        if alter_id not in self.nodes:\n",
    "            self.add_node(alter_id)\n",
    "\n",
    "        self.nodes[ego_id].append(alter_id)\n",
    "        self.nodes[alter_id].append(ego_id)\n",
    "\n",
    "    def get_node_ids(self):\n",
    "        \"\"\"Generates ids of the nodes in the network.\n",
    "        \"\"\"\n",
    "        for ids in self.nodes:\n",
    "            yield ids\n",
    "\n",
    "    def get_node_neighbours(self, node_id):\n",
    "        \"\"\"Generates neighbour ids of each node.\n",
    "        \"\"\"\n",
    "        for neighbor_id in self.nodes[node_id]:\n",
    "            yield neighbor_id\n",
    "        \n",
    "    def __str__(self):\n",
    "        return f'Undirected network with {len(list(self.get_node_ids()))} nodes'"
   ]
  },
  {
   "attachments": {},
   "cell_type": "markdown",
   "metadata": {},
   "source": [
    "### Problem 3: Create an instance of the network class\n",
    "\n",
    "Read the data from the file `ca-GrQc.txt` in the `data` repository (use the same relative path as in the previous problem sets). Save the data in an instance of the UndirectedNetwork class you created. Call print on the instance.\n"
   ]
  },
  {
   "cell_type": "code",
   "execution_count": 4,
   "metadata": {
    "collapsed": true,
    "scrolled": false
   },
   "outputs": [
    {
     "name": "stdout",
     "output_type": "stream",
     "text": [
      "Undirected network with 5242 nodes\n"
     ]
    }
   ],
   "source": [
    "# Enter your answer to Problem 3 below. \n",
    "# Create an instance of the UndirectedNetwork class\n",
    "network = UndirectedNetwork()\n",
    "for line in open('../data/ca-GrQc.txt', 'r'):\n",
    "    # Ignores comment lines at the beginning of the file\n",
    "    if line[0] != '#':    \n",
    "        line = line.strip().split('\\t')\n",
    "        network.add_node(line[0])\n",
    "        network.add_neighbours(line[0], line[1])\n",
    "\n",
    "print(network)"
   ]
  },
  {
   "attachments": {},
   "cell_type": "markdown",
   "metadata": {},
   "source": [
    "---\n",
    "### Problem 4: Class for SI model\n",
    "\n",
    "\n",
    "Create a class called `SIModel` that has the following data attributes:\n",
    "\n",
    "* `network` — an instance of class UndirectedNetwork taken at instantiation\n",
    "* `susceptible_nodes` — a list of ids for nodes that are not yet infected; initially includes all nodes from `network`\n",
    "* `infected_nodes` — a list of ids for nodes that are infected; initially empty\n",
    "* `num_infected` — keeps track of the number of infected nodes; initially `0`\n",
    "\n",
    "and the following methods:\n",
    "\n",
    "* `initialize` — takes an integer `n` to randomly select `n` number of nodes and infect them; then prints the number of infected nodes\n",
    "* `update` — iterates over the susceptible nodes in random order and infects those who have at least one infected neighbor; then prints the number of infected nodes. The process should be asynchronous, in the sense that a node immediately becomes infected and will then infect any susceptible neighbors who are yet to be iterated over.\n",
    "* `run` — repeats `update` until all nodes are infected or until `update` has been run 30 times\n",
    "\n",
    "Calling the `print()` function on a `SIModel` object should print `num_infected`.\n",
    "\n",
    "#### Hints\n",
    "\n",
    "In this problem you will need to use functions from the `random` module. You can read more about it [here](https://docs.python.org/3/library/random.html).\n",
    "\n",
    "Make sure the methods update all the relevant data attributes when called."
   ]
  },
  {
   "cell_type": "code",
   "execution_count": 14,
   "metadata": {
    "collapsed": true
   },
   "outputs": [],
   "source": [
    "# Enter your answer to Problem 4 below. \n",
    "import random\n",
    "\n",
    "class SIModel():\n",
    "    \"\"\"  This class creates an SI model with the data attributes:\n",
    "    network, susceptible nodes, infected noded and number of infected nodes.\n",
    "    It takes an instance of the class UndirectedNetwork as an argument and uses the nodes \n",
    "    from that instance for the simulation of the infection process.\n",
    "    It uses methods to randomly infect the first nodes, then infect the neighbours of such \n",
    "    nodes and then continues this process for 30 times or until every node is infected.\n",
    "    \"\"\"\n",
    "    def __init__(self, network):\n",
    "        self.network = network         \n",
    "        self.susceptible_nodes = list(self.network.get_node_ids())\n",
    "        self.infected_nodes = []\n",
    "        self.num_infected = 0\n",
    "\n",
    "\n",
    "    def initialize(self, n):\n",
    "        \"\"\" This method randomly infects n nodes. N is the number of\n",
    "        nodes that should be infected and is passed as an argument in the method.\n",
    "        Then it prints the number of infected nodes. \n",
    "        \"\"\"\n",
    "        nodes = random.sample(self.susceptible_nodes, n)\n",
    "        for id in nodes: \n",
    "            self.susceptible_nodes.remove(id)\n",
    "            self.infected_nodes.append(id)\n",
    "            self.num_infected = len(self.infected_nodes)\n",
    "        print(\"Number of infected nodes after initialization:\" + \" \" + str(self.num_infected))\n",
    "    \n",
    "    def update(self):\n",
    "        \"\"\" This method randomly iterates over the susceptible nodes and\n",
    "        infects all nodes who have at least on infected neighbor. Then it\n",
    "        prints the number of infected nodes. \n",
    "        \"\"\"\n",
    "        random.shuffle(self.susceptible_nodes)\n",
    "        infected_set = set(self.infected_nodes)\n",
    "        for node_id in self.susceptible_nodes:\n",
    "            neighbours = list(self.network.get_node_neighbours(node_id))\n",
    "            if any(neighbour in infected_set for neighbour in neighbours):\n",
    "                self.susceptible_nodes.remove(node_id)\n",
    "                self.infected_nodes.append(node_id)\n",
    "        self.num_infected = len(self.infected_nodes)\n",
    "        print(\"Number of infected nodes:\", self.num_infected)\n",
    "    \n",
    "    def run(self):\n",
    "        \"\"\" This method repeats the update method until every node \n",
    "        is infected or until the number of iteration is 30. \n",
    "        \"\"\"\n",
    "        num_iterations = 0\n",
    "        while len(self.susceptible_nodes) > 0 and num_iterations < 30:\n",
    "            self.update() \n",
    "            num_iterations += 1 \n",
    "        print(\"Infection process completed.\")\n",
    "    \n",
    "    def str(self):\n",
    "        return \"Number of infected nodes after infection process has ended:\" + \" \" + str(self.num_infected)\n"
   ]
  },
  {
   "attachments": {},
   "cell_type": "markdown",
   "metadata": {},
   "source": [
    "---\n",
    "### Problem 5: Run the model\n",
    "\n",
    "Run `SIModel` using the network from Problem 2. You should initialize the simulation with 3 seeds (the number of \"patients 0\").\n"
   ]
  },
  {
   "cell_type": "code",
   "execution_count": 13,
   "metadata": {
    "collapsed": true,
    "scrolled": false
   },
   "outputs": [
    {
     "name": "stdout",
     "output_type": "stream",
     "text": [
      "Number of infected nodes after initialization: 3\n",
      "Number of infected nodes: 13\n",
      "Number of infected nodes: 67\n",
      "Number of infected nodes: 337\n",
      "Number of infected nodes: 1094\n",
      "Number of infected nodes: 2132\n",
      "Number of infected nodes: 3047\n",
      "Number of infected nodes: 3634\n",
      "Number of infected nodes: 3938\n",
      "Number of infected nodes: 4070\n",
      "Number of infected nodes: 4139\n",
      "Number of infected nodes: 4159\n",
      "Number of infected nodes: 4163\n",
      "Number of infected nodes: 4163\n",
      "Number of infected nodes: 4163\n",
      "Number of infected nodes: 4163\n",
      "Number of infected nodes: 4163\n",
      "Number of infected nodes: 4163\n",
      "Number of infected nodes: 4163\n",
      "Number of infected nodes: 4163\n",
      "Number of infected nodes: 4163\n",
      "Number of infected nodes: 4163\n",
      "Number of infected nodes: 4163\n",
      "Number of infected nodes: 4163\n",
      "Number of infected nodes: 4163\n",
      "Number of infected nodes: 4163\n",
      "Number of infected nodes: 4163\n",
      "Number of infected nodes: 4163\n",
      "Number of infected nodes: 4163\n",
      "Number of infected nodes: 4163\n",
      "Number of infected nodes: 4163\n",
      "Infection process completed.\n",
      "Number of infected nodes after infection process has ended: 4163\n"
     ]
    }
   ],
   "source": [
    "# Enter your answer to Problem 5 below. \n",
    "\n",
    "simodel = SIModel(network)\n",
    "simodel.initialize(3)\n",
    "simodel.run()\n",
    "print(simodel.str())"
   ]
  },
  {
   "attachments": {},
   "cell_type": "markdown",
   "metadata": {},
   "source": [
    "---\n",
    "\n",
    "### Evaluation\n",
    "\n",
    "| Problem | Mark     | Comment   \n",
    "|:-------:|:--------:|:----------------------\n",
    "| 1       |   /2    |   \n",
    "| 2       |   /4    |      \n",
    "| 3       |   /1    | \n",
    "| 4       |   /5    | \n",
    "| 5       |   /1    |\n",
    "| Legibility   |   /2    | \n",
    "| Modularity   |   /2    | \n",
    "| Efficiency   |   /3    | \n",
    "|**Total**|**/20**  | \n"
   ]
  }
 ],
 "metadata": {
  "kernelspec": {
   "display_name": "Python 3 (ipykernel)",
   "language": "python",
   "name": "python3"
  },
  "language_info": {
   "codemirror_mode": {
    "name": "ipython",
    "version": 3
   },
   "file_extension": ".py",
   "mimetype": "text/x-python",
   "name": "python",
   "nbconvert_exporter": "python",
   "pygments_lexer": "ipython3",
   "version": "3.11.5"
  }
 },
 "nbformat": 4,
 "nbformat_minor": 2
}
