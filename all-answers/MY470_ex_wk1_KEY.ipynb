{
 "cells": [
  {
   "cell_type": "markdown",
   "metadata": {
    "slideshow": {
     "slide_type": "slide"
    }
   },
   "source": [
    "### MY470 Computer Programming\n",
    "\n",
    "### Week 1 Exercise\n",
    "\n",
    "#### \\*\\*\\* Example Answers \\*\\*\\*"
   ]
  },
  {
   "cell_type": "markdown",
   "metadata": {
    "slideshow": {
     "slide_type": "slide"
    }
   },
   "source": [
    "---\n",
    "### Problem 1: Follow an algorithm\n",
    "\n",
    "Please create a new Markdown cell below.\n",
    "\n",
    "Use one of the expressions \"0 - No prior experience\", \"1 - Some coding\", \"2 - Some programming experience\", or \"3 - Extensive programming experience\" in bold typeface to describe your knowledge and experience with programming.  \n",
    "\n",
    "If your answer above is \"0 - No prior experience\", use an ordered list to name three skills that you would like to acquire in this course.\n",
    "\n",
    "Otherwise, use an unordered list to mention each course and project you took part in that required you to code or program and the programming language you used for it. \n",
    "\n",
    "#### Hints\n",
    "\n",
    "You can find basic information on formating text in Markdown on this [cheatsheet](https://github.com/adam-p/markdown-here/wiki/Markdown-Cheatsheet).  "
   ]
  },
  {
   "cell_type": "markdown",
   "metadata": {},
   "source": [
    "---\n",
    "\n",
    "*The first cell bellow shows how the answer should look like for someone without any prior experience. The second cell shows an example answer for someone with at least some coding experience.*"
   ]
  },
  {
   "cell_type": "markdown",
   "metadata": {},
   "source": [
    "**0 - No prior experience**\n",
    "\n",
    "1. Writing legible code\n",
    "2. Writing modular code\n",
    "3. Writing optimized code\n"
   ]
  },
  {
   "cell_type": "markdown",
   "metadata": {},
   "source": [
    "**3 - Extensive programming experience**\n",
    "\n",
    "* Undergraduate computer prorgamming course – learned how to program in Java\n",
    "* Graduate web science course – learned how to obtain web data and analyze it in Python\n",
    "* MSc dissertation – used Z-tree to program a social group experiment\n",
    "* Summer school project – used NetLogo to implement an agent-based model\n",
    "* Year abroad study – used JavaScript to create a real-time multi-player game"
   ]
  },
  {
   "cell_type": "markdown",
   "metadata": {
    "slideshow": {
     "slide_type": "slide"
    }
   },
   "source": [
    "---\n",
    "### Problem 2: Write a simple Python program\n",
    "\n",
    "Create a new Code cell below and write a simple Python program that takes the user's name as input and prints a greeting using it. Here is an example of how this program might look like:\n",
    "\n",
    "```\n",
    "What is your name? [Milena Tsvetkova]\n",
    "Ahoy, Milena Tsvetkova!\n",
    "```\n",
    "\n",
    "In the example, the user entered the text shown in square brackets (\"Milena Tsvetkova\"). The program printed all the other text.\n",
    "\n",
    "#### Hints\n",
    "\n",
    "To see how to get input from the user's console, take a look at the [input function](https://docs.python.org/3/library/functions.html#input) in the Python online documentation. You will need to store the user input in a variable and use the variable to print the greeting. Make sure you use the proper spacing around the punctuation marks!"
   ]
  },
  {
   "cell_type": "code",
   "execution_count": 3,
   "metadata": {
    "collapsed": true
   },
   "outputs": [
    {
     "name": "stdout",
     "output_type": "stream",
     "text": [
      "Ahoy, Milena Tsvetkova!\n"
     ]
    }
   ],
   "source": [
    "# It is a good practice to include the question (pass it as an argument)\n",
    "# in the input function rather than print it separately.\n",
    "# Note also that we concatenate the string to print it with the correct\n",
    "# white space around the punctuation marks. If you used commas inside\n",
    "# print(), it will by default add white space bewteen each element.\n",
    "\n",
    "name = input(\"What is your name?\")\n",
    "print('Ahoy, ' + name + '!')             "
   ]
  },
  {
   "cell_type": "markdown",
   "metadata": {},
   "source": [
    "---\n",
    "### Problem 3: Submit the exercise\n",
    "\n",
    "Submit the exercise on Github as you would do with a problem set. Essentially, you need to commit and push/sync the changes."
   ]
  },
  {
   "cell_type": "markdown",
   "metadata": {},
   "source": [
    "*Simply edit the ```.ipynb``` file in VS Code and then add/stage, commit, and push/sync changes to the GitHub server. You should not create copies of the file or change its name. Git and GitHub serve precisely to make file name suffixes such as \"_v1\" or \"_mychanges\" obsolete because they remember who makes which changes when!*"
   ]
  }
 ],
 "metadata": {
  "kernelspec": {
   "display_name": "Python 3 (ipykernel)",
   "language": "python",
   "name": "python3"
  },
  "language_info": {
   "codemirror_mode": {
    "name": "ipython",
    "version": 3
   },
   "file_extension": ".py",
   "mimetype": "text/x-python",
   "name": "python",
   "nbconvert_exporter": "python",
   "pygments_lexer": "ipython3",
   "version": "3.9.7"
  }
 },
 "nbformat": 4,
 "nbformat_minor": 2
}
