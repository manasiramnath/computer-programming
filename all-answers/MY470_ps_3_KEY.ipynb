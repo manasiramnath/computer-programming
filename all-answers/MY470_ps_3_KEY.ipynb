{
 "cells": [
  {
   "cell_type": "markdown",
   "metadata": {
    "slideshow": {
     "slide_type": "slide"
    }
   },
   "source": [
    "##### MY470 Computer Programming\n",
    "\n",
    "### Problem Set 3\n",
    "\n",
    "#### \\*\\*\\* Example Answers \\*\\*\\*"
   ]
  },
  {
   "cell_type": "markdown",
   "metadata": {
    "slideshow": {
     "slide_type": "slide"
    }
   },
   "source": [
    "---\n",
    "### Simulating contagion on a network\n",
    "\n",
    "In this problem set, you are asked to write a program that simulates the contagion of disease or information on an empirical network. In academic research, contagion models have been used to study the properties of different types of networks. In practice, contagion models are extremely valuable to predict the spread of contagious disease such as the flu or STDs.\n",
    "\n",
    "We will use the simplest of contagion models — the SI model. SI stands for susceptible and infected. The SI model assumes that once a susceptible individual is infected, there is no recovery. This is a good representation for the spread of non-curable but non-deadly infectious disease such as Herpes simplex or for the spread of new technologies and knowledge.\n",
    "\n",
    "In the SI model we will implement, we will start with a population where everyone is susceptible. Then we will randomly pick a small number of individuals (\"Patients 0\") and infect them. In the next period, all the contacts of the infected individuals will get infected (thus, we will assume that the probability of transmission is 1). And so on. We will repeat the process until everyone in the network is infected or until a certain number of periods have passed (the latter is necessary for networks that are not connected and have separate components; in such situations, it is possible that the contagion never reaches some individuals). \n",
    "\n",
    "We will run the model on a real network. For simplicity, we will reuse the co-authorship network we analyzed in Problem Set 1. So think about the contagion in this case as learning about a new research technique, empirical finding, or theoretical result.\n",
    "\n",
    "#### Hints\n",
    "\n",
    "Use docstrings to describe your methods. We will subtract points from your mark if you do not use appropriate description of your code.\n"
   ]
  },
  {
   "cell_type": "markdown",
   "metadata": {},
   "source": [
    "### Problem 1: Working in a team\n",
    "\n",
    "Work with your assigned partner to complete and submit the problem set. You can meet in person to discuss the division of labor but we expect you to use GitHub to communicate when coding your part and merging your contributions. We will  review the Issues, Pull request, and Wiki stats for your repository. You will get the full points for this problem if we find sufficient evidence that you have made use of GitHub as a collaboration tool. \n",
    "\n",
    "#### Hints\n",
    "\n",
    "One reasonable way to divide the work is to assign Problems 2 and 3 to Student A and Problems 4 and 5 to Student B."
   ]
  },
  {
   "cell_type": "markdown",
   "metadata": {},
   "source": [
    "### Problem 2: Class for network\n",
    "\n",
    "Create a class called `UndirectedNetwork`. The class should have the following data attributes:\n",
    "\n",
    "* `nodes` — a dictionary where the node id is a key and the value is a list with the ids of the node's neighbors (coauthors for our data); initially empty\n",
    "\n",
    "and the following methods:\n",
    "\n",
    "* `add_node` — takes `node_id` and initializes it as a key to `nodes` if it is not already there\n",
    "* `add_neighbors` — takes two arguments: `ego_id` and `alter_id` and adds `alter_id` to `ego_id`'s list of neighbors and `ego_id` to `alter_id`'s list of neighbors, if they are not already there\n",
    "* `get_node_ids` — generator method that gives the ids of the nodes in the network\n",
    "* `get_node_neighbors` — generator method that takes `node_id` and gives its neighbors\n",
    "\n",
    "Calling the `print()` function on a `UndirectedNetwork` object should print the number of nodes in the network, e.g. \"Undirected network with 455 nodes\".\n"
   ]
  },
  {
   "cell_type": "code",
   "execution_count": 1,
   "metadata": {
    "collapsed": true
   },
   "outputs": [],
   "source": [
    "# For our network example, we know that the data file contains \n",
    "# both the i-j and the j-i edges so all the checks \n",
    "# in add_neighbors() are unnecessary. However, this may not be \n",
    "# the case in another dataset and the power of classes is that\n",
    "# they can cover many different situations and circumstances.\n",
    "\n",
    "class UndirectedNetwork(object):\n",
    "    \"\"\"A class used to represent a network.\"\"\"\n",
    "    \n",
    "    def __init__(self):\n",
    "        \"\"\"Create a new empty network.\"\"\"        \n",
    "        self.nodes = {}\n",
    "    \n",
    "    def add_node(self, node_id):\n",
    "        \"\"\"Take node_id and add it to the network if it is not there.\"\"\"\n",
    "        if node_id not in self.nodes:\n",
    "            self.nodes[node_id] = []\n",
    "    \n",
    "    def add_neighbors(self, ego_id, alter_id):\n",
    "        \"\"\"Take ego_id and alter_id and update ego_id's list of neighbors.\"\"\"\n",
    "        \n",
    "        # Make sure nodes are added to the network\n",
    "        self.add_node(ego_id)\n",
    "        self.add_node(alter_id)  \n",
    "        \n",
    "        # Add the neighbors if they are not duplicates        \n",
    "        if alter_id not in self.nodes[ego_id]:\n",
    "            self.nodes[ego_id].append(alter_id)\n",
    "        if ego_id not in self.nodes[alter_id]:\n",
    "            self.nodes[alter_id].append(ego_id)\n",
    "         \n",
    "    def get_node_ids(self):\n",
    "        \"\"\"Return the network node ids one at a time.\"\"\"        \n",
    "        for i in self.nodes:\n",
    "            yield i\n",
    "    \n",
    "    def get_node_neighbors(self, node_id):\n",
    "        \"\"\"Take node_id and return its neighbors one at a time.\"\"\"        \n",
    "        for i in self.nodes[node_id]:\n",
    "            yield i\n",
    "\n",
    "    def __str__(self):\n",
    "        \"\"\"Print the number of nodes in the network.\"\"\"        \n",
    "        return \"Undirected network with \" + str(len(self.nodes)) + \" nodes\"\n",
    "        "
   ]
  },
  {
   "cell_type": "markdown",
   "metadata": {},
   "source": [
    "### Problem 3: Create an instance of the network class\n",
    "\n",
    "Read the data from the file `ca-GrQc.txt` in the `data` repository (use the same relative path as in the previous problem sets). Save the data in an instance of the UndirectedNetwork class you created. Call print on the instance.\n"
   ]
  },
  {
   "cell_type": "code",
   "execution_count": 2,
   "metadata": {
    "scrolled": false
   },
   "outputs": [
    {
     "name": "stdout",
     "output_type": "stream",
     "text": [
      "Undirected network with 5241 nodes\n"
     ]
    }
   ],
   "source": [
    "net = UndirectedNetwork()\n",
    "\n",
    "for line in open('../data/ca-GrQc.txt', 'r'):\n",
    "    # Ignore the comment lines at the beginning of the file\n",
    "    if line[0] != '#':    \n",
    "        strlst = line.strip().split('\\t')\n",
    "        if strlst[0] != strlst[1]: # Remove self-loops\n",
    "            net.add_neighbors(int(strlst[0]), int(strlst[1]))\n",
    "\n",
    "print(net)\n"
   ]
  },
  {
   "cell_type": "markdown",
   "metadata": {},
   "source": [
    "---\n",
    "### Problem 4: Class for SI model\n",
    "\n",
    "\n",
    "Create a class called `SIModel` that has the following data attributes:\n",
    "\n",
    "* `network` — an instance of class UndirectedNetwork taken at instantiation\n",
    "* `susceptible_nodes` — a list of ids for nodes that are not yet infected; initially includes all nodes from `network`\n",
    "* `infected_nodes` — a list of ids for nodes that are infected; initially empty\n",
    "* `num_infected` — keeps track of the number of infected nodes; initially `0`\n",
    "\n",
    "and the following methods:\n",
    "\n",
    "* `initialize` — takes an integer `n` to randomly select `n` number of nodes and infect them; then prints the number of infected nodes\n",
    "* `update` — iterates over the susceptible nodes in random order and infects those who have at least one infected neighbor; then prints the number of infected nodes. The process should be asynchronous, in the sense that a node immediately becomes infected and will then infect any susceptible neighbors who are yet to be iterated over.\n",
    "* `run` — repeats `update` until all nodes are infected or until `update` has been run 30 times\n",
    "\n",
    "Calling the `print()` function on a `SIModel` object should print `num_infected`.\n",
    "\n",
    "#### Hints\n",
    "\n",
    "In this problem you will need to use functions from the `random` module. You can read more about it [here](https://docs.python.org/3/library/random.html).\n",
    "\n",
    "Make sure the methods update all the relevant data attributes when called."
   ]
  },
  {
   "cell_type": "code",
   "execution_count": 3,
   "metadata": {
    "collapsed": true
   },
   "outputs": [],
   "source": [
    "# Typically, we should import modules before any code starts\n",
    "# but we will accept import here since it only comes up for\n",
    "# this problem and after\n",
    "import random as ran\n",
    "\n",
    "class SIModel(object):\n",
    "    \"\"\"A class used to simulate susceptible-infected contagion on a network.\"\"\"\n",
    "    \n",
    "    def __init__(self, net):\n",
    "        \"\"\"Assume net is an object of type UndirectedNetwork.\n",
    "        Create a new SI model using net.\n",
    "        \"\"\"        \n",
    "        self.network = net\n",
    "        self.susceptible_nodes = [i for i in net.get_node_ids()]\n",
    "        self.infected_nodes = []\n",
    "        self.num_infected = 0\n",
    "    \n",
    "    \n",
    "    def initialize(self, n):\n",
    "        \"\"\"Assume n is an integer.\n",
    "        Randomly select n nodes and infect them.\n",
    "        Print the number of infected nodes.\n",
    "        \"\"\"        \n",
    "        patients0 = ran.sample(self.susceptible_nodes, n)\n",
    "        self.infected_nodes.extend(patients0)\n",
    "        for i in patients0:\n",
    "            self.susceptible_nodes.remove(i)\n",
    "        self.num_infected = n\n",
    "        print(self)\n",
    "        \n",
    "        \n",
    "    def update(self):\n",
    "        \"\"\"Iterate over all susceptible nodes in random order and \n",
    "        infect those who have at least one infected neighbor.\n",
    "        Implement asynchronous updating.\n",
    "        Print the number of infected nodes.\n",
    "        \"\"\"        \n",
    "        # Remember not to iterate over a list you are changing\n",
    "        temp = self.susceptible_nodes[:]\n",
    "        ran.shuffle(temp)\n",
    "        for i in temp:\n",
    "            \n",
    "            # Get an iterator over i's neighbors\n",
    "            nbrs = self.network.get_node_neighbors(i)\n",
    "            \n",
    "            # Infect if at least one neighbor is infected\n",
    "            # Here, I am summing bools, where False = 0, True = 1\n",
    "            if sum([(j in self.infected_nodes) for j in nbrs]) > 0:\n",
    "                self.infected_nodes.append(i)\n",
    "                self.susceptible_nodes.remove(i)\n",
    "                self.num_infected += 1\n",
    "        print(self)\n",
    "        \n",
    "        \n",
    "    def run(self):\n",
    "        \"\"\"Run update and print the number of infected nodes \n",
    "        until all nodes are infected or until update has been run 30 times.\n",
    "        \"\"\"        \n",
    "        p = 0\n",
    "        # While there are any susceptible nodes \n",
    "        # and for not more than 30 iterations\n",
    "        while self.susceptible_nodes and p < 30:\n",
    "            self.update()\n",
    "            p +=1\n",
    "    \n",
    "    \n",
    "    def __str__(self):\n",
    "        \"\"\"Print the number of infected nodes.\"\"\"        \n",
    "        return str(self.num_infected)\n",
    "    "
   ]
  },
  {
   "cell_type": "markdown",
   "metadata": {},
   "source": [
    "---\n",
    "### Problem 5: Run the model\n",
    "\n",
    "Run `SIModel` using the network from Problem 2. You should initialize the simulation with 3 seeds (the number of \"patients 0\").\n"
   ]
  },
  {
   "cell_type": "code",
   "execution_count": 4,
   "metadata": {
    "scrolled": false
   },
   "outputs": [
    {
     "name": "stdout",
     "output_type": "stream",
     "text": [
      "3\n",
      "416\n",
      "2616\n",
      "3818\n",
      "4118\n",
      "4157\n",
      "4158\n",
      "4158\n",
      "4158\n",
      "4158\n",
      "4158\n",
      "4158\n",
      "4158\n",
      "4158\n",
      "4158\n",
      "4158\n",
      "4158\n",
      "4158\n",
      "4158\n",
      "4158\n",
      "4158\n",
      "4158\n",
      "4158\n",
      "4158\n",
      "4158\n",
      "4158\n",
      "4158\n",
      "4158\n",
      "4158\n",
      "4158\n",
      "4158\n"
     ]
    }
   ],
   "source": [
    "# The output will vary because the similation is initialized \n",
    "# with a random process. For replication purposes, we will\n",
    "# fix the random seed.\n",
    "ran.seed(2)\n",
    "si = SIModel(net) \n",
    "si.initialize(3)\n",
    "si.run()\n"
   ]
  },
  {
   "cell_type": "markdown",
   "metadata": {},
   "source": [
    "---\n",
    "\n",
    "### Evaluation\n",
    "\n",
    "| Problem | Mark     | Comment   \n",
    "|:-------:|:--------:|:----------------------\n",
    "| 1       |   /2    |   \n",
    "| 2       |   /4    |      \n",
    "| 3       |   /1    | \n",
    "| 4       |   /5    | \n",
    "| 5       |   /1    |\n",
    "| Legibility   |   /2    | \n",
    "| Modularity   |   /2    | \n",
    "| Efficiency   |   /3    | \n",
    "|**Total**|**/20**  | \n"
   ]
  }
 ],
 "metadata": {
  "kernelspec": {
   "display_name": "Python 3 (ipykernel)",
   "language": "python",
   "name": "python3"
  },
  "language_info": {
   "codemirror_mode": {
    "name": "ipython",
    "version": 3
   },
   "file_extension": ".py",
   "mimetype": "text/x-python",
   "name": "python",
   "nbconvert_exporter": "python",
   "pygments_lexer": "ipython3",
   "version": "3.10.12"
  }
 },
 "nbformat": 4,
 "nbformat_minor": 2
}
