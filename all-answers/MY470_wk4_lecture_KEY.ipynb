{
 "cells": [
  {
   "cell_type": "markdown",
   "metadata": {
    "slideshow": {
     "slide_type": "slide"
    }
   },
   "source": [
    "### MY470 Computer Programming\n",
    "# Functions in Python\n",
    "### Week 4 Lecture: \\*\\*\\* Example Answers \\*\\*\\*"
   ]
  },
  {
   "cell_type": "markdown",
   "metadata": {
    "slideshow": {
     "slide_type": "slide"
    }
   },
   "source": [
    "## Functions: Exercise"
   ]
  },
  {
   "cell_type": "code",
   "execution_count": 7,
   "metadata": {
    "slideshow": {
     "slide_type": "-"
    }
   },
   "outputs": [
    {
     "name": "stdout",
     "output_type": "stream",
     "text": [
      "cod\n",
      "peek\n",
      "pal\n",
      "revel\n",
      "pan\n",
      "pin\n",
      "raw\n"
     ]
    }
   ],
   "source": [
    "# Write a function that reverses a string, e.g. \"now\" -> \"won\".\n",
    "# Then call the function to reverse each of the strings in the list.\n",
    "\n",
    "to_reverse = ['doc', 'keep', 'lap', 'lever', 'nap', 'nip', 'war']\n",
    "\n",
    "def reverse_string(s):\n",
    "    \"\"\"Returns a new string with the characters in string s\n",
    "    in reverse order.\n",
    "    \"\"\"\n",
    "    return s[::-1]\n",
    "\n",
    "for i in to_reverse:\n",
    "    print(reverse_string(i))\n",
    "    \n",
    "# Notice that this code is not necessarily shorter than if you have done\n",
    "# the operation directly. Nevertheless, it is more legible because \n",
    "# it hides the implemenetation details. "
   ]
  },
  {
   "cell_type": "markdown",
   "metadata": {
    "slideshow": {
     "slide_type": "slide"
    }
   },
   "source": [
    "## Function Arguments: Exercise\n",
    "\n",
    "Find the errors in the code below:\n",
    "\n",
    "```\n",
    "def find_char(astring, achar, start=0, end):\n",
    "    \"\"\"Find and return the index of achar in astring.\n",
    "    Return None if achar does not occur in astring.\n",
    "    \"\"\"\n",
    "    i = start\n",
    "    if end == None:\n",
    "        end = len(astring)\n",
    "\n",
    "    found = False\n",
    "    while i < end and not found:\n",
    "        if astring[i] == achar:\n",
    "            found = True\n",
    "        else:\n",
    "            i += 1\n",
    "            \n",
    "    if found:\n",
    "        return i\n",
    "    \n",
    "    return None\n",
    "\n",
    "\n",
    "mystring = \"What goes around comes around.\"\n",
    "\n",
    "print(find_char(mystring, 'e', start=2, 24))\n",
    "```\n"
   ]
  },
  {
   "cell_type": "code",
   "execution_count": 9,
   "metadata": {
    "slideshow": {
     "slide_type": "-"
    }
   },
   "outputs": [
    {
     "name": "stdout",
     "output_type": "stream",
     "text": [
      "7\n"
     ]
    }
   ],
   "source": [
    "# There are two errors in the code: \n",
    "# 1) the non-default parameter \"end\" follows the default one \"start\"\n",
    "# 2) the positional argument \"24\" follows keyword argument \"start=2\"\n",
    "# One way to fix these errors is by assigning a default value to \"end\"\n",
    "# and either using the keyword for \"24\" or removing the keyword \"start\"\n",
    "\n",
    "def find_char(astring, achar, start=0, end=None):\n",
    "    \"\"\"Find and return the index of achar in astring.\n",
    "    Return None if achar does not occur in astring.\n",
    "    \"\"\"\n",
    "    i = start\n",
    "    if end == None:\n",
    "        end = len(astring)\n",
    "\n",
    "    found = False\n",
    "    while i < end and not found:\n",
    "        if astring[i] == achar:\n",
    "            found = True\n",
    "        else:\n",
    "            i += 1\n",
    "            \n",
    "    if found:\n",
    "        return i\n",
    "    \n",
    "    return None\n",
    "\n",
    "\n",
    "mystring = \"What goes around comes around.\"\n",
    "\n",
    "print(find_char(mystring, 'e', start=2, end=24))\n",
    "\n",
    "# Note also that the moment the code reaches \"return\", it exits the function\n",
    "# Thus, although you can have:\n",
    "#    if found: return i\n",
    "#    else: return None\n",
    "# you don't actually need the \"else\" because \"return None\" will never be evaluated\n",
    "# if we evaluate \"return i\" before\n"
   ]
  },
  {
   "cell_type": "markdown",
   "metadata": {
    "slideshow": {
     "slide_type": "slide"
    }
   },
   "source": [
    "## Recursion: Exercise\n",
    "\n",
    "Write a function `power(x, p)` that uses recursion to calculate the value of `x` to the power of `p`, or $x^p$."
   ]
  },
  {
   "cell_type": "code",
   "execution_count": 2,
   "metadata": {
    "slideshow": {
     "slide_type": "-"
    }
   },
   "outputs": [
    {
     "name": "stdout",
     "output_type": "stream",
     "text": [
      "64\n"
     ]
    }
   ],
   "source": [
    "def power(x, p):\n",
    "    \"\"\"Assumes p is an integer >= 0.\n",
    "    Calculates x to the power of p.\n",
    "    \"\"\"\n",
    "    if p == 0:\n",
    "        return 1\n",
    "    elif x == 0:\n",
    "        return 0\n",
    "    elif p == 1:\n",
    "        return x\n",
    "    else:\n",
    "        return x * power(x, p-1)\n",
    "\n",
    "print(power(2, 6))\n",
    "\n",
    "# Notice that this solution does not work for non-integer p and p < 0.\n",
    "# Hence, we use the function docstring to specify the assumptions\n",
    "# necessary for our function to work properly."
   ]
  },
  {
   "cell_type": "markdown",
   "metadata": {
    "slideshow": {
     "slide_type": "slide"
    }
   },
   "source": [
    "## Recursion and Efficiency: Exercise\n",
    "\n",
    "Place the functions `bisec_search()` and `bisec_search_rec()` we presented above in a module called `bisec`. Then use the `timeit()` function from the `timeit` module in the cell below to compare the performance of these two functions, calling them from the module."
   ]
  },
  {
   "cell_type": "code",
   "execution_count": 1,
   "metadata": {
    "slideshow": {
     "slide_type": "-"
    }
   },
   "outputs": [
    {
     "name": "stdout",
     "output_type": "stream",
     "text": [
      "Recursion: 4.314174697\n",
      "Iteration: 3.5016683260000008\n"
     ]
    }
   ],
   "source": [
    "from timeit import timeit\n",
    "\n",
    "print('Recursion:', timeit(\"bisec_search_rec(0, 25, 25, 0.01)\", setup=\"from bisec import bisec_search_rec\"))\n",
    "print('Iteration:', timeit(\"bisec_search(25, 0.01)\", setup=\"from bisec import bisec_search\"))\n"
   ]
  }
 ],
 "metadata": {
  "celltoolbar": "Slideshow",
  "kernelspec": {
   "display_name": "Python 3 (ipykernel)",
   "language": "python",
   "name": "python3"
  },
  "language_info": {
   "codemirror_mode": {
    "name": "ipython",
    "version": 3
   },
   "file_extension": ".py",
   "mimetype": "text/x-python",
   "name": "python",
   "nbconvert_exporter": "python",
   "pygments_lexer": "ipython3",
   "version": "3.9.7"
  }
 },
 "nbformat": 4,
 "nbformat_minor": 2
}
