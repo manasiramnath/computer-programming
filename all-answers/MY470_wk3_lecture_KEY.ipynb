{
 "cells": [
  {
   "cell_type": "markdown",
   "metadata": {
    "slideshow": {
     "slide_type": "slide"
    }
   },
   "source": [
    "### MY470 Computer Programming\n",
    "# Control Flow in Python\n",
    "### Week 3 Lecture: \\*\\*\\* Example Answers \\*\\*\\*"
   ]
  },
  {
   "cell_type": "markdown",
   "metadata": {
    "slideshow": {
     "slide_type": "slide"
    }
   },
   "source": [
    "## Conditional Statements: Exercise\n"
   ]
  },
  {
   "cell_type": "code",
   "execution_count": null,
   "metadata": {
    "scrolled": true,
    "slideshow": {
     "slide_type": "-"
    }
   },
   "outputs": [],
   "source": [
    "# Write a program that takes input X from the user about their \n",
    "# favorite dessert and responds \"I love X too!\", \"Oh no, I can't stand X!\", \n",
    "# or \"Oh really, I've never had X!\" depending on whether \n",
    "# the input is in my_faves and my_hates\n",
    "\n",
    "my_faves = ['ice cream', 'cake']\n",
    "my_hates = ['rice pudding', 'spotted dick', 'mince pie', 'lardy cake', 'syllabub']\n",
    "\n",
    "your_fave = input('What is your favorite dessert? ')\n",
    "\n",
    "\n",
    "# The my_hates list is longer but contains more obscure items\n",
    "# so it is likely better to have it evaluated after my_faves\n",
    "if your_fave.lower() in my_faves:\n",
    "    print('I love ' + your_fave + ' too!')\n",
    "elif your_fave.lower() in my_hates:\n",
    "    print(\"Oh no, I can't stand \" + your_fave + \"!\")\n",
    "else:\n",
    "    print(\"Oh really, I've never had \" + your_fave + \"!\")\n",
    "    "
   ]
  },
  {
   "cell_type": "markdown",
   "metadata": {
    "slideshow": {
     "slide_type": "slide"
    }
   },
   "source": [
    "## Iteration: Exercise\n",
    "\n",
    "Using loops, write a program to print the following pattern:\n",
    "\n",
    "![Iteration exercise](figs/iteration_exercise.png \"Iteration exercise\")"
   ]
  },
  {
   "cell_type": "code",
   "execution_count": 3,
   "metadata": {
    "scrolled": true,
    "slideshow": {
     "slide_type": "-"
    }
   },
   "outputs": [
    {
     "name": "stdout",
     "output_type": "stream",
     "text": [
      "*\n",
      "**\n",
      "***\n",
      "****\n",
      "*****\n",
      "****\n",
      "***\n",
      "**\n",
      "*\n"
     ]
    }
   ],
   "source": [
    "# Use two for-loops, range(), and the multiplication operator for strings\n",
    "\n",
    "for i in range(1, 6):\n",
    "    print(i * '*')\n",
    "for i in range(4, 0, -1):\n",
    "    print(i * '*')"
   ]
  },
  {
   "cell_type": "markdown",
   "metadata": {
    "slideshow": {
     "slide_type": "slide"
    }
   },
   "source": [
    "## List Comprehensions: Exercise\n",
    "\n",
    "Rewrite the following code using a list comprehension:\n",
    "\n",
    "```\n",
    "sentence = \"the quick brown fox jumps over the lazy dog\"\n",
    "words = sentence.split()\n",
    "word_lengths = []\n",
    "for word in words:\n",
    "      if word != \"the\":\n",
    "          word_lengths.append(len(word))\n",
    "print(word_lengths)\n",
    "```"
   ]
  },
  {
   "cell_type": "code",
   "execution_count": 1,
   "metadata": {
    "slideshow": {
     "slide_type": "-"
    }
   },
   "outputs": [
    {
     "name": "stdout",
     "output_type": "stream",
     "text": [
      "[5, 5, 3, 5, 4, 4, 3]\n"
     ]
    }
   ],
   "source": [
    "# We reduce 3 lines of code to 1 and speed up the calculation\n",
    "# Keep in mind, however, that some unexperienced Python prgrammers\n",
    "# find list comprehensions opaque, so there is a tradeoff \n",
    "# with legibility\n",
    "\n",
    "sentence = \"the quick brown fox jumps over the lazy dog\"\n",
    "words = sentence.split()\n",
    "word_lengths = [len(word) for word in words if word != \"the\"]\n",
    "print(word_lengths)"
   ]
  },
  {
   "cell_type": "markdown",
   "metadata": {
    "slideshow": {
     "slide_type": "slide"
    }
   },
   "source": [
    "## Efficient Iteration: Exercise\n",
    "\n",
    "Rewrite the following code to make it more efficient:\n",
    "\n",
    "```\n",
    "tokens = []\n",
    "for line in textfile:\n",
    "    words = line.strip().split()\n",
    "    words = [word.lower() for word in words]\n",
    "    words = [word.replace('-', '') for word in words]\n",
    "    for word in words:\n",
    "        tokens.append(word)\n",
    "```"
   ]
  },
  {
   "cell_type": "code",
   "execution_count": null,
   "metadata": {
    "slideshow": {
     "slide_type": "-"
    }
   },
   "outputs": [],
   "source": [
    "# Place all operations under one loop if possible\n",
    "tokens = []\n",
    "for line in textfile:\n",
    "    words = line.strip().split()\n",
    "    for word in words:\n",
    "        tokens.append(word.lower().replace('-', ''))"
   ]
  },
  {
   "cell_type": "code",
   "execution_count": null,
   "metadata": {
    "slideshow": {
     "slide_type": "fragment"
    }
   },
   "outputs": [],
   "source": [
    "# Using list comprehensions and inbuilt functions such as extend()\n",
    "# instead of loops can often speed up performance\n",
    "tokens = []\n",
    "for line in textfile:\n",
    "    words = line.strip().split()\n",
    "    words = [word.lower().replace('-', '') for word in words]\n",
    "    tokens.extend(words)\n",
    "\n",
    "# You could also put all of this in one list comprehension.\n",
    "# This will be the fastest solution but it comes at the expense of legibility\n",
    "tokens = [word.lower().replace('-', '') for line in textfile for word in line.strip().split()]"
   ]
  }
 ],
 "metadata": {
  "kernelspec": {
   "display_name": "Python 3 (ipykernel)",
   "language": "python",
   "name": "python3"
  },
  "language_info": {
   "codemirror_mode": {
    "name": "ipython",
    "version": 3
   },
   "file_extension": ".py",
   "mimetype": "text/x-python",
   "name": "python",
   "nbconvert_exporter": "python",
   "pygments_lexer": "ipython3",
   "version": "3.9.7"
  }
 },
 "nbformat": 4,
 "nbformat_minor": 2
}
