{
 "cells": [
  {
   "cell_type": "markdown",
   "metadata": {
    "slideshow": {
     "slide_type": "slide"
    }
   },
   "source": [
    "### MY470 Computer Programming\n",
    "\n",
    "### Problem Set 0 (FORMATIVE)\n",
    "\n",
    "#### \\*\\*\\* Example Answers \\*\\*\\*"
   ]
  },
  {
   "cell_type": "markdown",
   "metadata": {
    "slideshow": {
     "slide_type": "slide"
    }
   },
   "source": [
    "---\n",
    "### Working with text\n",
    "\n",
    "For this problem set, we will use the text in the file kafka_trial.txt. The file contains the first paragraph from Franz Kafka's book *The Trial*, which you can find on [Project Gutenberg](http://www.gutenberg.org/ebooks/7849).\n",
    "\n",
    "**Your answers should only use string methods and built-in functions.** You are not allowed to use conditionals and for- or while- loops."
   ]
  },
  {
   "cell_type": "markdown",
   "metadata": {},
   "source": [
    "### Problem 1: How many words?\n",
    "\n",
    "Print the number of words in the text. Enter your code in the cell below. The cell already contains code that takes the text from the file and saves it as a string in the variable txt. Note that the text contains new line characters \"\\n\".\n",
    "\n",
    "#### Hints\n",
    "\n",
    "Count words with apostrophes, e.g. \"didn't\", as one word. Do not count punctuation marks, e.g. hyphens \"-\", as words. Attention to detail is important here!"
   ]
  },
  {
   "cell_type": "code",
   "execution_count": 1,
   "metadata": {
    "scrolled": false
   },
   "outputs": [
    {
     "name": "stdout",
     "output_type": "stream",
     "text": [
      "Someone must have been telling lies about Josef K., he knew he had\n",
      "done nothing wrong but, one morning, he was arrested.  Every day at\n",
      "eight in the morning he was brought his breakfast by  Mrs. Grubach's\n",
      "cook - Mrs. Grubach was his landlady - but today she didn't come.  That\n",
      "had never happened before.  K. waited a little while, looked from his\n",
      "pillow at the old woman who lived opposite and who was watching him with\n",
      "an inquisitiveness quite unusual for her, and finally, both hungry and\n",
      "disconcert\n",
      "The text contains 1425 words.\n"
     ]
    }
   ],
   "source": [
    "# Open the file and get the text into a string variable called txt\n",
    "# We will use a relative path, so make sure your data repository\n",
    "# is saved at the expected level\n",
    "with open('../data/kafka_trial.txt') as f:\n",
    "    txt = f.read()\n",
    "    \n",
    "# Show the first 500 characters of the txt variable\n",
    "print(txt[:500]) \n",
    "\n",
    "# Replace the new line character '\\n' with whitespace ' ' \n",
    "txt = txt.replace('\\n', ' ')\n",
    "\n",
    "# Remove all punctuation from the text, which includes . , ; \" - ? !\n",
    "# Break long stringing of methods into two lines to improve legibility\n",
    "# Each time you call replace, you go over the whole text, so you \n",
    "# should not call it unless you need to; otherwise, your code \n",
    "# will not scale up well\n",
    "txt = txt.replace('.', '').replace(',', '').replace('\"', '').replace('-', '')\n",
    "txt = txt.replace('?', '').replace(';', '').replace('!', '')\n",
    "\n",
    "# Convert the string to lowercase\n",
    "txt = txt.lower()\n",
    "\n",
    "# Split the string into a list of words and print how long the list is\n",
    "word_lst = txt.split()\n",
    "print('The text contains', len(word_lst), 'words.')"
   ]
  },
  {
   "cell_type": "markdown",
   "metadata": {},
   "source": [
    "---\n",
    "### Problem 2: How many unique words?\n",
    "\n",
    "Print the number of unique words in the text. Enter your code in the cell below. \n",
    "\n",
    "#### Hints\n",
    "\n",
    "Count contractions, e.g. \"didn't\", and possessives , e.g. \"policeman's\", as distinct words but ignore formatting such as capitalization and quotation marks. "
   ]
  },
  {
   "cell_type": "code",
   "execution_count": 2,
   "metadata": {},
   "outputs": [
    {
     "name": "stdout",
     "output_type": "stream",
     "text": [
      "The text contains 506 unique words.\n"
     ]
    }
   ],
   "source": [
    "# Create a set from the list to get the unique words\n",
    "# Then use the len() function on the set to count the number of unique words\n",
    "\n",
    "word_set = set(word_lst)\n",
    "print('The text contains', len(word_set), 'unique words.')"
   ]
  },
  {
   "cell_type": "markdown",
   "metadata": {},
   "source": [
    "---\n",
    "### Problem 3: How common are certain words?\n",
    "\n",
    "Consider the words \"the\", \"a\", \"and\", \"man\", and \"time\". Create a dictionary where each of these words is a key and the value is the number of times the word appears in the text. Then print five lines of text, each containing one of the words and the number of times it appears. Your answer should look as follows, where `XX` is the corresponding count:\n",
    "```\n",
    "the: XX\n",
    "a: XX\n",
    "and: XX\n",
    "man: XX\n",
    "time: XX\n",
    "```"
   ]
  },
  {
   "cell_type": "code",
   "execution_count": 3,
   "metadata": {},
   "outputs": [
    {
     "name": "stdout",
     "output_type": "stream",
     "text": [
      "the: 61\n",
      "a: 20\n",
      "and: 37\n",
      "man: 9\n",
      "time: 7\n"
     ]
    }
   ],
   "source": [
    "# We will manually create the dictionary and then use dictionary indexing\n",
    "# to print the correct output\n",
    "\n",
    "word_dic = {'the': word_lst.count('the'), 'a': word_lst.count('a'), 'and': word_lst.count('and'),\n",
    "           'man': word_lst.count('man'), 'time': word_lst.count('time')}\n",
    "print('the:', word_dic['the'])   \n",
    "print('a:', word_dic['a'])   \n",
    "print('and:', word_dic['and'])  \n",
    "print('man:', word_dic['man'])  \n",
    "print('time:', word_dic['time'])  "
   ]
  },
  {
   "cell_type": "markdown",
   "metadata": {},
   "source": [
    "---\n",
    "### Problem 4: Sort the words alphabetically\n",
    "\n",
    "Sort the unique words in the text alphabetically. Then print the first 10 unique words in alphabetical order. Then print the last 10 unique words in reverse alphabetical order.\n",
    "\n",
    "#### Hints\n",
    "\n",
    "Think about efficiency here and avoid unnecessary operations.\n",
    " "
   ]
  },
  {
   "cell_type": "code",
   "execution_count": 4,
   "metadata": {},
   "outputs": [
    {
     "name": "stdout",
     "output_type": "stream",
     "text": [
      "First ten words in alphabetical order: ['a', 'about', 'accepted', 'accost', 'acknowledged', 'acquaintance', 'act', 'acted', 'actually', 'advantage']\n",
      "Last ten words in reverse alphabetical order: ['yourself', 'your', \"you've\", \"you're\", \"you'll\", \"you'd\", 'you', 'year', 'wrong', \"wouldn't\"]\n"
     ]
    }
   ],
   "source": [
    "# Note that the function sorted() can take a set but returns a list\n",
    "# The method sort(), however, is a list method and would not work on a set\n",
    "sorted_unique_word_lst = sorted(word_set)\n",
    "\n",
    "# Use slicing to get the first and last 10 words\n",
    "# Note that there is no need to reverse the whole list when you only need \n",
    "# 10 items in reverse order\n",
    "print('First ten words in alphabetical order:', sorted_unique_word_lst[:10])\n",
    "print('Last ten words in reverse alphabetical order:', sorted_unique_word_lst[:-11:-1])"
   ]
  },
  {
   "cell_type": "markdown",
   "metadata": {},
   "source": [
    "---\n",
    "\n",
    "### Evaluation\n",
    "\n",
    "This problem set is formative and does not count towards your final mark for the course. Hence, we will provide only feedback. \n",
    "\n",
    "| Problem |  Comment   \n",
    "|:-------:|:----------------------\n",
    "| 1       |               \n",
    "| 2       |   \n",
    "| 3       |   \n",
    "| 4       |  \n",
    "| Correct submission       |  \n",
    "| Code legibility |  \n",
    "|**Overall**| "
   ]
  }
 ],
 "metadata": {
  "kernelspec": {
   "display_name": "Python 3 (ipykernel)",
   "language": "python",
   "name": "python3"
  },
  "language_info": {
   "codemirror_mode": {
    "name": "ipython",
    "version": 3
   },
   "file_extension": ".py",
   "mimetype": "text/x-python",
   "name": "python",
   "nbconvert_exporter": "python",
   "pygments_lexer": "ipython3",
   "version": "3.9.7"
  }
 },
 "nbformat": 4,
 "nbformat_minor": 2
}
