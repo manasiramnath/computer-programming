{
 "cells": [
  {
   "cell_type": "markdown",
   "metadata": {
    "slideshow": {
     "slide_type": "slide"
    }
   },
   "source": [
    "## MY470 Computer Programming\n",
    "# Working with Strings and Lists in Python\n",
    "### Week 2 Lab: \\*\\*\\* Example Answers \\*\\*\\*"
   ]
  },
  {
   "cell_type": "code",
   "execution_count": 1,
   "metadata": {
    "slideshow": {
     "slide_type": "slide"
    }
   },
   "outputs": [
    {
     "name": "stdout",
     "output_type": "stream",
     "text": [
      "rr ee dd\n"
     ]
    }
   ],
   "source": [
    "# Exercise 1: Make three new strings from the first and last, \n",
    "# second and second to last, and third and third to last letters \n",
    "# in the string below. Print the three strings.\n",
    "\n",
    "palindrome = 'redder'\n",
    "\n",
    "\n",
    "# Answer: This exercise asks you to practice indexing\n",
    "new1 = palindrome[0] + palindrome[-1]\n",
    "new2 = palindrome[1] + palindrome[-2]\n",
    "new3 = palindrome[2] + palindrome[-3]\n",
    "\n",
    "print(new1, new2, new3)"
   ]
  },
  {
   "cell_type": "code",
   "execution_count": 2,
   "metadata": {
    "slideshow": {
     "slide_type": "-"
    }
   },
   "outputs": [
    {
     "name": "stdout",
     "output_type": "stream",
     "text": [
      "I canceled my traveling plans.\n",
      "I canceled my traveling plans.\n",
      "I canceled my traveling plans.\n"
     ]
    }
   ],
   "source": [
    "# Exercise 2: Make a new string that is the same as string1 but \n",
    "# with the 8th and 22nd characters missing.\n",
    "\n",
    "string1 = 'I cancelled my travelling plans.'\n",
    "\n",
    "# Answer: This exercise asks you to practice slicing\n",
    "new = string1[:7] + string1[8:21] + string1[22:]\n",
    "print(new)\n",
    "\n",
    "# Now you can see that essentially we are asking you to change \n",
    "# from British English to American English. \n",
    "# If you knew that, you could have done it another way:\n",
    "new = string1.replace('travelling', 'traveling').replace('cancelled', 'canceled')\n",
    "print(new)\n",
    "\n",
    "# Of course, there are more ways to do this, e.g.\n",
    "new = list(string1)\n",
    "new.pop(21)\n",
    "new.pop(7)\n",
    "print(''.join(new))"
   ]
  },
  {
   "cell_type": "code",
   "execution_count": 3,
   "metadata": {
    "slideshow": {
     "slide_type": "slide"
    }
   },
   "outputs": [
    {
     "name": "stdout",
     "output_type": "stream",
     "text": [
      "This is a very badly formatted string - i would like to make it cleaner.\n",
      "This is a very badly formatted string - I would like to make it cleaner.\n"
     ]
    }
   ],
   "source": [
    "# Exercise 3: Remove the trailing white space in the string below, \n",
    "# replace all double spaces with single space, and format to a sentence \n",
    "# with proper punctuation. Print the resulting string.\n",
    "\n",
    "string1 = '  this  is a very badly.  formatted string -  I would  like to make it cleaner\\n'\n",
    "\n",
    "# Answer: This exercise asks you to practice string methods\n",
    "new = string1.strip().replace('  ', ' ').capitalize().replace('.', '') + '.'\n",
    "print(new)\n",
    "# Hmm, it looks like capitalize() makes everything in the sentence \n",
    "# lower case, which is bad for the pronoun 'I'\n",
    "# We will need to fix this.\n",
    "# Make sure you have the spaces around \"i\", as we will otherwise replace all i's \n",
    "new = new.replace(' i ', ' I ') \n",
    "print(new)"
   ]
  },
  {
   "cell_type": "code",
   "execution_count": 4,
   "metadata": {
    "slideshow": {
     "slide_type": "slide"
    }
   },
   "outputs": [
    {
     "name": "stdout",
     "output_type": "stream",
     "text": [
      "['apple', 'orange', 'pear', 'cherry']\n"
     ]
    }
   ],
   "source": [
    "# Exercise 4: Convert the string below to a list\n",
    "\n",
    "s = \"['apple', 'orange', 'pear', 'cherry']\"\n",
    "\n",
    "# Answer: You might think that list(s) would work, but it doesn't, \n",
    "# as it interprets each character as an element. To answer this, \n",
    "# you need to format the string so that it looks like something \n",
    "# you can apply split() to\n",
    "ls = s.lstrip('[').rstrip(']').replace(\"'\",'').split(', ')\n",
    "print(ls)\n"
   ]
  },
  {
   "cell_type": "code",
   "execution_count": 5,
   "metadata": {
    "slideshow": {
     "slide_type": "-"
    }
   },
   "outputs": [
    {
     "name": "stdout",
     "output_type": "stream",
     "text": [
      "desserts reward\n",
      "desserts reward\n"
     ]
    }
   ],
   "source": [
    "# Exercise 5: Reverse the strings below.\n",
    "\n",
    "semordnilap1 = 'stressed'\n",
    "semordnilap2 = 'drawer'\n",
    "\n",
    "\n",
    "# Answer: Unfortunately, strings don't have a reverse() method. \n",
    "\n",
    "# One solution is to create a list from the string, reverse the list and then join\n",
    "new1 = ''.join(reversed(list(semordnilap1)))\n",
    "new2 = ''.join(reversed(list(semordnilap2)))\n",
    "print(new1, new2)\n",
    "\n",
    "# Another solution is to use the extended slicing we covered in class\n",
    "print(semordnilap1[::-1], semordnilap2[::-1])"
   ]
  },
  {
   "cell_type": "code",
   "execution_count": 6,
   "metadata": {
    "slideshow": {
     "slide_type": "slide"
    }
   },
   "outputs": [
    {
     "name": "stdout",
     "output_type": "stream",
     "text": [
      "['*', '*', '*', '*', '*', '*', '*', '*', '*', '*']\n"
     ]
    }
   ],
   "source": [
    "# Exercise 6: Use a list operation to create a list of ten elements, \n",
    "# each of which is '*'\n",
    "\n",
    "# Answer: Multiply a list with one '*' by 10\n",
    "print(10*['*'])"
   ]
  },
  {
   "cell_type": "code",
   "execution_count": 7,
   "metadata": {
    "slideshow": {
     "slide_type": "-"
    }
   },
   "outputs": [
    {
     "name": "stdout",
     "output_type": "stream",
     "text": [
      "['dogs', 'cows', 'rabbits', 'cats']\n",
      "eat\n",
      "{'grass', 'meat'}\n"
     ]
    }
   ],
   "source": [
    "# Exercise 7: Assign each of the three elements in the list below \n",
    "# to three variables a, b, c\n",
    "ls = [['dogs', 'cows', 'rabbits', 'cats'], 'eat', {'meat', 'grass'}]\n",
    "\n",
    "# Answer: You can do multiple assignment in Python. \n",
    "# This is a useful way to unpack tuples and lists.\n",
    "a, b, c = ls\n",
    "print(a)\n",
    "print(b)\n",
    "print(c)"
   ]
  },
  {
   "cell_type": "code",
   "execution_count": 8,
   "metadata": {
    "slideshow": {
     "slide_type": "-"
    }
   },
   "outputs": [
    {
     "name": "stdout",
     "output_type": "stream",
     "text": [
      "[0, 0, 0, [1, 1, 1]]\n",
      "[0, 0, 0, [1, 1, 1, 100]]\n"
     ]
    }
   ],
   "source": [
    "# Exercise 8: Replace the last element in ls1 with ls2\n",
    "ls1 = [0, 0, 0, 1]\n",
    "ls2 = [1, 1, 1]\n",
    "\n",
    "# Answer: Use indexing to access and change a list's element.\n",
    "ls1[-1] = ls2\n",
    "print(ls1)\n",
    "# Be aware that this solution is using aliasing. Changing ls2 will change ls1\n",
    "ls2.append(100)\n",
    "print(ls1)"
   ]
  },
  {
   "cell_type": "code",
   "execution_count": 9,
   "metadata": {
    "slideshow": {
     "slide_type": "slide"
    }
   },
   "outputs": [
    {
     "name": "stdout",
     "output_type": "stream",
     "text": [
      "[0, 1, 2, 3, 4, 5, 6, 7, 9]\n"
     ]
    }
   ],
   "source": [
    "# Exercise 9: Create a new list that contains only unique elements from list x\n",
    "\n",
    "x = [1, 5, 4, 5, 6, 2, 3, 2, 9, 9, 9, 0, 2, 5, 7]\n",
    "\n",
    "# Answer: Create a set from the list and then convert to list again. \n",
    "# Can sort, if necessary.\n",
    "unique_ls = list(set(x))\n",
    "unique_ls.sort()\n",
    "print(unique_ls)"
   ]
  },
  {
   "cell_type": "code",
   "execution_count": 10,
   "metadata": {
    "slideshow": {
     "slide_type": "-"
    }
   },
   "outputs": [
    {
     "name": "stdout",
     "output_type": "stream",
     "text": [
      "{'green', 'red', 'blue'}\n"
     ]
    }
   ],
   "source": [
    "# Exercise 10: Print the elements that occur both in list a and list b\n",
    "\n",
    "a = ['red', 'orange', 'brown', 'blue', 'purple', 'green']\n",
    "b = ['blue', 'cyan', 'green', 'pink', 'red', 'yellow']\n",
    "\n",
    "# Answer: Use sets and their intersection\n",
    "print(set(a) & set(b))"
   ]
  },
  {
   "cell_type": "code",
   "execution_count": 11,
   "metadata": {
    "slideshow": {
     "slide_type": "-"
    }
   },
   "outputs": [
    {
     "name": "stdout",
     "output_type": "stream",
     "text": [
      "0.1 6\n",
      "0.1 6\n"
     ]
    }
   ],
   "source": [
    "# Exercise 11: Print the second smallest and the second largest numbers \n",
    "# in this list of unique numbers\n",
    "\n",
    "x = [2, 5, 0.7, 0.2, 0.1, 6, 7, 3, 1, 0, 0.3]\n",
    "\n",
    "# Answer: This one requires some ingenuity. One solution is to identify \n",
    "# the min() and max() in the list, remove them and then do it again. \n",
    "# This would work because the numbers don't repeat.\n",
    "newx = x[:]\n",
    "newx.remove(max(x))\n",
    "newx.remove(min(x))\n",
    "print(min(newx), max(newx))\n",
    "\n",
    "# Another option is to sort the list and return the second and \n",
    "# last to second elements. Again, this would work here only because \n",
    "# there is not more than one instance of the same number in the list.\n",
    "x.sort()\n",
    "print(x[1], x[-2])\n"
   ]
  },
  {
   "cell_type": "code",
   "execution_count": 12,
   "metadata": {
    "slideshow": {
     "slide_type": "slide"
    }
   },
   "outputs": [
    {
     "name": "stdout",
     "output_type": "stream",
     "text": [
      "[1, 2, 3, 4, 5, 'a', 'b', 'c', 'd']\n",
      "[1, 2, 3, 4, 5, 'a', 'b', 'c', 'd']\n",
      "\n",
      "[1, 2, 3, 4, 5, 6, 'a', 'b', 'c', 'd']\n",
      "Modifying c has changed a: a = [1, 2, 3, 4, 5, 6, 'a', 'b', 'c', 'd']\n",
      "And modifying a changes c: c = [1, 2, 3, 4, 5, 6, 'a', 'b', 'c', 'd', 7]\n",
      "\n",
      "[1, 2, 3, 4, 5, 'a', 'b', 'c', 'd']\n",
      "Modify a but not c: a = [1, 2, 3, 4, 5, 6] , c = [1, 2, 3, 4, 5, 'a', 'b', 'c', 'd']\n"
     ]
    }
   ],
   "source": [
    "# Exercise 12: Create a new list c that contains the elements of \n",
    "# list a and b. Watch out for aliasing - you need to avoid it here\n",
    "\n",
    "a = [1, 2, 3, 4, 5]\n",
    "b = ['a', 'b', 'c', 'd']\n",
    "\n",
    "# Answer: The easiest way is to use the '+' operator\n",
    "c = a + b\n",
    "print(c)\n",
    "\n",
    "# Check for aliasing - no issue\n",
    "a.append(6)\n",
    "print(c)\n",
    "\n",
    "print() # need some space between prints for legibility\n",
    "\n",
    "# Another way is to use the extend() method but then you need to \n",
    "# account for aliasing\n",
    "# Here is the wrong way to do it\n",
    "c = a\n",
    "c.extend(b)\n",
    "print(c)\n",
    "# Here is why it is wrong: \n",
    "print('Modifying c has changed a: a =', a)\n",
    "a.append(7)\n",
    "print('And modifying a changes c: c =', c)\n",
    "\n",
    "print() # need some space between prints for legibility\n",
    "\n",
    "# Here is the right way:\n",
    "a = [1, 2, 3, 4, 5]\n",
    "b = ['a', 'b', 'c', 'd']\n",
    "c = a[:]\n",
    "c.extend(b)\n",
    "print(c)\n",
    "# Cloned, not aliased:\n",
    "a.append(6)\n",
    "print('Modify a but not c: a =', a, ', c =', c)"
   ]
  }
 ],
 "metadata": {
  "celltoolbar": "Slideshow",
  "kernelspec": {
   "display_name": "Python 3 (ipykernel)",
   "language": "python",
   "name": "python3"
  },
  "language_info": {
   "codemirror_mode": {
    "name": "ipython",
    "version": 3
   },
   "file_extension": ".py",
   "mimetype": "text/x-python",
   "name": "python",
   "nbconvert_exporter": "python",
   "pygments_lexer": "ipython3",
   "version": "3.9.7"
  }
 },
 "nbformat": 4,
 "nbformat_minor": 2
}
