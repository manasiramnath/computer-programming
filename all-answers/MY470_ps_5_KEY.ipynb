{
 "cells": [
  {
   "cell_type": "markdown",
   "metadata": {
    "slideshow": {
     "slide_type": "slide"
    }
   },
   "source": [
    "### MY470 Computer Programming\n",
    "\n",
    "### Problem Set 5\n",
    "\n",
    "#### \\*\\*\\* Example Answers \\*\\*\\*"
   ]
  },
  {
   "cell_type": "markdown",
   "metadata": {
    "slideshow": {
     "slide_type": "slide"
    }
   },
   "source": [
    "---\n",
    "### Practicing order of growth analysis\n",
    "\n",
    "This assessment takes the form of a more traditional problem set, where each problem stands by itself and is unrelated to the others.\n",
    "\n",
    "**You are expected to complete the problems on your own.**\n",
    "\n",
    "**After completing the problem set, please do not discuss it with students who have not taken it yet!**\n",
    "\n",
    "---"
   ]
  },
  {
   "cell_type": "markdown",
   "metadata": {},
   "source": [
    "\n",
    "### Instructions for Problems 1–5\n",
    "\n",
    "Give the order of growth for the function and explain your reasoning in a couple of sentences."
   ]
  },
  {
   "cell_type": "markdown",
   "metadata": {},
   "source": [
    "#### Problem 1"
   ]
  },
  {
   "cell_type": "code",
   "execution_count": 1,
   "metadata": {
    "collapsed": true
   },
   "outputs": [],
   "source": [
    "def is_prime(x):\n",
    "    \"\"\"Take an integer greater than 1 and check if it is a prime number.\n",
    "    Return True if prime, False otherwise.\n",
    "    \"\"\"\n",
    "    for i in range(2, int(x**0.5) + 1):\n",
    "        if x % i == 0:\n",
    "            return False\n",
    "    return True\n",
    "\n",
    "# The runtime of the function is O(sqrt(x)). \n",
    "# We only look at the loop as the other code is constant.\n",
    "# The loop starts from 2 and goes until sqrt(x), so that gives O(sqrt(x))."
   ]
  },
  {
   "cell_type": "markdown",
   "metadata": {},
   "source": [
    "#### Problem 2"
   ]
  },
  {
   "cell_type": "code",
   "execution_count": 2,
   "metadata": {
    "collapsed": true
   },
   "outputs": [],
   "source": [
    "def multiply(a, b):\n",
    "    \"\"\"Take two integers and compute their product.\"\"\"\n",
    "    res = 0\n",
    "    for i in range(1, b + 1):\n",
    "        res += a\n",
    "    return res\n",
    "\n",
    "# The runtime of the function is O(b). \n",
    "# The function iterates over b only, so the size of a is irrelevant."
   ]
  },
  {
   "cell_type": "markdown",
   "metadata": {},
   "source": [
    "#### Problem 3"
   ]
  },
  {
   "cell_type": "code",
   "execution_count": 3,
   "metadata": {
    "collapsed": true
   },
   "outputs": [],
   "source": [
    "def div(a, b):\n",
    "    \"\"\"Assume a and be are numeric, a > 0 and b > 0.\n",
    "    Perform integer division.\n",
    "    \"\"\"\n",
    "    counter = 0\n",
    "    summ = b\n",
    "    while summ <= a:\n",
    "        summ += b\n",
    "        counter += 1\n",
    "    return counter  \n",
    "\n",
    "# The runtime of the function is O(a/b). \n",
    "# The while loop iterates until it gets the correct answer, which is a/b."
   ]
  },
  {
   "cell_type": "markdown",
   "metadata": {},
   "source": [
    "#### Problem 4"
   ]
  },
  {
   "cell_type": "code",
   "execution_count": 4,
   "metadata": {
    "collapsed": true
   },
   "outputs": [],
   "source": [
    "def modulo(a, b):\n",
    "    \"\"\"Take numbers a and b and compute a % b.\"\"\"\n",
    "    if b <= 0:\n",
    "        return None\n",
    "    div = int(a / b)\n",
    "    return a - div*b\n",
    "\n",
    "# The runtime of the function is O(1). \n",
    "# The function does a constant amount of work regardless of the input."
   ]
  },
  {
   "cell_type": "markdown",
   "metadata": {},
   "source": [
    "#### Problem 5"
   ]
  },
  {
   "cell_type": "code",
   "execution_count": 5,
   "metadata": {
    "collapsed": true
   },
   "outputs": [],
   "source": [
    "def power(a, b):\n",
    "    \"\"\"Take number a and non-negative integer b.\n",
    "    Compute a**b.\n",
    "    \"\"\"\n",
    "    if b == 0:\n",
    "        return 1\n",
    "    else:\n",
    "        return a * power(a, b - 1)\n",
    "\n",
    "# The runtime of the function is O(b). \n",
    "# The function makes b recursive calls, since each time it decreases b by 1."
   ]
  },
  {
   "cell_type": "markdown",
   "metadata": {},
   "source": [
    "\n",
    "### Instructions for Problems 6–7\n",
    "\n",
    "Write the function as described in the docstring and called under. Then, give the order of growth for the function and explain your reasoning in a couple of sentences."
   ]
  },
  {
   "cell_type": "markdown",
   "metadata": {},
   "source": [
    "#### Problem 6"
   ]
  },
  {
   "cell_type": "code",
   "execution_count": 6,
   "metadata": {},
   "outputs": [
    {
     "name": "stdout",
     "output_type": "stream",
     "text": [
      "[1, 2, 6, 4, 5, 12, 7, 8, 18]\n"
     ]
    }
   ],
   "source": [
    "def double_third(ls):\n",
    "    \"\"\"Take a list of numbers and modify it in place by\n",
    "    multiplying every 3rd number by 2.\n",
    "    \"\"\"\n",
    "    for i in range(len(ls)):\n",
    "        if (i + 1) % 3 == 0:\n",
    "            ls[i] *= 2\n",
    "\n",
    "ls = [1, 2, 3, 4, 5, 6, 7, 8, 9]\n",
    "double_third(ls)\n",
    "print(ls)\n",
    "\n",
    "# The runtime of the function is linear, i.e. O(n), where n is the length of ls. \n",
    "# It iterates over each element of the list and although it executes only n/3 steps,\n",
    "# we ignore constants so that leaves O(n).\n"
   ]
  },
  {
   "cell_type": "markdown",
   "metadata": {},
   "source": [
    "#### Problem 7"
   ]
  },
  {
   "cell_type": "code",
   "execution_count": 7,
   "metadata": {
    "scrolled": false
   },
   "outputs": [
    {
     "name": "stdout",
     "output_type": "stream",
     "text": [
      "['abc', 'ahp', 'bfn', 'hmn']\n"
     ]
    }
   ],
   "source": [
    "def sort_string_list(ls):\n",
    "    \"\"\"Take a list of strings, sort the letters in each string,\n",
    "    and then sort the full list. The list is modified in place.\n",
    "    \"\"\"\n",
    "    for i in range(len(ls)):\n",
    "        ls[i] = ''.join(sorted(ls[i]))\n",
    "    ls.sort()\n",
    "    \n",
    "ls = ['acb', 'mnh', 'pha', 'bfn']\n",
    "sort_string_list(ls)\n",
    "print(ls)\n",
    "\n",
    "# The answer is O(l * s * (log s + log l)), where \n",
    "# s is the length of the longest string and l is the length of the list.\n",
    "# Sorting in Python is O(n log n).\n",
    "# Sorting each string is O(s log s) and this needs to be done l times, \n",
    "# so that gives O(l * s * log s).\n",
    "# Sorting the strings in the list requires that we compare strings to each other, \n",
    "# and since strings are like lists, we will nead to iterate over all characters \n",
    "# in the worst case scenario. This means that sorting the list of strings \n",
    "# will take O(s * l * log l). \n",
    "# When we combine both operations, we get O(l * s * (log s + log l)).\n"
   ]
  },
  {
   "cell_type": "markdown",
   "metadata": {},
   "source": [
    "---\n",
    "\n",
    "### Evaluation\n",
    "\n",
    "| Problem | Mark     | Comment   \n",
    "|:-------:|:--------:|:----------------------\n",
    "| 1       |   /2    |              \n",
    "| 2       |   /2    | \n",
    "| 3       |   /2    | \n",
    "| 4       |   /2    | \n",
    "| 5       |   /2    | \n",
    "| 6       |   /4    | \n",
    "| 7       |   /6    | \n",
    "|**Total**|**/20**  | \n"
   ]
  }
 ],
 "metadata": {
  "kernelspec": {
   "display_name": "Python 3 (ipykernel)",
   "language": "python",
   "name": "python3"
  },
  "language_info": {
   "codemirror_mode": {
    "name": "ipython",
    "version": 3
   },
   "file_extension": ".py",
   "mimetype": "text/x-python",
   "name": "python",
   "nbconvert_exporter": "python",
   "pygments_lexer": "ipython3",
   "version": "3.9.7"
  }
 },
 "nbformat": 4,
 "nbformat_minor": 2
}
