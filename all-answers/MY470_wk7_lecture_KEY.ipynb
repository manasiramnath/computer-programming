{
 "cells": [
  {
   "cell_type": "markdown",
   "metadata": {
    "slideshow": {
     "slide_type": "slide"
    }
   },
   "source": [
    "### MY470 Computer Programming\n",
    "# Testing and Debugging in Python\n",
    "### Week 7 Lecture: \\*\\*\\* Example Answers \\*\\*\\*"
   ]
  },
  {
   "cell_type": "markdown",
   "metadata": {
    "slideshow": {
     "slide_type": "slide"
    }
   },
   "source": [
    "## `try`, `except`, `finally`: Exercise\n",
    "\n",
    "What is the output of the given code? Why?\n",
    "\n",
    "```\n",
    "def myfunc():\n",
    "    try: \n",
    "        return 1\n",
    "    finally: \n",
    "        return 2\n",
    "    \n",
    "print(myfunc())\n",
    "```"
   ]
  },
  {
   "cell_type": "code",
   "execution_count": 2,
   "metadata": {
    "slideshow": {
     "slide_type": "-"
    }
   },
   "outputs": [
    {
     "name": "stdout",
     "output_type": "stream",
     "text": [
      "2\n"
     ]
    }
   ],
   "source": [
    "# The code outputs 2. The function wants to return 1 but since\n",
    "# \"finally\" always gets executed, it goes to that statement instead.\n",
    "# Note that \"except\" is optional.\n",
    "\n",
    "def myfunc():\n",
    "    try: \n",
    "        return 1\n",
    "    finally: \n",
    "        return 2\n",
    "    \n",
    "print(myfunc())"
   ]
  }
 ],
 "metadata": {
  "celltoolbar": "Slideshow",
  "kernelspec": {
   "display_name": "Python 3 (ipykernel)",
   "language": "python",
   "name": "python3"
  },
  "language_info": {
   "codemirror_mode": {
    "name": "ipython",
    "version": 3
   },
   "file_extension": ".py",
   "mimetype": "text/x-python",
   "name": "python",
   "nbconvert_exporter": "python",
   "pygments_lexer": "ipython3",
   "version": "3.7.4"
  }
 },
 "nbformat": 4,
 "nbformat_minor": 2
}
