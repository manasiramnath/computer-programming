{
 "cells": [
  {
   "cell_type": "markdown",
   "metadata": {
    "slideshow": {
     "slide_type": "slide"
    }
   },
   "source": [
    "### MY470 Computer Programming\n",
    "# Writing and Calling Functions in Python\n",
    "### Week 4 Lab: \\*\\*\\* Example Answers \\*\\*\\* "
   ]
  },
  {
   "cell_type": "code",
   "execution_count": 19,
   "metadata": {
    "slideshow": {
     "slide_type": "fragment"
    }
   },
   "outputs": [
    {
     "name": "stdout",
     "output_type": "stream",
     "text": [
      "[1, 2, 3]\n",
      "[0, 0, 0]\n"
     ]
    }
   ],
   "source": [
    "# Exercise 1: Rewrite the function definition and call above \n",
    "# to accomplish what the function intends to do.\n",
    "\n",
    "# Solution: Just save the new list in a variable and return it\n",
    "\n",
    "def zero_list(alist):\n",
    "    \"\"\"Takes a list and returns another list of the same length \n",
    "    that looks like [0, 0, 0, ...].\n",
    "    \"\"\"\n",
    "    # Don't use the same name as the argument to avoid confusion\n",
    "    newlist = [0]*len(alist)  \n",
    "    return newlist\n",
    "\n",
    "mylist = [1, 2, 3]\n",
    "# You need to save the list the function returns in a variable\n",
    "zerolist = zero_list(mylist)  \n",
    "print(mylist) # Original list is not modified\n",
    "print(zerolist)\n"
   ]
  },
  {
   "cell_type": "code",
   "execution_count": 22,
   "metadata": {
    "slideshow": {
     "slide_type": "-"
    }
   },
   "outputs": [
    {
     "name": "stdout",
     "output_type": "stream",
     "text": [
      "Alan Turing was a mathematician.\n",
      "Richard Feynman was a physicist.\n",
      "Marie Curie was a chemist.\n",
      "Charles Darwin was a biologist.\n",
      "Ada Lovelace was a mathematician.\n",
      "Werner Heisenberg was a physicist.\n"
     ]
    }
   ],
   "source": [
    "# Exercise 2: Rewrite the code using a function and a suitable data structure.\n",
    "\n",
    "\n",
    "# Solution: Use a dictionary to store the data and a function \n",
    "# that reads the dictionary and prints each sentence. There is \n",
    "# less of a chance to make a typo if you carefully write \n",
    "# the function once instead of copying-pasting-and-modifying \n",
    "# each print statement.\n",
    "\n",
    "scientists = {'Alan Turing': 'mathematician', 'Richard Feynman': 'physicist',\n",
    "              'Marie Curie': 'chemist', 'Charles Darwin': 'biologist',\n",
    "              'Ada Lovelace': 'mathematician', 'Werner Heisenberg': 'physicist'}\n",
    "\n",
    "def print_professions(dic):\n",
    "    \"\"\"Takes a dictionary of {Name: profession} and prints\n",
    "    'Name was a profession.'\n",
    "    \"\"\"\n",
    "    for i in dic:\n",
    "        print(i + ' was a ' + dic[i] + '.')\n",
    "        \n",
    "print_professions(scientists)\n"
   ]
  },
  {
   "cell_type": "code",
   "execution_count": 2,
   "metadata": {
    "slideshow": {
     "slide_type": "-"
    }
   },
   "outputs": [
    {
     "name": "stdout",
     "output_type": "stream",
     "text": [
      "8.860022573334675\n",
      "8.860022573334675\n"
     ]
    }
   ],
   "source": [
    "# Consider the following code:\n",
    "\n",
    "# You are given two points in 2-D space\n",
    "x = (1, 1)\n",
    "y = (5, 4)\n",
    "\n",
    "# Calculate the area of the circle if one of the points is the circle center \n",
    "# and the other is on the perimeter and then calculate the side of the square \n",
    "# with the same area\n",
    "r_sq = (x[0] - y[0])**2 + (x[1] - y[1])**2\n",
    "area = 3.14*r_sq\n",
    "sq_side = area**0.5\n",
    "print(sq_side)\n",
    "\n",
    "\n",
    "# Exercise 3: Rewrite the code above using functions \n",
    "# to make it easier to read.\n",
    "\n",
    "\n",
    "# Solution: Break the code into as many meaningful, \n",
    "# self-contained functions as you can.\n",
    "\n",
    "def get_dist(x, y):\n",
    "    \"\"\"Assumes x and y are each a two-sequence of numeric coordinates. \n",
    "    Estimates the distance between x and y.\n",
    "    \"\"\"\n",
    "    return ( (x[0] - y[0])**2 + (x[1] - y[1])**2 )**0.5\n",
    "\n",
    "def get_circle_area(r):\n",
    "    \"\"\"Assumes r is a numeric type. \n",
    "    Estimates the area of a circle with radius r.\n",
    "    \"\"\"\n",
    "    return 3.14*r*r\n",
    "\n",
    "def get_square_side(a):\n",
    "    \"\"\"Assumes a is a numeric type.\n",
    "    Estimates the side of a square with area a.\n",
    "    \"\"\"\n",
    "    return a**0.5\n",
    "\n",
    "# Now just call each function sequentially. \n",
    "# If you have descriptive names for the functions,\n",
    "# there isn't even a need to comment your code!\n",
    "radius = get_dist(x, y)\n",
    "area = get_circle_area(radius)\n",
    "side = get_square_side(area)\n",
    "print(side)"
   ]
  },
  {
   "cell_type": "code",
   "execution_count": 4,
   "metadata": {
    "slideshow": {
     "slide_type": "-"
    }
   },
   "outputs": [
    {
     "name": "stdout",
     "output_type": "stream",
     "text": [
      "[None, None, 2, 178, None, 12, None, None, 12]\n",
      "[None, None, 2, 178, None, 12, None, None, 12]\n"
     ]
    }
   ],
   "source": [
    "# Exercise 4: Using a function and a list comprehension, \n",
    "# create a new list that has the numbers from testlist \n",
    "# if they are positive and None otherwise\n",
    "\n",
    "testlist = [-1, 0, 2, 178, -17.2, 12, -2, -3, 12]\n",
    "\n",
    "\n",
    "# Solution:\n",
    "\n",
    "def positive_or_none(x):\n",
    "    \"\"\"Assumes x is of numeric type.\n",
    "    Returns the number x if it is positive, 0 otherwise.\n",
    "    \"\"\"\n",
    "    if x > 0:\n",
    "        return x\n",
    "    # Remember that a function terminates with return. \n",
    "    # This means that if the condition above is true, \n",
    "    # the function never reaches the return statement below.\n",
    "    # If it is false, it will execute the return below. \n",
    "    # Thus, we can do without \"else\" here. Moreover, \n",
    "    # we don't even need \"return None\" because functions\n",
    "    # return None by default if no return statement is evaluated.\n",
    "    return None \n",
    "\n",
    "newlist = [positive_or_none(i) for i in testlist]\n",
    "print(newlist)\n",
    "\n",
    "# Alternatively, we can use a conditional inside the list comprehension\n",
    "# but this solution is less modular\n",
    "newlist2 = [i if i > 0 else None for i in testlist]\n",
    "print(newlist2)"
   ]
  },
  {
   "cell_type": "code",
   "execution_count": 2,
   "metadata": {
    "slideshow": {
     "slide_type": "-"
    }
   },
   "outputs": [
    {
     "name": "stdout",
     "output_type": "stream",
     "text": [
      "[None, 0.0, None, 89.0, -1.4333333333333333, 24.0, None, -12.0, None]\n",
      "[None, 0.0, None, 89.0, -1.4333333333333333, 24.0, None, -12.0, None]\n"
     ]
    }
   ],
   "source": [
    "# Exercise 5: Using a function and a list comprehension, create \n",
    "# a new list that includes the result from dividing each number \n",
    "# from testlist1 by the corresponding number in testlist2; \n",
    "# For the cases when the divisor is 0, the new list should include None\n",
    "\n",
    "testlist1 = [-1, 0, 2, 178, -17.2, 12, -2, -3, 12]\n",
    "testlist2 = [0, 5, 0, 2, 12, 0.5, 0, 0.25, 0]\n",
    "\n",
    "\n",
    "# Solution: Use range(len(lst1)) to get the indexes of lst1 and lst2\n",
    "# and iterate over their elements simultaneously\n",
    "\n",
    "def divide_or_none(x, y):\n",
    "    \"\"\"Assumes x and y are of numeric type.\n",
    "    Returns x/y unless y=0, in which case returns None.\n",
    "    \"\"\"\n",
    "    if y != 0:\n",
    "        return x/y\n",
    "    return None \n",
    "\n",
    "newlist = [divide_or_none(testlist1[i], testlist2[i]) for i in range(len(testlist1))]\n",
    "print(newlist)\n",
    "\n",
    "# Alternatively, we can use a conditional inside the list comprehension\n",
    "# but this solution is less legible and less modular\n",
    "newlist2 = [testlist1[i] / testlist2[i] if testlist2[i] != 0 else None for i in range(len(testlist1))]\n",
    "print(newlist2)"
   ]
  },
  {
   "cell_type": "code",
   "execution_count": 23,
   "metadata": {
    "slideshow": {
     "slide_type": "-"
    }
   },
   "outputs": [
    {
     "name": "stdout",
     "output_type": "stream",
     "text": [
      "True\n",
      "False\n"
     ]
    }
   ],
   "source": [
    "# Exercise 6: Write a Python function that checks if a string \n",
    "# is a palindrome. A palindrome is a word or a phrase that reads \n",
    "# the same backward as forward. For example, redder, nurses run, dad...\n",
    "\n",
    "# Solution: Start from left and right end and compare letters \n",
    "# until you reach the middle. You need only one pair to be unequal \n",
    "# to know that the string is not a palindrome\n",
    "\n",
    "def is_palindrome(s):\n",
    "    \"\"\"Assumes s is a string. \n",
    "    Returns True if s is a palindrome, False otherwise.\n",
    "    \"\"\"\n",
    "    \n",
    "    # Remove all spaces. Notice that s = s.replace() does not \n",
    "    # overwrite the original string as s is a local variable.\n",
    "    s = s.replace(' ', '') \n",
    "    \n",
    "     # Start from first and last letter\n",
    "    lindex = 0 \n",
    "    rindex = len(s) - 1\n",
    "    \n",
    "    while lindex < rindex:\n",
    "        if s[lindex] != s[rindex]:\n",
    "            return False\n",
    "        lindex += 1\n",
    "        rindex -= 1\n",
    "    \n",
    "    return True\n",
    "\n",
    "print(is_palindrome('nurses run'))\n",
    "print(is_palindrome('nurses walk'))\n",
    "\n",
    "# An alternative solution that is much simpler to implement\n",
    "# would be to reverse a copy of the string and then compare \n",
    "# the two versions. However, notice that this solution is\n",
    "# less efficient both in terms of time and space, since it \n",
    "# requires iterating over all of the data and duplicating them.\n"
   ]
  }
 ],
 "metadata": {
  "celltoolbar": "Slideshow",
  "kernelspec": {
   "display_name": "Python 3 (ipykernel)",
   "language": "python",
   "name": "python3"
  },
  "language_info": {
   "codemirror_mode": {
    "name": "ipython",
    "version": 3
   },
   "file_extension": ".py",
   "mimetype": "text/x-python",
   "name": "python",
   "nbconvert_exporter": "python",
   "pygments_lexer": "ipython3",
   "version": "3.9.7"
  }
 },
 "nbformat": 4,
 "nbformat_minor": 2
}
