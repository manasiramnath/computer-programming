{
 "cells": [
  {
   "cell_type": "markdown",
   "metadata": {
    "slideshow": {
     "slide_type": "slide"
    }
   },
   "source": [
    "### MY470 Computer Programming\n",
    "# Algorithms and Order of Growth\n",
    "### Week 9 Lecture: \\*\\*\\* Example Answers \\*\\*\\*"
   ]
  },
  {
   "cell_type": "markdown",
   "metadata": {
    "slideshow": {
     "slide_type": "slide"
    }
   },
   "source": [
    "## Space Complexity: Exercise 1"
   ]
  },
  {
   "cell_type": "code",
   "execution_count": 27,
   "metadata": {
    "slideshow": {
     "slide_type": "-"
    }
   },
   "outputs": [
    {
     "data": {
      "text/plain": [
       "4950"
      ]
     },
     "execution_count": 27,
     "metadata": {},
     "output_type": "execute_result"
    }
   ],
   "source": [
    "# What is the space complexity of the function pair_list_sum()?\n",
    "\n",
    "def pair_list_sum(lst):\n",
    "    \"\"\"Sum all elements of a list using pair_sum.\n",
    "    Assume elements of the list are numeric type.\n",
    "    \"\"\"\n",
    "    res = 0\n",
    "    for i in range(len(lst)):\n",
    "        if i%2 == 0:\n",
    "            res += pair_sum(lst[i], lst[i+1])\n",
    "    return res \n",
    "    \n",
    "def pair_sum(a, b):\n",
    "    \"\"\"Take numbers a and b and return their sum a + b.\"\"\"\n",
    "    return a + b\n",
    "\n",
    "pair_list_sum(list(range(100)))"
   ]
  },
  {
   "cell_type": "markdown",
   "metadata": {
    "slideshow": {
     "slide_type": "fragment"
    }
   },
   "source": [
    "The space complexity of this algorithm is $O(1)$. There are $O(n)$ calls to the function `pair_sum`, where $n$ is the length of `lst`, but they do not exist simultaneously on the call stack. So you only need O(1) space."
   ]
  },
  {
   "cell_type": "markdown",
   "metadata": {
    "slideshow": {
     "slide_type": "slide"
    }
   },
   "source": [
    "## Space Complexity: Exercise 2"
   ]
  },
  {
   "cell_type": "code",
   "execution_count": 28,
   "metadata": {
    "slideshow": {
     "slide_type": "-"
    }
   },
   "outputs": [
    {
     "name": "stdout",
     "output_type": "stream",
     "text": [
      "55\n"
     ]
    }
   ],
   "source": [
    "# What is the space complexity of the fib() function?\n",
    "\n",
    "def fib(n):\n",
    "    \"\"\"Assume n is a non-negative integer.\n",
    "    Find the n-th Fibonacci number using recursion.\n",
    "    \"\"\"\n",
    "    if n <= 1:\n",
    "        return n\n",
    "    else:\n",
    "        return fib(n - 1) + fib(n - 2)\n",
    "    return answer\n",
    "\n",
    "print(fib(10))"
   ]
  },
  {
   "cell_type": "markdown",
   "metadata": {
    "slideshow": {
     "slide_type": "fragment"
    }
   },
   "source": [
    "The space complexity of this algorithm is $O(n)$. Although we have $O(2^n)$ recursive calls in total, only at most $O(n)$ of them exist at any given time."
   ]
  },
  {
   "cell_type": "markdown",
   "metadata": {
    "slideshow": {
     "slide_type": "slide"
    }
   },
   "source": [
    "## Analyzing and Benchmarking Your Code: Exercise 1"
   ]
  },
  {
   "cell_type": "code",
   "execution_count": 19,
   "metadata": {
    "slideshow": {
     "slide_type": "-"
    }
   },
   "outputs": [
    {
     "name": "stdout",
     "output_type": "stream",
     "text": [
      "[12000.297727272728, 5796.265909090909, 7951.277272727273, 3071.931818181818, 2881.4931818181817, 1524.8704545454545]\n",
      "[12000.297727272728, 5796.265909090909, 7951.277272727273, 3071.931818181818, 2881.4931818181817, 1524.8704545454545]\n"
     ]
    }
   ],
   "source": [
    "# What is the time complexity and actual runtime \n",
    "# of the two get_centroid functions?\n",
    "\n",
    "import csv\n",
    "\n",
    "def get_data():\n",
    "    \"\"\"Read the file Wholesale customers data.csv \n",
    "    and return part of the data as a list of lists.\n",
    "    \"\"\"\n",
    "    with open('Wholesale customers data.csv') as f:\n",
    "        reader = csv.reader(f)\n",
    "        data = [[int(i) for i in row[2:]] for row in reader if row[0] != 'Channel']\n",
    "    return data\n",
    "\n",
    "def get_centroid(pointLists):\n",
    "    \"\"\"Estimate the centroid for a collection of n-dimensional points.\n",
    "    Assume pointLists is a collection of lists of numerical values.\n",
    "    Return a list of numerical values (the coordinates of the centroid).\n",
    "    \"\"\"\n",
    "    num = len(pointLists)\n",
    "    centroids = []\n",
    "    demension = len(pointLists[0])\n",
    "    \n",
    "    for a in range(demension):\n",
    "        centroids.append(0.0)\n",
    "\n",
    "    for i in range(num):\n",
    "        point =  pointLists[i]\n",
    "        for d in range(demension):\n",
    "            centroids[d] = centroids[d] + point[d]\n",
    "            \n",
    "    for a in range(demension):\n",
    "        centroids[a] = centroids[a]/num\n",
    "\n",
    "    return centroids\n",
    "\n",
    "def get_centroid_2(points):\n",
    "    \"\"\"Estimate the centroid for a collection of n-dimensional points.\n",
    "    Assume pointLists is a collection of lists of numerical values.\n",
    "    Return a list of numerical values (the coordinates of the centroid).\n",
    "    \"\"\"\n",
    "    centroid = []\n",
    "    num_points = len(points)\n",
    "    num_dims = len(points[0])\n",
    "    for dim in range(num_dims):\n",
    "        coord = [i[dim] for i in points]\n",
    "        centroid.append(sum(coord)/num_points)\n",
    "    return centroid\n",
    "\n",
    "data = get_data()\n",
    "print(get_centroid(data))\n",
    "print(get_centroid_2(data))"
   ]
  },
  {
   "cell_type": "code",
   "execution_count": 22,
   "metadata": {
    "slideshow": {
     "slide_type": "fragment"
    }
   },
   "outputs": [
    {
     "data": {
      "text/plain": [
       "0.29620604699994146"
      ]
     },
     "execution_count": 22,
     "metadata": {},
     "output_type": "execute_result"
    }
   ],
   "source": [
    "from timeit import timeit\n",
    "\n",
    "# Note that we can import both functions and variables\n",
    "timeit('get_centroid(data)', \n",
    "       setup='from __main__ import get_centroid, data', \n",
    "       number=1000)"
   ]
  },
  {
   "cell_type": "code",
   "execution_count": 23,
   "metadata": {
    "slideshow": {
     "slide_type": "fragment"
    }
   },
   "outputs": [
    {
     "data": {
      "text/plain": [
       "0.11942053200027658"
      ]
     },
     "execution_count": 23,
     "metadata": {},
     "output_type": "execute_result"
    }
   ],
   "source": [
    "timeit('get_centroid_2(data)', \n",
    "       setup='from __main__ import get_centroid_2, data', \n",
    "       number=1000)"
   ]
  },
  {
   "cell_type": "markdown",
   "metadata": {
    "slideshow": {
     "slide_type": "fragment"
    }
   },
   "source": [
    "* The algorithms have the same order of growth: $O(pd)$ where $p$ is the number of points and $d$ is the number of dimensions\n",
    "* However, they have different performance. \n",
    "  * The first algorithm unnecessarily loops two additional times over $d$. Further, in the second loop, it iterates over the indeces of $p$ instead of the items and indexing adds additional overhead. \n",
    "  * The second algorithm is faster even if it does $d$ extra $p$-loops with `sum()` because it uses a list comprehension and a built-in function. The second algorithm is also more concise and easier to follow."
   ]
  },
  {
   "cell_type": "markdown",
   "metadata": {
    "slideshow": {
     "slide_type": "slide"
    }
   },
   "source": [
    "## Analyzing and Benchmarking Your Code: Exercise 2"
   ]
  },
  {
   "cell_type": "code",
   "execution_count": null,
   "metadata": {
    "collapsed": true,
    "slideshow": {
     "slide_type": "-"
    }
   },
   "outputs": [],
   "source": [
    "# The algorithms take two inputs: list coauthors of length c \n",
    "# and dictionary author_dic of length d.\n",
    "# What is the time complexity of the two algorithms?\n",
    "\n",
    "# Algorithm 1\n",
    "for k, v in author_dic.items():\n",
    "    vlst = [sub_list[1] for sub_list in coauthors if sub_list[0] == k and sub_list[1] != k]\n",
    "    vlst = sorted(vlst)\n",
    "    author_dic[k] = vlst\n",
    "    \n",
    "# Algorithm 2\n",
    "for i, j in coauthors:\n",
    "    if j != i:\n",
    "        author_dic[i].append(j)"
   ]
  },
  {
   "cell_type": "markdown",
   "metadata": {
    "slideshow": {
     "slide_type": "fragment"
    }
   },
   "source": [
    "The algorithms have different orders of growth:\n",
    "\n",
    "* Algorithm 2: $O(c)$\n",
    "    * Note that indexing a dictionary and appending to a list are both $O(1)$\n",
    "* Algorithm 1: $O(dc \\log c)$, or $O(dc)$ if sorting is omitted\n",
    "    * Sorting is $O(n \\log n)$\n",
    "    * Indexing a dictionary or a list is $O(1)$\n",
    "    * We have approximately $d (c + c \\log c)$ operations but we keep the dominant term only"
   ]
  }
 ],
 "metadata": {
  "celltoolbar": "Slideshow",
  "kernelspec": {
   "display_name": "Python 3 (ipykernel)",
   "language": "python",
   "name": "python3"
  },
  "language_info": {
   "codemirror_mode": {
    "name": "ipython",
    "version": 3
   },
   "file_extension": ".py",
   "mimetype": "text/x-python",
   "name": "python",
   "nbconvert_exporter": "python",
   "pygments_lexer": "ipython3",
   "version": "3.9.7"
  }
 },
 "nbformat": 4,
 "nbformat_minor": 2
}
