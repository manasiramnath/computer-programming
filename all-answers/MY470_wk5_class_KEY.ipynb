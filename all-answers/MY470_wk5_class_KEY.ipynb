{
 "cells": [
  {
   "cell_type": "markdown",
   "metadata": {
    "slideshow": {
     "slide_type": "slide"
    }
   },
   "source": [
    "### MY470 Computer Programming\n",
    "# Programming in Teams\n",
    "### Week 5 Lab: \\*\\*\\* Example Answers \\*\\*\\* "
   ]
  },
  {
   "cell_type": "code",
   "execution_count": 4,
   "metadata": {
    "slideshow": {
     "slide_type": "slide"
    }
   },
   "outputs": [
    {
     "name": "stdout",
     "output_type": "stream",
     "text": [
      "Customer #1 ordered \"Scarcity: The True Cost of Not Having Enough\", \"Nudge: Improving Decisions About Health, Wealth and Happiness\" for £12.56\n"
     ]
    }
   ],
   "source": [
    "# Exercise 1: Work with the person next to you to design \n",
    "# classes to manage the products, customers, and purchase \n",
    "# orders for an online book store such as amazon.com. \n",
    "# Outline the data attributes and useful methods for \n",
    "# each class. You can discuss and create the outline together. \n",
    "\n",
    "# Solution: This is only a partial solution, demonstrating \n",
    "# to you the application of class hierarchies and \n",
    "# information encapsualtion. Designing a proper class structure \n",
    "# is quite difficult and time-consuming.\n",
    "\n",
    "class Customer(object):\n",
    "    \"\"\"A class to represent a customer of the shop.\"\"\"\n",
    "    \n",
    "    next_unique_id = 1\n",
    "    \n",
    "    def __init__(self, name):\n",
    "        \"\"\"Create new customer.\"\"\"\n",
    "        self.customer_id = Customer.next_unique_id\n",
    "        self.name = name\n",
    "        self.order_history = []\n",
    "        Customer.next_unique_id += 1\n",
    "    \n",
    "    def get_customer_id(self):\n",
    "        \"\"\"Return customer's unique id.\"\"\"\n",
    "        return self.customer_id\n",
    "    \n",
    "    def get_order_history(self):\n",
    "        \"\"\"Return customer's orders one at a time.\"\"\"\n",
    "        for i in self.order_history:\n",
    "            yield i\n",
    "            \n",
    "    def __str__(self):\n",
    "        return 'Customer #' + str(self.customer_id)\n",
    "    \n",
    "class Product(object):\n",
    "    \"\"\"A class to represent a product offered for sale\n",
    "    by the shop.\n",
    "    \"\"\"\n",
    "    \n",
    "    def __init__(self, name):\n",
    "        \"\"\"Create new product.\"\"\"\n",
    "        self.name = name\n",
    "        self.price = None\n",
    "        self.dimensions = None\n",
    "    \n",
    "    def get_name(self):\n",
    "        \"\"\"Get product name.\"\"\"\n",
    "        return self.name\n",
    "    \n",
    "    def change_name(self, new_name):\n",
    "        \"\"\"Change product name.\"\"\"\n",
    "        self.name = new_name\n",
    "    \n",
    "    def set_price(self, prc):\n",
    "        \"\"\"Set product price.\"\"\"\n",
    "        self.price = prc\n",
    "        \n",
    "    def get_price(self):\n",
    "        \"\"\"Get product price.\"\"\"\n",
    "        return self.price\n",
    "    \n",
    "    def set_dimensions(self, dims):\n",
    "        \"\"\"Set product dimensions as a string of the type:\n",
    "           w0.0 x l0.0 x h0.0 cm\n",
    "        \"\"\"\n",
    "        self.dimensions = dims\n",
    "        \n",
    "    def get_dimensions(self):\n",
    "        \"\"\"Get product dimensions. Returns a string of the type: \n",
    "           w0.0 x l0.0 x h0.0 cm\"\"\"\n",
    "        return self.dimensions\n",
    "    \n",
    "    def __str__(self):\n",
    "        return self.name\n",
    "        \n",
    "# Book subclass of Product\n",
    "class Book(Product):\n",
    "    \"\"\"A class to represent a book as a type of product.\n",
    "    The class is a subclass of the class Product.\n",
    "    \"\"\"\n",
    "    \n",
    "    def __init__(self, name):\n",
    "        \"\"\"Create new book.\"\"\"\n",
    "        Product.__init__(self, name)\n",
    "        self.num_pages = None\n",
    "        self.publisher = None\n",
    "        self.author = None\n",
    "        self.year = None\n",
    "        \n",
    "    # Define the usual get and set methods\n",
    "    \n",
    "# ElectronicBook is subclass of Book    \n",
    "class ElectronicBook(Book):\n",
    "    \"\"\"A class to represent an electronic book as a type of book.\n",
    "    The class is a subclass of the class Book.\n",
    "    \"\"\"\n",
    "    \n",
    "    def __init__(self, name):\n",
    "        \"\"\"Create new electronic book.\"\"\"\n",
    "        Book.__init__(self, name)\n",
    "        self.filetype = None\n",
    "        self.link = None\n",
    "    \n",
    "    # Add additional get and set methods for e-book data attributes \n",
    "\n",
    "# PrintedBook is subclass of Book    \n",
    "class PrintedBook(Book):\n",
    "    \"\"\"A class to represent a printed book as a type of book.\n",
    "    The class is a subclass of the class Book.\n",
    "    \"\"\"\n",
    "    pass        \n",
    "\n",
    "\n",
    "class Order(object):\n",
    "    \"\"\"A class to represent a purchase order made by\n",
    "    a customer and consisting of one or more products.\n",
    "    \"\"\"\n",
    "    \n",
    "    def __init__(self, customer):\n",
    "        \"\"\"Create new purchase order.\"\"\"\n",
    "        self.customer = customer\n",
    "        self.products = []\n",
    "    \n",
    "    def add_product(self, product):\n",
    "        \"\"\"Add product to customer's purchase order.\"\"\"\n",
    "        self.products.append(product)\n",
    "        \n",
    "    def get_total_price(self):\n",
    "        \"\"\"Get the total price for the order.\"\"\"\n",
    "        # Notice that I use the method to get the product price\n",
    "        # and I do not access the data attribute directly\n",
    "        return sum([p.get_price() for p in self.products])\n",
    "    \n",
    "    def __str__(self):\n",
    "        return (str(self.customer) + ' ordered ' \n",
    "                   + ', '.join(['\"' + str(i) + '\"' for i in self.products]) \n",
    "                   + ' for £' + str(self.get_total_price()) )\n",
    "    \n",
    "\n",
    "# Create a new customer\n",
    "c1 = Customer('Milena Tsvetkova')\n",
    "\n",
    "# Create a couple of products\n",
    "b1 = PrintedBook('Scarcity: The True Cost of Not Having Enough')\n",
    "# Notice set_price is a method of the superclass Product. That's why we can\n",
    "# use it although we have not defined it in the subclass.\n",
    "b1.set_price(7.57)\n",
    "\n",
    "b2 = PrintedBook('Nudge: Improving Decisions About Health, Wealth and Happiness')\n",
    "b2.set_price(4.99)\n",
    "\n",
    "# Customer buys products, get order summary\n",
    "o1 = Order(c1)\n",
    "o1.add_product(b1)\n",
    "o1.add_product(b2)\n",
    "print(o1)\n"
   ]
  },
  {
   "cell_type": "code",
   "execution_count": 2,
   "metadata": {
    "slideshow": {
     "slide_type": "-"
    }
   },
   "outputs": [],
   "source": [
    "# Exercise 2: Create a new repository in your account and upload \n",
    "# the class hierarchy you created. Add your partner as collaborator\n",
    "# (Settings -> Collaborators and teams -> Add people).\n",
    "# Practice cloning locally, creating a branch, making changes in the branch, \n",
    "# opening a pull request, commenting, and merging the pull request. \n",
    "\n",
    "# Solution: Use class slides for detailed instructions \n",
    "# on how to do this."
   ]
  },
  {
   "cell_type": "code",
   "execution_count": 3,
   "metadata": {
    "slideshow": {
     "slide_type": "-"
    }
   },
   "outputs": [],
   "source": [
    "# Exercise 3: Open a new issue in your partner's repository. \n",
    "\n",
    "# Solution: Use class slides (including link to tutorial)\n",
    "# for detailed instructions on how to do this."
   ]
  }
 ],
 "metadata": {
  "celltoolbar": "Slideshow",
  "kernelspec": {
   "display_name": "Python 3 (ipykernel)",
   "language": "python",
   "name": "python3"
  },
  "language_info": {
   "codemirror_mode": {
    "name": "ipython",
    "version": 3
   },
   "file_extension": ".py",
   "mimetype": "text/x-python",
   "name": "python",
   "nbconvert_exporter": "python",
   "pygments_lexer": "ipython3",
   "version": "3.9.7"
  }
 },
 "nbformat": 4,
 "nbformat_minor": 2
}
