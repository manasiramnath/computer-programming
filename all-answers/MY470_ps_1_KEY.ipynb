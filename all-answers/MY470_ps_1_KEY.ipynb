{
 "cells": [
  {
   "cell_type": "markdown",
   "metadata": {
    "slideshow": {
     "slide_type": "slide"
    }
   },
   "source": [
    "### MY470 Computer Programming\n",
    "\n",
    "### Problem Set 1\n",
    "\n",
    "#### \\*\\*\\* Example Answers \\*\\*\\*"
   ]
  },
  {
   "cell_type": "markdown",
   "metadata": {
    "slideshow": {
     "slide_type": "slide"
    }
   },
   "source": [
    "---\n",
    "### Working with data files\n",
    "\n",
    "For this problem set, we will use data from the file `ca-GrQc.txt`, which you can locate in the `data` repository. The file contains the co-authorship links for articles in the ArXiv category General Relativity. Each line in the file includes the ids of two authors who have worked together on at least one article. In network analysis parlance, this is known as an \"edge list.\" The data are obtained from the [Stanford Large Network Dataset Collection](https://snap.stanford.edu/data/index.html) and you can find more information about them on https://snap.stanford.edu/data/ca-GrQc.html.\n",
    "\n",
    "#### Hints\n",
    "\n",
    "The problems below need to be done in sequence because objects (lists, dictionaries, etc.) you create in early problems may be needed for a later problem. However, if you don't manage to obtain these objects at the beginning, just hard-code fictitious ones, e.g. `[13, 14, 22, 24, 25, 26, 27, 28, 29, 45]` or `{13: [13, 7596, 11196, 19170], 14: [14171]}`. "
   ]
  },
  {
   "cell_type": "markdown",
   "metadata": {},
   "source": [
    "### Problem 1: Get all coauthorships in a list of lists\n",
    "\n",
    "Create a list that contains all edges included in the data file as lists of the two authors' ids, where the ids are saved as integers. Your list should look like `[[3466, 937], [3466, 5233], ...]`. To achieve this, use a `for` loop to iterate over each line in the file. One way to do this is as follows:\n",
    "\n",
    "```\n",
    "for line in open('../data/ca-GrQc.txt', 'r'):\n",
    "    do something with line\n",
    "```\n",
    "\n",
    "⚡️ Notice that this is a more efficient way to read data than `file.read()`, which we used in the formative problem set, as you don't load all data in memory but stream them line by line. \n",
    "\n",
    "Print the first 10 entries in your list. \n",
    "\n",
    "#### Hints\n",
    "\n",
    "It is a good practice to write and test your initial code using a smaller version of the dataset. This will help you debug faster. It will also allow you to manually check for possible errors. \n",
    "\n",
    "You need to ignore the first four lines of the file that contain explanatory text.\n",
    "\n",
    "In the file, the two author ids are separated with tabs and the tab character is encoded as `'\\t'`.\n"
   ]
  },
  {
   "cell_type": "code",
   "execution_count": 1,
   "metadata": {},
   "outputs": [
    {
     "name": "stdout",
     "output_type": "stream",
     "text": [
      "The first ten edges in the data are [[3466, 937], [3466, 5233], [3466, 8579], [3466, 10310], [3466, 15931], [3466, 17038], [3466, 18720], [3466, 19607], [10310, 1854], [10310, 3466]]\n"
     ]
    }
   ],
   "source": [
    "coauthors = []\n",
    "for line in open('../data/ca-GrQc.txt', 'r'):\n",
    "    if line[0] != '#':    # Ignore the comment lines at the beginning of the file\n",
    "        strlst = line.strip().split('\\t')\n",
    "        coauthors.append([int(i) for i in strlst])\n",
    "\n",
    "print('The first ten edges in the data are', coauthors[:10])\n"
   ]
  },
  {
   "cell_type": "markdown",
   "metadata": {},
   "source": [
    "### Problem 2: Who are the authors in the data?\n",
    "\n",
    "Create a sorted list with the integer ids for all of the unique authors in the dataset. Print the first 10 authors in the list. Then print how many authors there are in total.\n",
    "\n",
    "Then, using a dictionary comprehension, create a dictionary in which the keys are the author integer ids and the values are empty lists. The dictionary should look something like: `{13: [], 14: [], 22: [], ...}`. To confirm, print the dictionary values for the authors in the list `[13, 14, 22, 24, 25, 26, 27, 28, 29, 45]`.\n",
    "\n",
    "#### Hints\n",
    "\n",
    "Note that if the edge *i–j* is in the data, then the edge *j–i* is also there. This means that for this task you don't need to consider the second author in the line. You can get all authors by collecting just the first author in each line in the file."
   ]
  },
  {
   "cell_type": "code",
   "execution_count": 2,
   "metadata": {
    "scrolled": false
   },
   "outputs": [
    {
     "name": "stdout",
     "output_type": "stream",
     "text": [
      "The first ten authors in the list: [13, 14, 22, 24, 25, 26, 27, 28, 29, 45]\n",
      "The total number of authors in the data: 5242\n",
      "[]\n",
      "[]\n",
      "[]\n",
      "[]\n",
      "[]\n",
      "[]\n",
      "[]\n",
      "[]\n",
      "[]\n",
      "[]\n"
     ]
    }
   ],
   "source": [
    "# Remove all repeats and sort\n",
    "# Note that sorted() can take a set (and any iterable) and returns a list\n",
    "\n",
    "authors = sorted(set([i[0] for i in coauthors]))\n",
    "print('The first ten authors in the list:', authors[:10])\n",
    "print('The total number of authors in the data:', len(authors))\n",
    "\n",
    "author_dic = {i: [] for i in authors}\n",
    "for i in [13, 14, 22, 24, 25, 26, 27, 28, 29, 45]:\n",
    "    print(author_dic[i])\n"
   ]
  },
  {
   "cell_type": "markdown",
   "metadata": {},
   "source": [
    "---\n",
    "### Problem 3: Get each author's coauthors\n",
    "\n",
    "Enter each author's unique coauthors in the empty dictionary you created in Problem 2. The dictionary should now look something like: `{13: [7596, 11196, 19170], 14: [14171], ...}`.\n",
    "\n",
    "Print the list of coauthors for the authors in the list `[13, 14, 22, 24, 25, 26, 27, 28, 29, 45]`.\n",
    "\n",
    "#### Hints\n",
    "\n",
    "Notice that the data contain errors. For example, I noticed that the data say that author 13 coauthored with himself/herself, which is meaningless. To get the maximum number of points, your code should exclude oneself in one's list of coauthors."
   ]
  },
  {
   "cell_type": "code",
   "execution_count": 3,
   "metadata": {},
   "outputs": [
    {
     "name": "stdout",
     "output_type": "stream",
     "text": [
      "13 has [7596, 11196, 19170] as coauthors\n",
      "14 has [14171] as coauthors\n",
      "22 has [106, 11183, 15793, 19440, 22618, 25043] as coauthors\n",
      "24 has [3858, 15774, 19517, 23161] as coauthors\n",
      "25 has [22891] as coauthors\n",
      "26 has [1407, 4550, 11801, 13096, 13142] as coauthors\n",
      "27 has [11114, 19081, 24726, 25540] as coauthors\n",
      "28 has [7916] as coauthors\n",
      "29 has [20243] as coauthors\n",
      "45 has [570, 773, 1186, 1653, 2212, 2741, 2952, 3372, 4164, 4180, 4511, 4513, 6179, 6610, 6830, 7956, 8879, 9785, 11241, 11472, 12365, 12496, 12679, 12781, 12851, 14540, 14807, 15003, 15659, 17655, 17692, 18719, 18866, 18894, 19423, 19961, 20108, 20562, 20635, 21012, 21281, 21508, 21847, 22691, 22887, 23293, 24955, 25346, 25758] as coauthors\n"
     ]
    }
   ],
   "source": [
    "# Iterate over the list of coauthors and add to the appropriate dictionary entry\n",
    "\n",
    "for i, j in coauthors:\n",
    "    if j != i:\n",
    "        author_dic[i].append(j)\n",
    "        \n",
    "for i in [13, 14, 22, 24, 25, 26, 27, 28, 29, 45]:\n",
    "    print(i, 'has', author_dic[i], 'as coauthors')\n",
    "    "
   ]
  },
  {
   "cell_type": "markdown",
   "metadata": {},
   "source": [
    "---\n",
    "### Problem 4: Who has the most coauthors?\n",
    "\n",
    "Find the author who has the most coauthors. Print the id of that author and the number of coauthors they have. \n",
    "\n",
    "Solve this problem using iteration and conditionals; you are not allowed to use external modules. \n"
   ]
  },
  {
   "cell_type": "code",
   "execution_count": 4,
   "metadata": {},
   "outputs": [
    {
     "name": "stdout",
     "output_type": "stream",
     "text": [
      "The most collaborative author 21012 has 81 coauthors.\n"
     ]
    }
   ],
   "source": [
    "# We will create a variable to keep the author with max number of coauthors\n",
    "# and as we iterate over the dictionary, we will update this variable\n",
    "# every time we see someone with higher number of coauthors.\n",
    "# Notice that we assume that there is one such author, which happens\n",
    "# to be true in this case. However, if we want to make our code more general,\n",
    "# it will be better to keep a list of author ids with max, not just a single id.\n",
    "\n",
    "current_max = [0, 0]  # [author_id, num_coauthors]\n",
    "for auth, coauth in author_dic.items():\n",
    "    if len(coauth) > current_max[1]:\n",
    "        current_max = [auth, len(coauth)]\n",
    "print('The most collaborative author', current_max[0], 'has', current_max[1], 'coauthors.')\n",
    "        "
   ]
  },
  {
   "cell_type": "markdown",
   "metadata": {},
   "source": [
    "---\n",
    "\n",
    "### Evaluation\n",
    "\n",
    "| Problem | Mark     | Comment   \n",
    "|:-------:|:--------:|:----------------------\n",
    "| 1       |   /3    |              \n",
    "| 2       |   /4    | \n",
    "| 3       |   /3    | \n",
    "| 4       |   /4    | \n",
    "| Code legibility       |   /2    | \n",
    "| Code efficiency      |   /4    | \n",
    "|**Total**|**/20**  | \n"
   ]
  }
 ],
 "metadata": {
  "kernelspec": {
   "display_name": "Python 3 (ipykernel)",
   "language": "python",
   "name": "python3"
  },
  "language_info": {
   "codemirror_mode": {
    "name": "ipython",
    "version": 3
   },
   "file_extension": ".py",
   "mimetype": "text/x-python",
   "name": "python",
   "nbconvert_exporter": "python",
   "pygments_lexer": "ipython3",
   "version": "3.9.7"
  }
 },
 "nbformat": 4,
 "nbformat_minor": 2
}
