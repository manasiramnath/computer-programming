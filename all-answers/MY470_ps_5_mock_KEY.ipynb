{
 "cells": [
  {
   "cell_type": "markdown",
   "id": "cdb5d551",
   "metadata": {},
   "source": [
    "\n",
    "\n",
    "\n",
    "\n"
   ]
  },
  {
   "cell_type": "markdown",
   "id": "2783cf3e",
   "metadata": {},
   "source": [
    "\n",
    "\n",
    "\n",
    "\n"
   ]
  },
  {
   "cell_type": "markdown",
   "id": "8f597a9c",
   "metadata": {},
   "source": [
    "\n",
    "\n",
    "\n",
    "\n"
   ]
  },
  {
   "cell_type": "markdown",
   "id": "c7a0c50e",
   "metadata": {},
   "source": [
    "\n",
    "\n",
    "\n",
    "\n"
   ]
  },
  {
   "cell_type": "markdown",
   "id": "aa960a3f",
   "metadata": {},
   "source": [
    "\n",
    "\n",
    "\n",
    "\n"
   ]
  },
  {
   "cell_type": "markdown",
   "id": "2a68646d",
   "metadata": {},
   "source": [
    "\n",
    "\n",
    "\n",
    "\n"
   ]
  },
  {
   "cell_type": "markdown",
   "id": "b5a60d19",
   "metadata": {},
   "source": [
    "GitHub Username:"
   ]
  },
  {
   "cell_type": "markdown",
   "id": "e7d6c750",
   "metadata": {},
   "source": [
    "\n",
    "\n",
    "\n",
    "\n"
   ]
  },
  {
   "cell_type": "markdown",
   "id": "b2ed00cd",
   "metadata": {},
   "source": [
    "\n",
    "\n",
    "\n",
    "\n"
   ]
  },
  {
   "cell_type": "markdown",
   "id": "66a5900f",
   "metadata": {},
   "source": [
    "\n",
    "\n",
    "\n",
    "\n"
   ]
  },
  {
   "cell_type": "markdown",
   "id": "86b94b75",
   "metadata": {},
   "source": [
    "\n",
    "\n",
    "\n",
    "\n"
   ]
  },
  {
   "cell_type": "markdown",
   "id": "cdcc3354",
   "metadata": {},
   "source": [
    "\n",
    "\n",
    "\n",
    "\n"
   ]
  },
  {
   "cell_type": "markdown",
   "id": "8079fd9a",
   "metadata": {},
   "source": [
    "### MY470 Computer Programming\n",
    "\n",
    "### Mock Problem Set 5, AT 2023"
   ]
  },
  {
   "cell_type": "markdown",
   "id": "95655264",
   "metadata": {},
   "source": [
    "\n",
    "\n",
    "\n",
    "\n"
   ]
  },
  {
   "cell_type": "markdown",
   "id": "5a2793e6",
   "metadata": {},
   "source": [
    "\n",
    "\n",
    "\n",
    "\n"
   ]
  },
  {
   "cell_type": "markdown",
   "id": "4881f48a",
   "metadata": {},
   "source": [
    "\n",
    "\n",
    "\n",
    "\n"
   ]
  },
  {
   "cell_type": "markdown",
   "id": "8793561b",
   "metadata": {},
   "source": [
    "\n",
    "\n",
    "\n",
    "\n"
   ]
  },
  {
   "cell_type": "markdown",
   "id": "e69d5c8d",
   "metadata": {},
   "source": [
    "---\n",
    "### Practicing order of growth analysis for time complexity\n",
    "\n",
    "This assessment takes the form of a more traditional problem set, where each problem stands by itself and is unrelated to the others.\n",
    "\n",
    "**You are expected to complete the problems on your own.**\n",
    "\n",
    "---"
   ]
  },
  {
   "cell_type": "markdown",
   "id": "d8a41d24",
   "metadata": {},
   "source": [
    "\n",
    "\n",
    "\n",
    "\n"
   ]
  },
  {
   "cell_type": "markdown",
   "id": "359e7b97",
   "metadata": {},
   "source": [
    "\n",
    "\n",
    "\n",
    "\n"
   ]
  },
  {
   "cell_type": "markdown",
   "id": "a5ec2536",
   "metadata": {},
   "source": [
    "\n",
    "\n",
    "\n",
    "\n"
   ]
  },
  {
   "cell_type": "markdown",
   "id": "2e0467f6",
   "metadata": {},
   "source": [
    "**You have 25 minutes to complete the problem set.**\n",
    "\n",
    "\n",
    "\n"
   ]
  },
  {
   "cell_type": "markdown",
   "id": "8728108b",
   "metadata": {},
   "source": [
    "\n",
    "\n",
    "\n",
    "\n"
   ]
  },
  {
   "cell_type": "markdown",
   "id": "69de7e85",
   "metadata": {},
   "source": [
    "\n",
    "### Instructions for Problems 1–5\n",
    "\n",
    "Give the order of growth for the function and explain your reasoning in a couple of sentences."
   ]
  },
  {
   "cell_type": "markdown",
   "id": "5d3b07e6",
   "metadata": {},
   "source": [
    "#### Problem 1"
   ]
  },
  {
   "cell_type": "code",
   "execution_count": 1,
   "id": "7b35b7a6",
   "metadata": {},
   "outputs": [],
   "source": [
    "def sum_array(array):\n",
    "    \"\"\"Calculate the sum of all elements in a 3-dimensional array\n",
    "    (list of lists of lists).\"\"\"\n",
    "\n",
    "    total = 0 # O(1)\n",
    "    for layer in array: # O(l)\n",
    "        for row in layer: # O(r)\n",
    "            for element in row: # O(c)\n",
    "                total += element # O(1)\n",
    "    return total \n",
    "\n",
    "# Your answer: O(lrc)\n",
    "#\n",
    "# number of layers = l\n",
    "# number of rows = r\n",
    "# number of columns (elements in each row) = c\n",
    "# It takes l*r*c steps to loop over all elements\n",
    "# Time complexity: O(1 + l * r * c * 1)\n",
    "# = O(lrc)\n",
    "#\n",
    "#"
   ]
  },
  {
   "cell_type": "markdown",
   "id": "ea0ef1d7",
   "metadata": {},
   "source": [
    "#### Problem 2"
   ]
  },
  {
   "cell_type": "code",
   "execution_count": null,
   "id": "9fb948e6",
   "metadata": {},
   "outputs": [],
   "source": [
    "def is_power_of_two(n):\n",
    "    \"\"\"Check if an integer is a power of two.\n",
    "    (i.e., 1, 2, 4, 8, 16, 32, 64, etc.)\"\"\"\n",
    "\n",
    "    while n > 1: # How many times will this while loop run?\n",
    "        n = n / 2 # O(1)\n",
    "        \n",
    "    if n == 1: # O(1)\n",
    "        return True\n",
    "    else:\n",
    "        return False\n",
    "    \n",
    "# Your answer: O(log(n))\n",
    "#\n",
    "# The while loop will run as many times as it takes to get n <= 1.\n",
    "# Each step, n is divided by 2.\n",
    "# So, the number of times the loop runs is the number of times n\n",
    "# can be divided by 2 before it is <= 1.\n",
    "# So 2^x ~ n, where x is the number of times the loop runs.\n",
    "# Solve for x: x = log2(n), (log base 2 of n)\n",
    "# Time complexity is then: O(log(n))"
   ]
  },
  {
   "cell_type": "markdown",
   "id": "1dc73394",
   "metadata": {},
   "source": [
    "\n",
    "\n",
    "\n",
    "\n"
   ]
  },
  {
   "cell_type": "markdown",
   "id": "4fa73f92",
   "metadata": {},
   "source": [
    "#### Problem 3"
   ]
  },
  {
   "cell_type": "code",
   "execution_count": null,
   "id": "fb3c51a7",
   "metadata": {},
   "outputs": [],
   "source": [
    "def is_sorted(int_list):\n",
    "    \"\"\"Check if a list of ints is sorted.\"\"\"\n",
    "    sorted_list = sorted(int_list) # Sorting ints: O(l * log(l))\n",
    "    if sorted_list == int_list: # Check all elements the same: O(l)\n",
    "        return True\n",
    "    return False\n",
    "# Your answer: = O(l * log(l))\n",
    "# length of int_list = l\n",
    "# Time complexity from sorting and checking: O(l * log(l) + l)\n",
    "# = O(l * log(l))"
   ]
  },
  {
   "cell_type": "markdown",
   "id": "b4ef44b0",
   "metadata": {},
   "source": [
    "#### Problem 4"
   ]
  },
  {
   "cell_type": "code",
   "execution_count": 1,
   "id": "a5307570",
   "metadata": {},
   "outputs": [],
   "source": [
    "def is_sorted2(string_list):\n",
    "    \"\"\"Check if a list of strings is sorted\n",
    "    (different approach to P3).\"\"\"\n",
    "    for i in range(len(string_list) - 1): # iterating: O(l)\n",
    "        # comparing strings requires checking every character!\n",
    "        if string_list[i] > string_list[i + 1]: # O(s)\n",
    "            return False\n",
    "    return True\n",
    "# Your answer: O(ls)\n",
    "# length of string_list = l\n",
    "# length of each string = s\n",
    "# \"worst case scenario\" is that the list is sorted, so we have to\n",
    "# check every string in the list, and every char in each string.\n",
    "# Time complexity: O(ls)"
   ]
  },
  {
   "cell_type": "markdown",
   "id": "a8a31871",
   "metadata": {},
   "source": [
    "#### Problem 5"
   ]
  },
  {
   "cell_type": "code",
   "execution_count": 2,
   "id": "86044044",
   "metadata": {},
   "outputs": [],
   "source": [
    "def sum_nd_array(ndarray):\n",
    "    \"\"\"Calculate the sum of all elements in a numeric\n",
    "    n-dimensional array. Each dimension is of the same size \"d\".\"\"\"\n",
    "    if isinstance(ndarray, (int, float)): # O(1)\n",
    "        return ndarray\n",
    "    total = 0 # O(1)\n",
    "    for item in ndarray: # O(d)\n",
    "        # Addition = O(1), but how many recursive calls are made?\n",
    "        total += sum_nd_array(item)\n",
    "    return total\n",
    "# Your answer: O(d^n)\n",
    "# Number of dimensions = n, Size of each dimension = d\n",
    "# For each extra dimension, make d times more recursive calls\n",
    "# e.g. 1 dimension: d recursive calls\n",
    "#      2 dimensions: d * d recursive calls\n",
    "#      3 dimensions: d * d * d recursive calls\n",
    "#      ...\n",
    "# So, for n dimensions, d^n recursive calls are made = O(d^n)\n",
    "# Or, there are d*d...d = d^n total elements to sum = O(d^n)"
   ]
  },
  {
   "cell_type": "markdown",
   "id": "1877495b",
   "metadata": {},
   "source": [
    "\n",
    "\n",
    "\n",
    "\n"
   ]
  },
  {
   "cell_type": "markdown",
   "id": "af675ed8",
   "metadata": {},
   "source": [
    "\n",
    "\n",
    "\n",
    "\n"
   ]
  },
  {
   "cell_type": "markdown",
   "id": "9218a2c2",
   "metadata": {},
   "source": [
    "\n",
    "\n",
    "\n",
    "\n"
   ]
  },
  {
   "cell_type": "markdown",
   "id": "ae9ca801",
   "metadata": {},
   "source": [
    "\n",
    "\n",
    "\n",
    "\n"
   ]
  },
  {
   "cell_type": "markdown",
   "id": "e7d707ec",
   "metadata": {},
   "source": [
    "### Instructions for Problems 6–7\n",
    "\n",
    "Write the function as described in the docstring and called under. Then, give the order of growth for the function and explain your reasoning in a couple of sentences."
   ]
  },
  {
   "cell_type": "markdown",
   "id": "b7fdd44c",
   "metadata": {},
   "source": [
    "#### Problem 6"
   ]
  },
  {
   "cell_type": "code",
   "execution_count": 3,
   "id": "7ed21616",
   "metadata": {},
   "outputs": [
    {
     "name": "stdout",
     "output_type": "stream",
     "text": [
      "1\n",
      "2\n",
      "3\n",
      "4\n",
      "5\n",
      "6\n",
      "Fizz\n",
      "8\n",
      "9\n",
      "10\n",
      "11\n",
      "12\n",
      "13\n",
      "Fizz\n",
      "15\n",
      "16\n"
     ]
    }
   ],
   "source": [
    "def fizz(n):\n",
    "    \"\"\"Print out all numbers from 1 to n (inclusive),\n",
    "    replacing multiples of 7 with \"Fizz\".\"\"\"\n",
    "    # complete function here\n",
    "\n",
    "    for i in range(1, n + 1): # iteration: O(n)\n",
    "        if i % 7 == 0: # O(1)\n",
    "            print('Fizz') # O(1)\n",
    "        else:\n",
    "            print(i) # O(1)\n",
    "\n",
    "fizz(16)                        \n",
    "# Your answer for order of growth: O(n)\n",
    "#\n",
    "# Size of max number to iterate to = n\n",
    "# Time complexity = O(n)\n",
    "#\n",
    "#\n",
    "#\n",
    "#\n",
    "#\n"
   ]
  },
  {
   "cell_type": "markdown",
   "id": "de61c5f8",
   "metadata": {},
   "source": [
    "\n",
    "\n",
    "\n",
    "\n"
   ]
  },
  {
   "cell_type": "markdown",
   "id": "73a249a5",
   "metadata": {},
   "source": [
    "\n",
    "\n",
    "\n",
    "\n"
   ]
  },
  {
   "cell_type": "markdown",
   "id": "5ee1a3b2",
   "metadata": {},
   "source": [
    "\n",
    "\n",
    "\n",
    "\n"
   ]
  },
  {
   "cell_type": "markdown",
   "id": "ee8263f3",
   "metadata": {},
   "source": [
    "\n",
    "\n",
    "\n",
    "\n"
   ]
  },
  {
   "cell_type": "markdown",
   "id": "a9fb98c9",
   "metadata": {},
   "source": [
    "\n",
    "\n",
    "\n",
    "\n"
   ]
  },
  {
   "cell_type": "markdown",
   "id": "7a3e03d0",
   "metadata": {},
   "source": [
    "\n",
    "\n",
    "\n",
    "\n"
   ]
  },
  {
   "cell_type": "markdown",
   "id": "83d13b18",
   "metadata": {},
   "source": [
    "#### Problem 7"
   ]
  },
  {
   "cell_type": "code",
   "execution_count": 1,
   "id": "2ce1cdee",
   "metadata": {},
   "outputs": [
    {
     "name": "stdout",
     "output_type": "stream",
     "text": [
      "['a?c', 'ac?', '?ac', '?ca', 'ca?', 'c?a', 'a?a', 'aa?', '?aa', '?aa', 'aa?', 'a?a', 'aCc', 'acC', 'Cac', 'Cca', 'caC', 'cCa', 'aCa', 'aaC', 'Caa', 'Caa', 'aaC', 'aCa']\n"
     ]
    }
   ],
   "source": [
    "def three_char_words(l1, l2, l3):\n",
    "    \"\"\"Given three lists, first identify the strings in each\n",
    "    list. Assume all strings are a single character and return\n",
    "    a list of all possible three-character \"words\" that can be\n",
    "    made from combining one character from each list (allowing\n",
    "    for repeats). You will need to remove any non-strings\n",
    "    (ints, floats, etc.) in advance, but do not alter the\n",
    "    case of any letters or remove non-letters.\n",
    "    \"\"\"\n",
    "    filtered_l1 = [char for char in l1 if type(char)==str] # O(l1)\n",
    "    filtered_l2 = [char for char in l2 if type(char)==str] # O(l2)\n",
    "    filtered_l3 = [char for char in l3 if type(char)==str] # O(l3)\n",
    "\n",
    "    word_list = [] # O(1)\n",
    "    for char1 in filtered_l1: # O(l1)\n",
    "        for char2 in filtered_l2: # O(l2)\n",
    "            for char3 in filtered_l3: # O(l3)\n",
    "                word_list.append(char1 + char2 + char3) # O(1)\n",
    "                word_list.append(char1 + char3 + char2) # O(1)\n",
    "                word_list.append(char2 + char1 + char3) # O(1)\n",
    "                word_list.append(char2 + char3 + char1) # O(1)\n",
    "                word_list.append(char3 + char1 + char2) # O(1)\n",
    "                word_list.append(char3 + char2 + char1) # O(1)\n",
    "\n",
    "    return word_list\n",
    "\n",
    "\n",
    "l1 = ['a']\n",
    "l2 = ['?', 1, 'C']\n",
    "l3 = ['c', 'a']\n",
    "ls = three_char_words(l1, l2, l3)\n",
    "print(ls)\n",
    "# Your answer for order of growth: O(l1*l2*l3)\n",
    "#\n",
    "# length of l1 = l1\n",
    "# length of l2 = l2\n",
    "# length of l3 = l3\n",
    "# Worst case scenario is that all characters are letters, so\n",
    "# filtered lists are the same length as original lists.\n",
    "# To create every combo, we need to loop over l1*l2*l3 triples\n",
    "# Time complexity:\n",
    "# O(l1 + l2 + l3 + l1*l2*l3*6)\n",
    "# O(l1*l2*l3)"
   ]
  }
 ],
 "metadata": {
  "kernelspec": {
   "display_name": "Python 3 (ipykernel)",
   "language": "python",
   "name": "python3"
  },
  "language_info": {
   "codemirror_mode": {
    "name": "ipython",
    "version": 3
   },
   "file_extension": ".py",
   "mimetype": "text/x-python",
   "name": "python",
   "nbconvert_exporter": "python",
   "pygments_lexer": "ipython3",
   "version": "3.11.3"
  }
 },
 "nbformat": 4,
 "nbformat_minor": 5
}
