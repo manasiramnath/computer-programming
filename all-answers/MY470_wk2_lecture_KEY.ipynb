{
 "cells": [
  {
   "cell_type": "markdown",
   "metadata": {
    "slideshow": {
     "slide_type": "slide"
    }
   },
   "source": [
    "### MY470 Computer Programming\n",
    "# Data Types in Python\n",
    "### Week 2 Lecture: \\*\\*\\* Example Answers \\*\\*\\*"
   ]
  },
  {
   "cell_type": "markdown",
   "metadata": {
    "slideshow": {
     "slide_type": "slide"
    }
   },
   "source": [
    "## Non-Scalar Data Types: Exercise"
   ]
  },
  {
   "cell_type": "code",
   "execution_count": 5,
   "metadata": {
    "slideshow": {
     "slide_type": "-"
    }
   },
   "outputs": [
    {
     "data": {
      "text/plain": [
       "26"
      ]
     },
     "execution_count": 5,
     "metadata": {},
     "output_type": "execute_result"
    }
   ],
   "source": [
    "# Use len() to count the number of unique letters in the string below\n",
    "\n",
    "s = 'jackie will budget for the most expensive zoology equipment'\n",
    "\n",
    "# Create a set to get the number of unique characters and subtract 1 \n",
    "# for the space character to get the number of letters\n",
    "len(set(s)) - 1"
   ]
  },
  {
   "cell_type": "markdown",
   "metadata": {
    "slideshow": {
     "slide_type": "slide"
    }
   },
   "source": [
    "## String Methods: Exercise"
   ]
  },
  {
   "cell_type": "code",
   "execution_count": 3,
   "metadata": {
    "slideshow": {
     "slide_type": "-"
    }
   },
   "outputs": [
    {
     "data": {
      "text/plain": [
       "'This sentence needs better formatting.'"
      ]
     },
     "execution_count": 3,
     "metadata": {},
     "output_type": "execute_result"
    }
   ],
   "source": [
    "# Use string methods to create a properly formatted sentence \n",
    "# from the words below:\n",
    "\n",
    "ls = ['  ThiS', 'SenTence', 'NEEDS', 'bEttEr!', 'foRmatting']\n",
    "\n",
    "# Make sure you first strip trailing white space before using the capitalize() method\n",
    "s = ' '.join(ls).replace('!', '').strip().capitalize() + '.'\n",
    "s"
   ]
  },
  {
   "cell_type": "markdown",
   "metadata": {
    "slideshow": {
     "slide_type": "slide"
    }
   },
   "source": [
    "## Indexing and Slicing: Exercise"
   ]
  },
  {
   "cell_type": "code",
   "execution_count": 6,
   "metadata": {
    "slideshow": {
     "slide_type": "-"
    }
   },
   "outputs": [
    {
     "data": {
      "text/plain": [
       "'bdefz'"
      ]
     },
     "execution_count": 6,
     "metadata": {},
     "output_type": "execute_result"
    }
   ],
   "source": [
    "# Use indexing and slicing to create a new string that contains \n",
    "# the 2nd, 4th, 5th, 6th, and last characters from the string below\n",
    "\n",
    "s = 'abcdefghijklmnopqrstuvwxyz'\n",
    "\n",
    "# Remember that indexing in Python starts from 0!\n",
    "s[1] + s[3:6] + s[-1]"
   ]
  },
  {
   "cell_type": "markdown",
   "metadata": {},
   "source": [
    "## Aliasing and Cloning: Exercise"
   ]
  },
  {
   "cell_type": "markdown",
   "metadata": {},
   "source": [
    "What will the following program print?\n",
    "\n",
    "```\n",
    "ls1 = [11, 3, 8, 6, 6, 1]\n",
    "ls2 = ls1\n",
    "ls2[2] = 0\n",
    "print(ls1)\n",
    "```\n",
    "\n",
    "* (A) [11, 3, 8, 6, 6, 1]\n",
    "* (B) [11, 0, 8, 6, 6, 1]\n",
    "* **(C) [11, 3, 0, 6, 6, 1]**\n",
    "* (D) 0\n",
    "\n",
    "The correct answer is **(C)**. Both `ls1` and `ls2` point to the same object and it does not matter which \"name\" we use to refer to it. The other thing to remember is that indexing in Python starts from `0`, so if we change the item at index `2`, this corresponds to changing the third element."
   ]
  }
 ],
 "metadata": {
  "kernelspec": {
   "display_name": "Python 3 (ipykernel)",
   "language": "python",
   "name": "python3"
  },
  "language_info": {
   "codemirror_mode": {
    "name": "ipython",
    "version": 3
   },
   "file_extension": ".py",
   "mimetype": "text/x-python",
   "name": "python",
   "nbconvert_exporter": "python",
   "pygments_lexer": "ipython3",
   "version": "3.9.7"
  }
 },
 "nbformat": 4,
 "nbformat_minor": 2
}
