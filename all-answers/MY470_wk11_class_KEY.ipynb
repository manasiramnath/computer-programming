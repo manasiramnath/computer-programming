{
 "cells": [
  {
   "cell_type": "markdown",
   "metadata": {
    "slideshow": {
     "slide_type": "slide"
    }
   },
   "source": [
    "### MY470 Computer Programming\n",
    "# Useful Python Modules and Libraries\n",
    "### Week 11 Lab: \\*\\*\\* Example Answers \\*\\*\\*"
   ]
  },
  {
   "cell_type": "code",
   "execution_count": 1,
   "metadata": {
    "slideshow": {
     "slide_type": "slide"
    }
   },
   "outputs": [
    {
     "name": "stdout",
     "output_type": "stream",
     "text": [
      "['Industrial_revolution', datetime.datetime(2002, 2, 25, 15, 51, 15), 0, 2, 'Conversion_script']\n",
      "['Industrial_revolution', datetime.datetime(2001, 8, 17, 14, 14, 23), 0, 1, 'Koyaanis_Qatsi']\n",
      "['Spitfire_(disambiguation)', datetime.datetime(2002, 6, 20, 13, 0, 32), 0, 2, 'Uriyan']\n"
     ]
    }
   ],
   "source": [
    "# Exercise 1: Read the file enwiki_2002_sample.txt and save the data \n",
    "# in a variable as a list. Make sure all data are in the correct\n",
    "# data type, e.g., save dates as datetime objects. \n",
    "# Print the first 3 elements of the list to confirm.\n",
    "\n",
    "# Solution:\n",
    "\n",
    "from datetime import datetime\n",
    "\n",
    "def get_data(fname):\n",
    "    \"\"\"Open Wikipedia revert data in file fname and return\n",
    "    list of formatted values.\"\"\"\n",
    "    \n",
    "    with open(fname, 'r') as f:\n",
    "        f.readline() # skip column labels\n",
    "\n",
    "        data = []\n",
    "        for edit in f.readlines():\n",
    "            title, dt, rev, version, user = edit.strip().split('\\t')\n",
    "            data.append([title.strip(), datetime.strptime(dt, \"%Y-%m-%d %H:%M:%S\"), \n",
    "                         int(rev), int(version), user])\n",
    "    return data\n",
    "\n",
    "data = get_data('enwiki_2002_sample.txt')\n",
    "for i in data[:3]:\n",
    "    print(i)\n"
   ]
  },
  {
   "cell_type": "code",
   "execution_count": 3,
   "metadata": {
    "slideshow": {
     "slide_type": "slide"
    }
   },
   "outputs": [
    {
     "name": "stdout",
     "output_type": "stream",
     "text": [
      "['Industrial_revolution', datetime.datetime(2002, 2, 25, 15, 51, 15), 0, 2, 'Conversion_script']\n",
      "['Industrial_revolution', datetime.datetime(2001, 8, 17, 14, 14, 23), 0, 1, 'Koyaanis_Qatsi']\n",
      "['Spitfire_(disambiguation)', datetime.datetime(2002, 6, 20, 13, 0, 32), 0, 2, 'Uriyan']\n"
     ]
    }
   ],
   "source": [
    "# Exercise 2: Pickle the list variable from exercise 1. \n",
    "# Then load it back in memory from the pickle.\n",
    "\n",
    "# Solution:\n",
    "\n",
    "import pickle \n",
    "\n",
    "# Pickle\n",
    "with open('wiki_data', 'wb') as fw:\n",
    "    pickle.dump(data, fw)\n",
    "\n",
    "# Unpickle\n",
    "with open('wiki_data', 'rb') as fr:\n",
    "    data_retrieved = pickle.load(fr)\n",
    "    \n",
    "for i in data_retrieved[:3]:\n",
    "    print(i)\n"
   ]
  }
 ],
 "metadata": {
  "celltoolbar": "Slideshow",
  "kernelspec": {
   "display_name": "Python 3 (ipykernel)",
   "language": "python",
   "name": "python3"
  },
  "language_info": {
   "codemirror_mode": {
    "name": "ipython",
    "version": 3
   },
   "file_extension": ".py",
   "mimetype": "text/x-python",
   "name": "python",
   "nbconvert_exporter": "python",
   "pygments_lexer": "ipython3",
   "version": "3.9.7"
  }
 },
 "nbformat": 4,
 "nbformat_minor": 2
}
