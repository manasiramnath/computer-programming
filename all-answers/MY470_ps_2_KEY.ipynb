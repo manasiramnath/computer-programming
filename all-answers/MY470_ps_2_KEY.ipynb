{
 "cells": [
  {
   "cell_type": "markdown",
   "metadata": {},
   "source": [
    "### MY470 Computer Programming\n",
    "\n",
    "### Problem Set 2\n",
    "\n",
    "#### \\*\\*\\* Example Answers \\*\\*\\*"
   ]
  },
  {
   "cell_type": "markdown",
   "metadata": {
    "slideshow": {
     "slide_type": "slide"
    }
   },
   "source": [
    "---\n",
    "### Writing your own k-means clustering algorithm\n",
    "\n",
    "K-means clustering is a simple unsupervised machine-learning method for cluster analysis. The aim of the method is to partition a set of points into k clusters, such that each point is assigned to the nearest cluster. The algorithm iterates through two steps:\n",
    "\n",
    "1. Assign each data point to the cluster with the nearest centroid\n",
    "2. Update the centroids of the clusters given the new assignment\n",
    "\n",
    "The algorithm converges when the assignments no longer change. Since the intial assignment to clusters is largely random, there is no guarantee that the optimum assignment is found. So it is common to run the algorithm multiple times and use different starting conditions.\n",
    "\n",
    "In this problem set, we will implement a much simplified version of the k-means clustering algorithm. Rather than running the algorithm until convergence, we will repeat the above two steps a large but fixed number of times. In addition, we will initialize only once, using a naive method according to which we randomly choose k points from the data to use as initial cluster centroids. \n",
    "\n",
    "(In real life, you will of course use a library to implement such an algorithm. In Python, you can do this using [scikit-learn](http://scikit-learn.org/stable/modules/generated/sklearn.cluster.KMeans.html).)\n",
    "\n",
    "For the problem set, we will additionally use data from the file `Wholesale customers data.csv`, which you can find in the `data` repository. The file contains information on the annual spending on diverse product categories for the clients of a wholesale distributor. The data are obtained from the [UCI Machine Learning Repository](http://archive.ics.uci.edu/ml/index.php) and you can find more information about them [here](http://archive.ics.uci.edu/ml/datasets/Wholesale+customers#).\n",
    "\n",
    "#### Hints\n",
    "\n",
    "Use docstrings to describe your functions. We will subtract points from your mark if you do not use appropriate description of your code.\n",
    "\n",
    "There are many different implementations of the k-means algorithm you can find online. However, this problem set expects you to follow the instructions and algorithms below precisely.  "
   ]
  },
  {
   "cell_type": "code",
   "execution_count": 7,
   "metadata": {},
   "outputs": [],
   "source": [
    "# We will first import the modules we need\n",
    "# You are expected to solve the problem set with these modules only\n",
    "# Do not import and use any other ones \n",
    "\n",
    "# You will need the math module to estimate the square root.\n",
    "# To get the square root of num, use math.sqrt(num)\n",
    "import math\n",
    "import csv\n",
    "import random"
   ]
  },
  {
   "cell_type": "markdown",
   "metadata": {},
   "source": [
    "### Problem 1: Function to estimate Euclidean distance between two points\n",
    "\n",
    "Write a function called `get_distance` that calculates the Euclidean distance between two n-dimensional points. The function should take two lists as arguments, where each list contains the n coordinates of each of the two points. \n",
    "\n",
    "Test your function for the points [0, 3, 0] and [4, 0, 0].\n",
    "\n",
    "#### Hints\n",
    "\n",
    "You can read about the definition of Euclidean distance on [Wikipedia](https://en.wikipedia.org/wiki/Euclidean_distance).\n"
   ]
  },
  {
   "cell_type": "code",
   "execution_count": 8,
   "metadata": {},
   "outputs": [
    {
     "name": "stdout",
     "output_type": "stream",
     "text": [
      "5.0\n"
     ]
    }
   ],
   "source": [
    "def get_distance(x, y):\n",
    "    \"\"\"Estimates the Euclidean distance between two n-dimensional points.\n",
    "    Assumes x and y are lists of numerical values (the point coordinates).\n",
    "    Returns float (the Euclidean distance between x and y).\n",
    "    \"\"\"\n",
    "    \n",
    "    sqrs = [(x[i] - y[i])**2 for i in range(len(x))]\n",
    "    return math.sqrt(sum(sqrs))\n",
    "\n",
    "print(get_distance([0, 3, 0], [4, 0, 0]))\n"
   ]
  },
  {
   "cell_type": "markdown",
   "metadata": {},
   "source": [
    "### Problem 2: Function to estimate the centroid of a collection of points\n",
    "\n",
    "Write a function called `get_centroid` that estimates the centroid of a collection of n-dimensional points. The function should take one list as an argument, which contains each of the points entered as a list of n coordinates. The function should return a list with the coordinates of the virtual center point.\n",
    "\n",
    "Test your function for the points in `test_lst` entered below.\n",
    "\n",
    "#### Hints\n",
    "\n",
    "The coordinate of the centroid in each dimension is the mean of the coordinates of all the points in that dimension.\n"
   ]
  },
  {
   "cell_type": "code",
   "execution_count": 9,
   "metadata": {
    "scrolled": false
   },
   "outputs": [
    {
     "name": "stdout",
     "output_type": "stream",
     "text": [
      "[0.5, 0.5, 0.5]\n"
     ]
    }
   ],
   "source": [
    "test_lst = [[0,0,0], [0,0,1], [0,1,0], [1,0,0], \n",
    "            [0,1,1], [1,0,1], [1,1,0], [1,1,1]]\n",
    "\n",
    "def get_centroid(points):\n",
    "    \"\"\"Estimates the centroid for a collection of n-dimensional points.\n",
    "    Assumes points is a collection of lists of numerical values.\n",
    "    Returns a list of numerical values (the coordinates of the centroid).\n",
    "    \"\"\"\n",
    "    \n",
    "    centroid = []\n",
    "    num_points = len(points)\n",
    "    num_dims = len(points[0])\n",
    "    for dim in range(num_dims):\n",
    "        coord = [i[dim] for i in points]\n",
    "        centroid.append(sum(coord)/num_points)\n",
    "        \n",
    "    return centroid\n",
    "\n",
    "print(get_centroid(test_lst))\n"
   ]
  },
  {
   "cell_type": "markdown",
   "metadata": {},
   "source": [
    "---\n",
    "### Problem 3: Function to read data\n",
    "\n",
    "Write a function called `get_data` that opens the file `../data/Wholesale customers data.csv` and returns all the data in a list. \n",
    "\n",
    "Use the csv module to read the file. You can read how to do this [here](https://docs.python.org/3/library/csv.html). Make sure you do not include the column names in the data. \n",
    "\n",
    "Each element in the list you return should be a list of each customer's annual spending on fresh products, milk products, grocery products, frozen products, detergents and paper products, and delicatessen products. In other words, your list should contain 440 elements (customers), each of which contains six numeric elements (amounts spent on products). The function does not need to take any arguments.\n",
    "\n",
    "Test your function by saving the data it returns in a variable called `data`. Then print the first two elements of `data`."
   ]
  },
  {
   "cell_type": "code",
   "execution_count": 10,
   "metadata": {},
   "outputs": [
    {
     "name": "stdout",
     "output_type": "stream",
     "text": [
      "[[12669, 9656, 7561, 214, 2674, 1338], [7057, 9810, 9568, 1762, 3293, 1776]]\n"
     ]
    }
   ],
   "source": [
    "def get_data():\n",
    "    \"\"\"Reads the file Wholesale customers data.csv and \n",
    "    returns part of the data as a list of lists.\n",
    "    \"\"\"\n",
    "    \n",
    "    with open('../data/Wholesale customers data.csv') as f:\n",
    "        reader = csv.reader(f)\n",
    "        data = [[int(i) for i in row[2:]] for row in reader if row[0] != 'Channel']\n",
    "    return data\n",
    "\n",
    "data = get_data()\n",
    "print(data[:2])"
   ]
  },
  {
   "cell_type": "markdown",
   "metadata": {},
   "source": [
    "---\n",
    "### Problem 4: Function to implement k-means algorithm\n",
    "\n",
    "Write a function called `kmeans` that clusters a collection of points into k clusters using a simplified version of the k-means algorithm. The function should take two arguments: \n",
    "\n",
    "1. `points` – a list of n-dimensional points, and\n",
    "2. `k` – an integer that defines the number of desired clusters. \n",
    "\n",
    "The function should return two things: \n",
    "\n",
    "1. A clustering – a list of `k` clusters, each of which is a list of points (each of which is a list of coordinates)\n",
    "2. A list of the centroids for each of the `k` clusters. Each centroid is essentially a point, so it should be presented as a list of coordinates.\n",
    "\n",
    "Write your code around the detailed comments and the helping code below.\n",
    "\n",
    "Test your function on the data from Problem 3 for k = 3. For each of the three clusters, print the number of customers assigned to it and the cordinates of its centroid.\n"
   ]
  },
  {
   "cell_type": "code",
   "execution_count": 11,
   "metadata": {},
   "outputs": [
    {
     "name": "stdout",
     "output_type": "stream",
     "text": [
      "***Cluster 1***\n",
      "Number of customers: 50\n",
      "Centroid: [8723.78, 19220.54, 27604.86, 2724.7, 12277.34, 3195.36]\n",
      "\n",
      "***Cluster 2***\n",
      "Number of customers: 73\n",
      "Centroid: [33111.69863013698, 4918.465753424657, 5847.54794520548, 5554.027397260274, 1097.876712328767, 2097.123287671233]\n",
      "\n",
      "***Cluster 3***\n",
      "Number of customers: 317\n",
      "Centroid: [7655.482649842272, 3881.0157728706627, 5335.79810725552, 2555.11356466877, 1810.236593059937, 1129.6056782334385]\n",
      "\n"
     ]
    }
   ],
   "source": [
    "#random.seed(1) # Set the seed to replicate exactly, see below\n",
    "\n",
    "def kmeans(points, k):\n",
    "    \"\"\"Clusters data using a naive implementation of the k-means \n",
    "    clustering algorithm. Assumes points is a list of lists \n",
    "    of numerical values (point coordinates) and k is \n",
    "    an integer > 0 specifiying the number of clusters to be used.\n",
    "    Returns the k-means clustering after 100 iterations \n",
    "    and a single initialization as a list of k lists (clusters) \n",
    "    of points and a list of k lists of numerical values \n",
    "    (the coordinates of the cluster centroids.)\n",
    "    \"\"\"\n",
    "    \n",
    "    # Select k random points to use as initial centroids\n",
    "    init = random.sample(points, k)\n",
    "\n",
    "    # Create a list of k lists to contain the points assigned to each cluster.  \n",
    "    clusters = [[] for i in init]\n",
    "    \n",
    "    # Create a list to keep the centroids of the k clusters. \n",
    "    # For now, this list will contain the points from init.\n",
    "    centroids = [i for i in init]\n",
    "    \n",
    "    # Repeat the clustering for 100 iterations.\n",
    "    # The idea is that each new repetition refines the clustering \n",
    "    # because it starts from the centroids of the previous clustering.     \n",
    "    for _ in range(100):\n",
    "        # Create a list of lists for the new clustering\n",
    "        new_clustering = [[] for i in range(k)]\n",
    "        \n",
    "        # Assign each point to the cluster with the closest centroid.\n",
    "        for p in points:\n",
    "            # Start by setting the closest cluster to be the first one\n",
    "            min_dist = get_distance(p, centroids[0])\n",
    "            closest_clust = 0\n",
    "            # Now find the actual closest cluster\n",
    "            for i in range(1, k):\n",
    "                dist = get_distance(p, centroids[i])\n",
    "                if dist < min_dist:\n",
    "                    min_dist = dist\n",
    "                    closest_clust = i                    \n",
    "            # Add the point to the closest cluster\n",
    "            new_clustering[closest_clust].append(p)\n",
    "            \n",
    "        # Now update the clusters and the centroids\n",
    "        clusters = new_clustering\n",
    "        centroids = [get_centroid(i) for i in clusters]\n",
    "    \n",
    "    return clusters, centroids\n",
    "    \n",
    "        \n",
    "clusters, centroids = kmeans(data, 3)\n",
    "for i in range(3):\n",
    "    print('***Cluster ' + str(i+1) + '***')\n",
    "    print('Number of customers:', len(clusters[i]))\n",
    "    print('Centroid:', centroids[i])\n",
    "    print()\n",
    "    \n",
    "# Note that your answers are likely to be different due to the random\n",
    "# initialization of the algorithm. In fact, the answers are likely to be\n",
    "# different every time you run this code.\n",
    "# For testing purposes, if you want to replicate specific results, you\n",
    "# should fix the random seed of the pseudo-random number generator.\n",
    "# For this, see the commented line at the beginning of the cell.\n"
   ]
  },
  {
   "cell_type": "markdown",
   "metadata": {},
   "source": [
    "---\n",
    "\n",
    "### Evaluation\n",
    "\n",
    "| Problem | Mark     | Comment   \n",
    "|:-------:|:--------:|:----------------------\n",
    "| 1       |   /2    |              \n",
    "| 2       |   /2    | \n",
    "| 3       |   /2    | \n",
    "| 4       |   /6    | \n",
    "| Legibility      |   /2    | \n",
    "| Modularity      |   /2    | \n",
    "| Efficiency      |   /4    | \n",
    "|**Total**|**/20**  | \n"
   ]
  }
 ],
 "metadata": {
  "kernelspec": {
   "display_name": "Python 3 (ipykernel)",
   "language": "python",
   "name": "python3"
  },
  "language_info": {
   "codemirror_mode": {
    "name": "ipython",
    "version": 3
   },
   "file_extension": ".py",
   "mimetype": "text/x-python",
   "name": "python",
   "nbconvert_exporter": "python",
   "pygments_lexer": "ipython3",
   "version": "3.10.12"
  }
 },
 "nbformat": 4,
 "nbformat_minor": 2
}
