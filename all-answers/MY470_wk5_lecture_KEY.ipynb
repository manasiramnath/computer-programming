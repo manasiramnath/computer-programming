{
 "cells": [
  {
   "cell_type": "markdown",
   "metadata": {
    "slideshow": {
     "slide_type": "slide"
    }
   },
   "source": [
    "### MY470 Computer Programming\n",
    "# Classes in Python\n",
    "### Week 5 Lecture: \\*\\*\\* Example Answers \\*\\*\\*"
   ]
  },
  {
   "cell_type": "markdown",
   "metadata": {
    "slideshow": {
     "slide_type": "slide"
    }
   },
   "source": [
    "## Classes: Exercise\n"
   ]
  },
  {
   "cell_type": "code",
   "execution_count": 4,
   "metadata": {
    "slideshow": {
     "slide_type": "-"
    }
   },
   "outputs": [
    {
     "name": "stdout",
     "output_type": "stream",
     "text": [
      "Greta Thunberg – student\n"
     ]
    }
   ],
   "source": [
    "# Update the class below to include the attribute occupation.\n",
    "# Then write a get method and a set method for occupation.\n",
    "\n",
    "class Person(object):\n",
    "        \n",
    "    def __init__(self, f_name, l_name):\n",
    "        \"\"\"Creates a person using first and last names.\"\"\"\n",
    "        self.first_name = f_name\n",
    "        self.last_name = l_name\n",
    "        self.birthdate = None\n",
    "        self.occupation = None\n",
    "    \n",
    "    def get_name(self):\n",
    "        \"\"\"Gets self's full name.\"\"\"\n",
    "        return self.first_name + ' ' + self.last_name\n",
    "    \n",
    "    def get_age(self):\n",
    "        \"\"\"Gets self's age in years.\"\"\"\n",
    "        return date.today().year - self.birthdate.year\n",
    "    \n",
    "    def set_birthdate(self, dob):\n",
    "        \"\"\"Assumes dob is of type date.\n",
    "        Sets self's birthdate to dob.\n",
    "        \"\"\"\n",
    "        self.birthdate = dob\n",
    "    \n",
    "    def set_occupation(self, occupation):\n",
    "        \"\"\"Assumes occupation is of type string.\n",
    "        Sets self's occupation to the string provided.\n",
    "        \"\"\"\n",
    "        self.occupation = occupation\n",
    "        \n",
    "    def get_occupation(self):\n",
    "        \"\"\"Gets self's occupation.\"\"\"\n",
    "        return self.occupation\n",
    "    \n",
    "    def __str__(self):\n",
    "        \"\"\"Returns self's full name.\"\"\"\n",
    "        return self.get_name()\n",
    "    \n",
    "    def __lt__(self, other):\n",
    "        \"\"\"Returns True if self's last name precedes other's last name\n",
    "        in alphabethical order. If they are equal, compares first names.\n",
    "        \"\"\"\n",
    "        if self.last_name == other.last_name:\n",
    "            return self.first_name < other.first_name\n",
    "        return self.last_name < other.last_name\n",
    "    \n",
    "p1 = Person('Greta', 'Thunberg')\n",
    "p1.set_occupation('student')\n",
    "print(p1, '–', p1.get_occupation())"
   ]
  },
  {
   "cell_type": "markdown",
   "metadata": {
    "slideshow": {
     "slide_type": "slide"
    }
   },
   "source": [
    "## Inheritance: Exercise\n"
   ]
  },
  {
   "cell_type": "code",
   "execution_count": 7,
   "metadata": {
    "slideshow": {
     "slide_type": "-"
    }
   },
   "outputs": [
    {
     "data": {
      "text/plain": [
       "'Top secret'"
      ]
     },
     "execution_count": 7,
     "metadata": {},
     "output_type": "execute_result"
    }
   ],
   "source": [
    "# We add the department attribute to LSE person since practically all\n",
    "# individuals at LSE are affiliated with a department.\n",
    "\n",
    "class LSEPerson(Person):\n",
    "    \n",
    "    next_id_num = 1 # unique identifiication number\n",
    "        \n",
    "    def __init__(self, f_name, l_name):\n",
    "        \"\"\"Creates an LSE person using first and last names.\"\"\"\n",
    "        Person.__init__(self, f_name, l_name)\n",
    "        self.id_num = LSEPerson.next_id_num\n",
    "        self.department = None\n",
    "        LSEPerson.next_id_num += 1\n",
    "    \n",
    "    def get_id_num(self):\n",
    "        \"\"\"Gets self's unique LSE number.\"\"\"\n",
    "        return self.id_num\n",
    "    \n",
    "    def get_department(self):\n",
    "        \"\"\"Gets self's LSE department.\"\"\"\n",
    "        return self.department\n",
    "    \n",
    "    def set_department(self, department):\n",
    "        \"\"\"Sets self's LSE department to department.\"\"\"\n",
    "        self.department = department\n",
    "    \n",
    "    def __lt__(self, other):\n",
    "        \"\"\"Returns True if self's id number is smaller than other's id number.\"\"\"\n",
    "        return self.id_num < other.id_num\n",
    "\n",
    "# We add the salary attribute to the Staff subclass.\n",
    "# Analogously, if we were to add an attribute \"tuition\", \n",
    "# it will go under the Acad subclass.\n",
    "\n",
    "class Staff(LSEPerson):\n",
    "    def __init__(self, f_name, l_name):\n",
    "        \"\"\"Creates a staff member at LSE using first and last names.\"\"\"\n",
    "        LSEPerson.__init__(self, f_name, l_name)\n",
    "        self.salary = None\n",
    "        \n",
    "    def get_salary(self):\n",
    "        \"\"\"Gets self's salary.\"\"\"\n",
    "        return self.salary\n",
    "    \n",
    "    def set_salary(self, salary):\n",
    "        \"\"\"Sets self's salary to salary.\n",
    "        \"\"\"\n",
    "        self.salary = salary\n",
    "\n",
    "class Admin(Staff):\n",
    "    pass\n",
    "\n",
    "class Acad(Staff):\n",
    "    pass\n",
    "\n",
    "class Student(LSEPerson):\n",
    "    pass\n",
    "\n",
    "class Undergrad(Student):\n",
    "    pass\n",
    "\n",
    "class Grad(Student):\n",
    "    pass\n",
    "    \n",
    "prof1 = Acad('Angelina', 'Jolie')\n",
    "prof1.set_department(\"Centre for Women, Peace and Security\")\n",
    "prof1.set_salary('Top secret')\n",
    "\n",
    "prof1.get_salary()"
   ]
  }
 ],
 "metadata": {
  "celltoolbar": "Slideshow",
  "kernelspec": {
   "display_name": "Python 3",
   "language": "python",
   "name": "python3"
  },
  "language_info": {
   "codemirror_mode": {
    "name": "ipython",
    "version": 3
   },
   "file_extension": ".py",
   "mimetype": "text/x-python",
   "name": "python",
   "nbconvert_exporter": "python",
   "pygments_lexer": "ipython3",
   "version": "3.7.3"
  }
 },
 "nbformat": 4,
 "nbformat_minor": 2
}
