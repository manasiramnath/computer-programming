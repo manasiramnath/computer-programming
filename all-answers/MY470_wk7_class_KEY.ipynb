{
 "cells": [
  {
   "cell_type": "markdown",
   "metadata": {
    "slideshow": {
     "slide_type": "slide"
    }
   },
   "source": [
    "### MY470 Computer Programming\n",
    "# Unit Testing, Exceptions, and Assertions in Python\n",
    "### Week 7 Lab: \\*\\*\\* Example Answers \\*\\*\\*"
   ]
  },
  {
   "cell_type": "markdown",
   "metadata": {
    "slideshow": {
     "slide_type": "slide"
    }
   },
   "source": [
    "## Understanding `if __name__ == '__main__':`\n",
    "\n",
    "Assume that we have a file that is called `using_name.py`. The file contains the code below.\n",
    "\n",
    "``` python\n",
    "# Filename: using_name.py\n",
    "if __name__ == '__main__':\n",
    "    print('This program is being run by itself')\n",
    "else:\n",
    "    print('I am being imported from another module')\n",
    "```"
   ]
  },
  {
   "cell_type": "markdown",
   "metadata": {
    "slideshow": {
     "slide_type": "slide"
    }
   },
   "source": [
    "#### Question 1\n",
    "\n",
    "If I were to run the files directly (below), what output would I see?\n",
    "```bash\n",
    "> python3 using_name.py\n",
    "```\n",
    "\n",
    "#### Output\n",
    "```\n",
    "This program is being run by itself\n",
    "```"
   ]
  },
  {
   "cell_type": "markdown",
   "metadata": {
    "slideshow": {
     "slide_type": "-"
    }
   },
   "source": [
    "#### Question 2\n",
    "\n",
    "If I were to import the file into another (below), what output would I see?\n",
    "```\n",
    "import using_name\n",
    "```\n",
    "\n",
    "#### Output\n",
    "```\n",
    "I am being imported from another module\n",
    "```"
   ]
  },
  {
   "cell_type": "code",
   "execution_count": 1,
   "metadata": {
    "collapsed": true,
    "slideshow": {
     "slide_type": "slide"
    }
   },
   "outputs": [],
   "source": [
    "# Exercise 1: Using unittest, write all informative tests \n",
    "# for the program below. Save the program in a file called \n",
    "# leading.py and the tests in a file called test_leading.py. \n",
    "# Then run the tests.\n",
    "\n",
    "def leading_substrings(s):\n",
    "    \"\"\"Take string s as input and return a list of all \n",
    "    the substrings that start from the beginning.\n",
    "    E.g., leading_substrings('bear') will return \n",
    "    ['b', 'be', 'bea', 'bear'].\n",
    "    \"\"\"\n",
    "    return [s[:i+1] for i in range(len(s))]\n",
    "\n",
    "\n",
    "# Solution: See the files leading.py and test_leading.py. \n",
    "# Run the tests in the Terminal using: python test_leading.py\n"
   ]
  },
  {
   "cell_type": "code",
   "execution_count": null,
   "metadata": {
    "slideshow": {
     "slide_type": "slide"
    }
   },
   "outputs": [
    {
     "name": "stdout",
     "output_type": "stream",
     "text": [
      "Please enter your age: 10.4\n",
      "10.4 is not a valid input. Please enter your age as an integer.\n",
      "Please enter your age: 10.0\n",
      "10.0 is not a valid input. Please enter your age as an integer.\n"
     ]
    }
   ],
   "source": [
    "# Exercise 2: Rewrite the function below with \n",
    "# try and except to handle situations in which the user \n",
    "# does not enter an integer.\n",
    "\n",
    "def get_user_age():\n",
    "    \"\"\"Ask user to input their age and return the input \n",
    "    as an integer.\n",
    "    \"\"\"\n",
    "    s = input(\"Please enter your age: \")\n",
    "    return int(s)\n",
    "\n",
    "\n",
    "# Solution: Repeatedly ask for input unless the user \n",
    "# supplies the correct value.\n",
    "\n",
    "def get_user_age():\n",
    "    \"\"\"Ask user to input their age and return the input \n",
    "    as an integer.\n",
    "    \"\"\"\n",
    "    while True:\n",
    "        s = input(\"Please enter your age: \")\n",
    "        try:\n",
    "            return int(s)\n",
    "        except:\n",
    "            print(s, \"is not a valid input. Please enter your age as an integer.\")\n",
    "\n",
    "get_user_age()"
   ]
  },
  {
   "cell_type": "code",
   "execution_count": 1,
   "metadata": {
    "slideshow": {
     "slide_type": "slide"
    }
   },
   "outputs": [
    {
     "name": "stdout",
     "output_type": "stream",
     "text": [
      "b already has 1 items\n",
      "Item 4 successfully added to b\n",
      "Added c to dictionary\n",
      "Item 1 successfully added to c\n"
     ]
    }
   ],
   "source": [
    "# Exercise 3: Consider the function below. Rewrite the function \n",
    "# with try and except to handle the situation when the list \n",
    "# with the name provided doesn't exist in the dictionary yet, \n",
    "# instead of checking beforehand whether it does. Include else and \n",
    "# finally clauses to print the text as in the original function.\n",
    "\n",
    "def add_to_list_in_dict(dic, lname, element):\n",
    "    \"\"\"Add element to list with lname in dictionary dic.\"\"\"\n",
    "    \n",
    "    if lname not in dic:\n",
    "        dic[lname] = []\n",
    "        print('Added', lname, 'to dictionary')\n",
    "    else:\n",
    "        x = dic[lname]\n",
    "        print(lname, 'already has', len(x), 'items')\n",
    "        \n",
    "    dic[lname].append(element)\n",
    "    print('Item', element, 'successfully added to', lname)\n",
    "\n",
    "    \n",
    "# Solution: The use of else may be a bit unintuitive. \n",
    "# Why not include print(lname, 'already has', len(x), 'items') \n",
    "# under try? The reason is that else allows us to separate \n",
    "# different possible errors. In the solution below it is still \n",
    "# possible that len(x) may return an error and we would have \n",
    "# overlooked this problem if len(x) was under the try statement.\n",
    "\n",
    "\n",
    "def add_to_list_in_dict(dic, lname, element):\n",
    "    \"\"\"Add element to list with lname in dictionary dic.\"\"\"\n",
    "    \n",
    "    try:\n",
    "        x = dic[lname]\n",
    "    except:\n",
    "        dic[lname] = []\n",
    "        print('Added', lname, 'to dictionary')\n",
    "    else:\n",
    "        print(lname, 'already has', len(x), 'items')\n",
    "    finally:\n",
    "        dic[lname].append(element)\n",
    "        print('Item', element, 'successfully added to', lname)\n",
    "\n",
    "dic = {'a':[], 'b':[1]}\n",
    "add_to_list_in_dict(dic, 'b', 4)\n",
    "add_to_list_in_dict(dic, 'c', 1)\n"
   ]
  }
 ],
 "metadata": {
  "celltoolbar": "Slideshow",
  "kernelspec": {
   "display_name": "Python 3 (ipykernel)",
   "language": "python",
   "name": "python3"
  },
  "language_info": {
   "codemirror_mode": {
    "name": "ipython",
    "version": 3
   },
   "file_extension": ".py",
   "mimetype": "text/x-python",
   "name": "python",
   "nbconvert_exporter": "python",
   "pygments_lexer": "ipython3",
   "version": "3.9.7"
  }
 },
 "nbformat": 4,
 "nbformat_minor": 2
}
