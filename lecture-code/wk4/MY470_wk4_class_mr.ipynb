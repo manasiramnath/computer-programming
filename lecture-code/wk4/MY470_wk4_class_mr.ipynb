{
 "cells": [
  {
   "attachments": {},
   "cell_type": "markdown",
   "metadata": {
    "slideshow": {
     "slide_type": "slide"
    }
   },
   "source": [
    "### MY470 Computer Programming\n",
    "# Writing and Calling Functions in Python\n",
    "### Week 4 Lab"
   ]
  },
  {
   "attachments": {},
   "cell_type": "markdown",
   "metadata": {
    "slideshow": {
     "slide_type": "slide"
    }
   },
   "source": [
    "## Defining and Calling Functions\n",
    "\n",
    "### Defining a function\n",
    "\n",
    "```\n",
    "def *function_name*(*list of parameters*):\n",
    "    *body of function*\n",
    "```\n",
    "\n",
    "### Calling a function\n",
    "\n",
    "```\n",
    "*function_name*(*arguments*)\n",
    "```\n",
    "\n",
    "### Functions can take 0 or more arguments and return 1 or more values!\n",
    "\n",
    "### If a function does not have `return` statement, it returns `None`."
   ]
  },
  {
   "attachments": {},
   "cell_type": "markdown",
   "metadata": {
    "slideshow": {
     "slide_type": "slide"
    }
   },
   "source": [
    "## Functions Take Arguments by Reference"
   ]
  },
  {
   "cell_type": "code",
   "execution_count": 1,
   "metadata": {
    "slideshow": {
     "slide_type": "-"
    }
   },
   "outputs": [
    {
     "name": "stdout",
     "output_type": "stream",
     "text": [
      "[1, 2, 3, 0]\n"
     ]
    }
   ],
   "source": [
    "def change_list(alist):\n",
    "    alist.append(0)\n",
    "\n",
    "mylist = [1, 2, 3]\n",
    "change_list(mylist)\n",
    "print(mylist)"
   ]
  },
  {
   "cell_type": "code",
   "execution_count": 1,
   "metadata": {
    "scrolled": true,
    "slideshow": {
     "slide_type": "fragment"
    }
   },
   "outputs": [
    {
     "name": "stdout",
     "output_type": "stream",
     "text": [
      "[1, 2, 3]\n"
     ]
    }
   ],
   "source": [
    "def zero_list(alist):\n",
    "    \"\"\"Takes a list and returns another list of the same length \n",
    "    that looks like [0, 0, 0, ...].\n",
    "    \"\"\"\n",
    "    alist = [0]*len(alist)  # Creates a new local reference for alist\n",
    "\n",
    "mylist = [1, 2, 3]\n",
    "zero_list(mylist)\n",
    "print(mylist)"
   ]
  },
  {
   "cell_type": "code",
   "execution_count": 3,
   "metadata": {
    "collapsed": true,
    "slideshow": {
     "slide_type": "fragment"
    }
   },
   "outputs": [
    {
     "data": {
      "text/plain": [
       "[0, 0, 0, 0, 0]"
      ]
     },
     "execution_count": 3,
     "metadata": {},
     "output_type": "execute_result"
    }
   ],
   "source": [
    "# Exercise 1: Rewrite the function definition and call above \n",
    "# to accomplish what the function intends to do.\n",
    "\n",
    "def zero_list(alist):\n",
    "    \"\"\"Takes a list and returns another list of the same length \n",
    "    that looks like [0, 0, 0, ...].\n",
    "    \"\"\"\n",
    "    # create list of the same len that looks like [0, 0, 0, ...]\n",
    "    newlist = [0]*len(alist)  \n",
    "\n",
    "    # return that new list\n",
    "    return(newlist)\n",
    "# rewrite\n",
    "newl = [1,2,3,6,2]\n",
    "zero_list(newl)\n"
   ]
  },
  {
   "attachments": {},
   "cell_type": "markdown",
   "metadata": {
    "slideshow": {
     "slide_type": "slide"
    }
   },
   "source": [
    "## Using Docstrings (String Literals) to Specify Functions\n"
   ]
  },
  {
   "cell_type": "code",
   "execution_count": 4,
   "metadata": {
    "scrolled": true,
    "slideshow": {
     "slide_type": "-"
    }
   },
   "outputs": [
    {
     "name": "stdout",
     "output_type": "stream",
     "text": [
      "Help on function f in module __main__:\n",
      "\n",
      "f(x, y)\n",
      "    Demonstrates the importance of providing specification for functions.\n",
      "    Assumes x and y any type.\n",
      "    Returns nothing.\n",
      "\n"
     ]
    }
   ],
   "source": [
    "def f(x, y):\n",
    "    \"\"\"Demonstrates the importance of providing specification for functions.\n",
    "    Assumes x and y any type.\n",
    "    Returns nothing.\n",
    "    \"\"\"\n",
    "    pass\n",
    "\n",
    "help(f)"
   ]
  },
  {
   "attachments": {},
   "cell_type": "markdown",
   "metadata": {
    "slideshow": {
     "slide_type": "fragment"
    }
   },
   "source": [
    "![Commenting](figs/commenting.jpg \"Commenting\")"
   ]
  },
  {
   "attachments": {},
   "cell_type": "markdown",
   "metadata": {
    "slideshow": {
     "slide_type": "slide"
    }
   },
   "source": [
    "## Using Functions Instead of Copy-Pasting Code"
   ]
  },
  {
   "cell_type": "code",
   "execution_count": 5,
   "metadata": {
    "slideshow": {
     "slide_type": "-"
    }
   },
   "outputs": [
    {
     "name": "stdout",
     "output_type": "stream",
     "text": [
      "Alan Turing was a mathematician.\n",
      "Richard Feynman was a physicist.\n",
      "Marie Curie was a chemist.\n",
      "Charles Darwin was a biologist.\n",
      "Ada Lovelace was a mathematician.\n",
      "Werner Heisenberg was a physicist.\n"
     ]
    }
   ],
   "source": [
    "# Consider the following code:\n",
    "\n",
    "# Print the name and profession of famous dead scientists:\n",
    "print('Alan Turing was a mathematician.')\n",
    "print('Richard Feynman was a physicist.')\n",
    "print('Marie Curie was a chemist.')\n",
    "print('Charles Darwin was a biologist.')\n",
    "print('Ada Lovelace was a mathematician.')\n",
    "print('Werner Heisenberg was a physicist.')"
   ]
  },
  {
   "cell_type": "code",
   "execution_count": 16,
   "metadata": {
    "collapsed": true,
    "slideshow": {
     "slide_type": "-"
    }
   },
   "outputs": [
    {
     "name": "stdout",
     "output_type": "stream",
     "text": [
      "Alan Turing was a mathematician.\n",
      "Richard Feynman was a physicist.\n",
      "Marie Curie was a chemist.\n",
      "Charles Darwin was a biologist.\n",
      "Ada Lovelace was a mathematician.\n",
      "Werner Heisenberg was a physicist.\n",
      "None\n"
     ]
    }
   ],
   "source": [
    "# Exercise 2: Rewrite the code using a function and a suitable data structure.\n",
    "scientists = {'Alan Turing': 'mathematician', \n",
    " 'Richard Feynman': 'physicist',\n",
    " 'Marie Curie': 'chemist',\n",
    " 'Charles Darwin': 'biologist',\n",
    " 'Ada Lovelace': 'mathematician',\n",
    "   'Werner Heisenberg': 'physicist'  \n",
    "   }\n",
    "\n",
    "def pro_printer(namedict):\n",
    "    \"\"\" Docstring\n",
    "    \"\"\"\n",
    "    for name, job in namedict.items():\n",
    "       print(f'{name} was a {job}.')\n",
    "\n",
    "pro_printer(scientists)\n",
    "# x = pro_printer(scientists)\n",
    "print(x) # would return none"
   ]
  },
  {
   "attachments": {},
   "cell_type": "markdown",
   "metadata": {
    "slideshow": {
     "slide_type": "slide"
    }
   },
   "source": [
    "## Using Functions to Improve Legibility and Modularity"
   ]
  },
  {
   "cell_type": "code",
   "execution_count": 8,
   "metadata": {
    "slideshow": {
     "slide_type": "-"
    }
   },
   "outputs": [
    {
     "name": "stdout",
     "output_type": "stream",
     "text": [
      "8.860022573334675\n"
     ]
    }
   ],
   "source": [
    "# Consider the following code:\n",
    "\n",
    "# You are given two points in 2-D space\n",
    "x = (1, 1)\n",
    "y = (5, 4)\n",
    "\n",
    "# Calculate the area of the circle if one of the points is the circle center \n",
    "# and the other is on the perimeter and then calculate the side of the square \n",
    "# with the same area\n",
    "r_sq = (x[0] - y[0])**2 + (x[1] - y[1])**2\n",
    "area = 3.14*r_sq\n",
    "sq_side = area**0.5\n",
    "print(sq_side)\n"
   ]
  },
  {
   "cell_type": "code",
   "execution_count": 20,
   "metadata": {
    "collapsed": true,
    "slideshow": {
     "slide_type": "-"
    }
   },
   "outputs": [
    {
     "ename": "NameError",
     "evalue": "name 'r_sq' is not defined",
     "output_type": "error",
     "traceback": [
      "\u001b[0;31m---------------------------------------------------------------------------\u001b[0m",
      "\u001b[0;31mNameError\u001b[0m                                 Traceback (most recent call last)",
      "Cell \u001b[0;32mIn[20], line 17\u001b[0m\n\u001b[1;32m     14\u001b[0m     \u001b[39mreturn\u001b[39;00m(sq_side)\n\u001b[1;32m     16\u001b[0m radius_squared((\u001b[39m1\u001b[39m,\u001b[39m1\u001b[39m),(\u001b[39m5\u001b[39m,\u001b[39m4\u001b[39m))\n\u001b[0;32m---> 17\u001b[0m get_area(r_sq)\n",
      "\u001b[0;31mNameError\u001b[0m: name 'r_sq' is not defined"
     ]
    }
   ],
   "source": [
    "# Exercise 3: Rewrite the code above using functions \n",
    "# to make it easier to read.\n",
    "\n",
    "def radius_squared(x,y):\n",
    "    \"\"\"docstring\"\"\"\n",
    "    return (x[0] - y[0])**2 + (x[1] - y[1])**2\n",
    "\n",
    "def get_area(r_sq):\n",
    "    \"\"\"docstring\"\"\"\n",
    "    return 3.14*r_sq\n",
    "\n",
    "def get_sq_side(area):\n",
    "    \"\"\"docstring\"\"\"\n",
    "    return area**0.5\n",
    "\n",
    "def square_the_circle(x, y):\n",
    "    r_sq = radius_squared(x, y)\n",
    "    area = get_area(r_sq)\n",
    "    sq_side = get_sq_side(area)\n",
    "    return sq_side\n",
    "\n",
    "r_sq = radius_squared(x, y)\n",
    "area = get_area(r_sq)\n",
    "sq_side = get_sq_side(area)\n",
    "print(sq_side)\n",
    "\n"
   ]
  },
  {
   "attachments": {},
   "cell_type": "markdown",
   "metadata": {
    "slideshow": {
     "slide_type": "slide"
    }
   },
   "source": [
    "## Using Functions Inside List Comprehensions"
   ]
  },
  {
   "cell_type": "code",
   "execution_count": 21,
   "metadata": {
    "slideshow": {
     "slide_type": "-"
    }
   },
   "outputs": [
    {
     "name": "stdout",
     "output_type": "stream",
     "text": [
      "25\n",
      "16\n",
      "9\n",
      "4\n",
      "1\n",
      "0.0\n",
      "1.0\n",
      "1.4142135623730951\n",
      "1.7320508075688772\n",
      "2.0\n",
      "2.23606797749979\n",
      "[None, None, None, None, None, None, None, None, None, None, None]\n"
     ]
    }
   ],
   "source": [
    "def sq_or_sqrt(x):\n",
    "    \"\"\"Assumes x is numeric. Returns the square of x if x is negative\n",
    "    and the square root of x if x is nonnegative.\n",
    "    \"\"\"\n",
    "    if x < 0:\n",
    "        return x**2\n",
    "    else:\n",
    "        return x**0.5\n",
    "\n",
    "lst = [sq_or_sqrt(i) for i in range(-5, 6)] \n",
    "lst = [print(sq_or_sqrt(i)) for i in range(-5, 6)] #remember print returns None!!!!\n",
    "print(lst)\n"
   ]
  },
  {
   "cell_type": "code",
   "execution_count": 25,
   "metadata": {
    "collapsed": true,
    "slideshow": {
     "slide_type": "-"
    }
   },
   "outputs": [
    {
     "data": {
      "text/plain": [
       "[None, None, 2, 178, None, 12, None, None, 12]"
      ]
     },
     "execution_count": 25,
     "metadata": {},
     "output_type": "execute_result"
    }
   ],
   "source": [
    "# Exercise 4: Using a function and a list comprehension, \n",
    "# create a new list that has the numbers from testlist \n",
    "# if they are positive and None otherwise\n",
    "\n",
    "testlist = [-1, 0, 2, 178, -17.2, 12, -2, -3, 12]\n",
    "\n",
    "def posnone(x):\n",
    "    if x > 0:\n",
    "        return x\n",
    "\n",
    "lst = [posnone(x) for x in testlist]\n",
    "lst"
   ]
  },
  {
   "cell_type": "code",
   "execution_count": 41,
   "metadata": {
    "collapsed": true,
    "slideshow": {
     "slide_type": "-"
    }
   },
   "outputs": [
    {
     "data": {
      "text/plain": [
       "[None, 0.0, None, 89.0, -1.4333333333333333, 24.0, None, -12.0, None]"
      ]
     },
     "execution_count": 41,
     "metadata": {},
     "output_type": "execute_result"
    }
   ],
   "source": [
    "# Exercise 5: Using a function and a list comprehension, create \n",
    "# a new list that includes the result from dividing each number \n",
    "# from testlist1 by the corresponding number in testlist2; \n",
    "# For the cases when the divisor is 0, the new list should include None\n",
    "\n",
    "testlist1 = [-1, 0, 2, 178, -17.2, 12, -2, -3, 12]\n",
    "testlist2 = [0, 5, 0, 2, 12, 0.5, 0, 0.25, 0]\n",
    "\n",
    "def divide(numerator, denominator):\n",
    "    # check if denom is zero\n",
    "    if denominator == 0:\n",
    "        return None\n",
    "    else:\n",
    "        return numerator/denominator\n",
    "\n",
    "lst = [divide(testlist1[i], testlist2[i]) for i in range(len(testlist1))] # trick to iterate through two lists of the same length at the same time\n",
    "lst"
   ]
  },
  {
   "attachments": {},
   "cell_type": "markdown",
   "metadata": {
    "slideshow": {
     "slide_type": "slide"
    }
   },
   "source": [
    "## Using Functions For General Cases"
   ]
  },
  {
   "cell_type": "code",
   "execution_count": 40,
   "metadata": {
    "collapsed": true,
    "slideshow": {
     "slide_type": "-"
    }
   },
   "outputs": [
    {
     "name": "stdout",
     "output_type": "stream",
     "text": [
      "False\n",
      "True\n"
     ]
    }
   ],
   "source": [
    "# Exercise 6: Write a Python function that checks if a string \n",
    "# is a palindrome. A palindrome is a word or a phrase that reads \n",
    "# the same backward as forward. For example, redder, nurses run, dad...\n",
    "def palindrome(s):\n",
    "    if s == s[::-1]:\n",
    "        return True\n",
    "    else:\n",
    "        return False\n",
    "\n",
    "print(palindrome('nurses run'))\n",
    "print(palindrome('racecar'))\n"
   ]
  },
  {
   "cell_type": "code",
   "execution_count": null,
   "metadata": {},
   "outputs": [],
   "source": []
  }
 ],
 "metadata": {
  "celltoolbar": "Slideshow",
  "kernelspec": {
   "display_name": "Python 3 (ipykernel)",
   "language": "python",
   "name": "python3"
  },
  "language_info": {
   "codemirror_mode": {
    "name": "ipython",
    "version": 3
   },
   "file_extension": ".py",
   "mimetype": "text/x-python",
   "name": "python",
   "nbconvert_exporter": "python",
   "pygments_lexer": "ipython3",
   "version": "3.11.5"
  }
 },
 "nbformat": 4,
 "nbformat_minor": 2
}
