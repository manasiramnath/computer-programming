{
 "cells": [
  {
   "attachments": {},
   "cell_type": "markdown",
   "metadata": {
    "slideshow": {
     "slide_type": "slide"
    }
   },
   "source": [
    "### MY470 Computer Programming\n",
    "\n",
    "### Final Assignment, AT 2023\n",
    "\n",
    "#### \\*\\*\\* Due 12:00 noon on Monday, January 15 \\*\\*\\*"
   ]
  },
  {
   "attachments": {},
   "cell_type": "markdown",
   "metadata": {
    "slideshow": {
     "slide_type": "slide"
    }
   },
   "source": [
    "---\n",
    "### Conflict on Wikipedia\n",
    "\n",
    "The final assignment asks you to use the computational thinking and programming skills you learned in the course to answer an empirical social science question. You are expected to apply the best practices and theoretical concepts we covered in the course to produce a program that not only produces the correct output but is also legible, modular, and reasonably optimized. The assignment assumes mastery of loops, conditionals, and functions, as well as awareness of issues related to computational complexity and runtime performance.\n",
    "\n",
    "In the assignment, we will study reverts on Wikipedia. A revert occurs when an editor undoes the changes made by another editor. We will first identify who reverted whom and when, then identify situations in which if $A$ reverted $B$, $B$ reverted $A$ within 24 hours, and finally, study the difference in seniority between $A$ and $B$.\n",
    "\n",
    "**You can use Copilot in VS Code** but no other generative-AI tool is allowed. You are expected to work on your own for this assignment and hence, you should not discuss or use solutions from others (whether current or past students, family members, neighbors, paid consultants, essay farm workers, volunteers on StackOverflow, etc.). \n",
    "\n",
    "**Solutions should use basic Python data types, simple modules such as `pickle`, `random`, `datetime`, and the packages `numpy`, `matplotlib`, and `seaborn`**. You are NOT allowed to use advanced data processing packages such as pandas, networkx, scikitlearn, etc.\n",
    "\n",
    "You can either use an object-oriented approach or procedural programming. Both are equally acceptable.  \n",
    "\n",
    "#### Hints\n",
    "\n",
    "Refer to the lecture and class slides from Week 11 to find out about peculiarities in the data and useful modules that you should take into consideration.\n",
    "\n",
    "Although this assignment is quite streamlined, imagine that the tasks here are part of a larger project. How would you structure your program if you may need to manipulate the data differently, add additional analyses, or modify the focus of the current analysis? \n",
    "\n",
    "Keep different data manipulations in separate functions/classes. Keep functions/classes in a separate `.py` file and then import the functions in the code cell below to run the main steps from here. \n",
    "\n",
    "You will need to consider whether you should save intermediary results on disk instead of holding them in memory or processing the data again and again. If so, save any new files in this repository (and NOT in the data repository, which is shared)."
   ]
  },
  {
   "attachments": {},
   "cell_type": "markdown",
   "metadata": {
    "slideshow": {
     "slide_type": "slide"
    }
   },
   "source": [
    "### Data\n",
    "\n",
    "We will use data from the file `../data/rowiki_2006.txt` in the `data` repository on GitHub. \n",
    "To data were originally obtained from the Wikipedia XML Dumps (https://dumps.wikimedia.org/mirrors.html) and include every article edit made on Romanian Wikipedia since it began until the end of 2006. Each line in the file is an edit and includes the title of the edited article, the time when the edit was submitted, whether the edit was a revert, the version of the article, and the user who submitted the edit. To detect the article versions, a hash was calculated for the complete article text following each revision and the hashes were compared between edits. \n",
    "\n",
    "The table below describes the variables in the data:\n",
    "\n",
    "| Variable   | Explanation   \n",
    "|:-----------|:-------\n",
    "| title      | title of the edited article               \n",
    "| time       | time in the format YYYY-MM-DD HH:MM:SS when the edit was completed  \n",
    "| revert     | 1 if the edit was detected to revert to a previous article version, 0 otherwise \n",
    "| version    | an integer indicating a unique state of the article, generally increasing over time; -1 indicates the article was empty (usually due to vandalism); if the same number appears more than once, then the article was exactly in the same state at these different time points  \n",
    "| user       | the editor's username or if not logged in, the editor's IP address  \n"
   ]
  },
  {
   "attachments": {},
   "cell_type": "markdown",
   "metadata": {},
   "source": [
    "### 1. Who reverted whom?\n",
    "\n",
    "Your goal is to create a network (e.g., an edge list), where an edge goes from the editor who restored an earlier version of the article (the \"reverter\") to the editor who made the revision immediately after that version (the \"reverted\"). For every edge, you should know who the reverter was, who got reverted, when the revert occurred, and what the \"seniority\" of the the reverter and the reverted were at this point in time.\n",
    "\n",
    "We will ignore the article titles for the analyses so you don't need to save these.\n",
    "\n",
    "In addition, you will need to clean up the self-reverts – we will not use them in the analyses here.\n",
    "\n",
    "We will estimate seniority $s_i$ of editor $i$ as the base-ten logarithm of the number of edits $i$ has completed by the time of the revert under question. Transforming the number of edits with the logarithm makes sense because they follow a power-law distribution (the majority of individuals have very few edits, while a handful of individuals are responsible for most of the work). This operationalization allows to express the difference in seniority between two editors as the base-ten logarithm of the ratio of number of edits since $s_i - s_j = \\log_{10} e_i - \\log_{10} e_j = \\log_{10} \\frac{e_i}{e_j}$, where $e_i$ is the number of edits of editor $i$ and $e_j$ is the number of edits of editor $j$. In essence, we assume that an editor who has 10 edits compares to one with 100 edits the same way that an editor with 1,000 edits compares to one with 10,000.\n",
    "\n",
    "**Print the first 5 data points** in your network (what these look like will depend on the data type you are using).\n",
    "\n",
    "Then **print the number of nodes and edges** in the network.\n",
    "\n",
    "#### Hints\n",
    "\n",
    "There are multiple ways to save the network data: you can use a single list, or multiple lists, or a list and dictionaries, or just dictionaries, or create your own network class. You should consider how you are going to use the data to decide on a reasonable data structure."
   ]
  },
  {
   "cell_type": "code",
   "execution_count": 7,
   "metadata": {},
   "outputs": [],
   "source": [
    "import network_functions as nf"
   ]
  },
  {
   "cell_type": "code",
   "execution_count": 8,
   "metadata": {},
   "outputs": [],
   "source": [
    "# Get the data from the file\n",
    "rowiki = nf.get_data('../data/rowiki_2006.txt')\n",
    "# Pickle the data for later use\n",
    "nf.save_data(rowiki, '../ps-final-manasiramnath/rowiki_dict.pkl')"
   ]
  },
  {
   "cell_type": "code",
   "execution_count": 9,
   "metadata": {},
   "outputs": [
    {
     "name": "stdout",
     "output_type": "stream",
     "text": [
      "First 5 points:\n",
      "{'reverter': 'Thijs!bot', 'reverted': 'RobotQuistnix', 'time': datetime.datetime(2006, 8, 27, 0, 39, 41), 'seniority_i': 3.427972713608209, 'seniority_j': 4.475743806748126}\n",
      "{'reverter': 'Iulianu', 'reverted': 'TSO1D', 'time': datetime.datetime(2006, 1, 25, 0, 15, 10), 'seniority_i': 3.41161970596323, 'seniority_j': 2.5224442335063197}\n",
      "{'reverter': 'TSO1D', 'reverted': 'Zwobot', 'time': datetime.datetime(2006, 1, 25, 0, 12, 36), 'seniority_i': 2.5211380837040362, 'seniority_j': 3.029789470831856}\n",
      "{'reverter': 'Laurap', 'reverted': '86.55.176.66', 'time': datetime.datetime(2006, 5, 5, 7, 52, 54), 'seniority_i': 3.529430354366986, 'seniority_j': 1.255272505103306}\n",
      "{'reverter': 'Alex:D', 'reverted': '89.120.204.229', 'time': datetime.datetime(2006, 12, 12, 22, 28, 26), 'seniority_i': 3.243534101832062, 'seniority_j': 0.0}\n",
      "Number of nodes: 4805\n",
      "Number of edges: 7364\n"
     ]
    }
   ],
   "source": [
    "# Unpickle the data\n",
    "rowiki = nf.load_data('../ps-final-manasiramnath/rowiki_dict.pkl')\n",
    "# Sort the data\n",
    "sorted_user_edits = nf.get_sorted_edits(rowiki)\n",
    "# Create network before seniority\n",
    "network_before_seniority = nf.create_network(rowiki)\n",
    "# Add seniority to the network\n",
    "network = nf.seniority(sorted_user_edits, network_before_seniority)\n",
    "# Print the network statistics\n",
    "nf.get_nodes_edges(network)"
   ]
  },
  {
   "cell_type": "code",
   "execution_count": 10,
   "metadata": {},
   "outputs": [],
   "source": [
    "# Pickle the network for later use\n",
    "network = nf.save_data(network, '../ps-final-manasiramnath/network.pkl')"
   ]
  },
  {
   "attachments": {},
   "cell_type": "markdown",
   "metadata": {},
   "source": [
    "### 2. If $A$ reverted $B$, did $B$ revert $A$?\n",
    "\n",
    "The aim is to identify the two-event sequence in which after $A$ reverts $B$, $B$ reverts $A$ back ($AB–BA$) within 24 hours. To identify these sequences, use the revert data from the previous task. We will ignore the article titles — we are agnostic as to whether the response happens in the same or in different articles. Further, it does not matter whether the response occurs immediately after the original revert or alternatively, the reverter and the reverted are involved in other reverts in-between the original revert and the response. If more than one response occurs within 24 hours, consider only the first one as part of the event sequence.\n",
    "\n",
    "When you identify an AB–BA event sequence, save information about the edges that allows you to identify them later. \n",
    "\n",
    "**Print the number of AB–BA event sequences in the data.**\n",
    "\n",
    "#### Hints\n",
    "\n",
    "If you have $AB_{t1}$, $BA_{t2}$, and $BA_{t3}$, all within 24 hours of each other, you should only count $AB_{t1}–BA_{t2}$ as an event sequence.\n",
    "\n",
    "Note that with this definition, an edge can be part of up to two AB-BA event sequence. For example, for revert $BA_{t2}$, you can have $AB_{t1}–BA_{t2}$, as well as $BA_{t2}–AB_{t3}$ (the labels $A$ and $B$ are arbitrary). "
   ]
  },
  {
   "cell_type": "code",
   "execution_count": 11,
   "metadata": {},
   "outputs": [
    {
     "name": "stdout",
     "output_type": "stream",
     "text": [
      "Number of AB-BA sequences: 316\n"
     ]
    }
   ],
   "source": [
    "# Load the network\n",
    "network = nf.load_data('../ps-final-manasiramnath/network.pkl')\n",
    "# Get the ABBA sequences\n",
    "abba_sequences = nf.get_abba(network)"
   ]
  },
  {
   "attachments": {},
   "cell_type": "markdown",
   "metadata": {},
   "source": [
    "### 3. Are $A$ and $B$ more similar in seniority than expected?\n",
    "\n",
    "Social comparison theory states that people strive to gain accurate self-evaluations and as a result, they tend to compare themselves to those who are similar. But since focus on relative performance heightens feelings of competitiveness, rivalry is stronger among similar individuals. This leads us to expect that the editors involved in the $AB–BA$ event sequences tend to be closer in seniority than expected.\n",
    "\n",
    "To find evidence that retaliation is more likely among similar individuals, we will compare the *absolute difference* in seniority between editors involved in $AB–BA$ event sequences with the absolute difference in seniority between editors involved in any other revert (all the reverts in the data that are not part of the AB–BA sequences).\n",
    "\n",
    "First, **plot a histogram** of $|s_A - s_B|$ for reverts that are part of $AB–BA$ motifs on top of a histogram of $|s_i - s_j|$ for all other reverts. \n",
    "\n",
    "Then, **print the mean $|s_A - s_B|$ and the mean $|s_i - s_j|$**.\n"
   ]
  },
  {
   "cell_type": "code",
   "execution_count": 12,
   "metadata": {},
   "outputs": [
    {
     "data": {
      "image/png": "[encoded data removed]",
      "text/plain": [
       "<Figure size 640x480 with 1 Axes>"
      ]
     },
     "metadata": {},
     "output_type": "display_data"
    },
    {
     "name": "stdout",
     "output_type": "stream",
     "text": [
      "Mean absolute seniority difference for editors involved in AB-BA event sequences: 2.0429277686122003\n",
      "Mean absolute seniority difference for editors involved in non-AB-BA event sequences: 2.5361139309595075\n"
     ]
    }
   ],
   "source": [
    "# Compare seniority of reverts\n",
    "abba_seniority_diff, non_abba_seniority_diff = nf.compare_seniority(network, abba_sequences)\n",
    "# Plot histogram and print mean\n",
    "nf.plot_seniority_stats(abba_seniority_diff, non_abba_seniority_diff)"
   ]
  },
  {
   "attachments": {},
   "cell_type": "markdown",
   "metadata": {},
   "source": [
    "---\n",
    "\n",
    "### Evaluation\n",
    "\n",
    "| Aspect         | Mark     | Comment   \n",
    "|:--------------:|:--------:|:----------------------\n",
    "| Code runs      |   10/10    |              \n",
    "| 1, network     |   9/10    | You are slightly overcounting\n",
    "| 1, seniority   |   10/10    | \n",
    "| 2              |   6/10    | Undercounting here\n",
    "| 3              |   10/10    | \n",
    "| Legibility     |   8/10    | Good but keep lines of code and comments shorter to avoid horizontal scrolling. Use shorter variable names to improve legibility. You don't need to go up one directory and then enter the current directory to save in this location.\n",
    "| Modularity     |   8/10    | Group functions into more modules.\n",
    "| Optimization   |   25/30    | Quite good, so you don't really need to pickle here\n",
    "| **Total**      |**86/100**  | Well done!"
   ]
  }
 ],
 "metadata": {
  "kernelspec": {
   "display_name": "Python 3 (ipykernel)",
   "language": "python",
   "name": "python3"
  },
  "language_info": {
   "codemirror_mode": {
    "name": "ipython",
    "version": 3
   },
   "file_extension": ".py",
   "mimetype": "text/x-python",
   "name": "python",
   "nbconvert_exporter": "python",
   "pygments_lexer": "ipython3",
   "version": "3.11.6"
  }
 },
 "nbformat": 4,
 "nbformat_minor": 2
}
