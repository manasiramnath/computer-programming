{
 "cells": [
  {
   "attachments": {},
   "cell_type": "markdown",
   "metadata": {
    "slideshow": {
     "slide_type": "slide"
    }
   },
   "source": [
    "### MY470 Computer Programming\n",
    "\n",
    "### Problem Set 2, AT 2023\n",
    "\n",
    "#### \\*\\*\\* Due 12:00 noon on Monday, October 23 \\*\\*\\*"
   ]
  },
  {
   "attachments": {},
   "cell_type": "markdown",
   "metadata": {
    "slideshow": {
     "slide_type": "slide"
    }
   },
   "source": [
    "---\n",
    "### Writing your own k-means clustering algorithm\n",
    "\n",
    "K-means clustering is a simple unsupervised machine-learning method for cluster analysis. The aim of the method is to partition a set of points into k clusters, such that each point is assigned to the nearest cluster. The algorithm iterates through two steps:\n",
    "\n",
    "1. Assign each data point to the cluster with the nearest centroid\n",
    "2. Update the centroids of the clusters given the new assignment\n",
    "\n",
    "The algorithm converges when the assignments no longer change. Since the intial assignment to clusters is largely random, there is no guarantee that the optimum assignment is found. So it is common to run the algorithm multiple times and use different starting conditions.\n",
    "\n",
    "In this problem set, we will implement a much simplified version of the k-means clustering algorithm. Rather than running the algorithm until convergence, we will repeat the above two steps a large but fixed number of times. In addition, we will initialize only once, using a naive method according to which we randomly choose k points from the data to use as initial cluster centroids. \n",
    "\n",
    "(In real life, you will of course use a library to implement such an algorithm. In Python, you can do this using [scikit-learn](http://scikit-learn.org/stable/modules/generated/sklearn.cluster.KMeans.html).)\n",
    "\n",
    "For the problem set, we will additionally use data from the file `Wholesale customers data.csv`, which you can find in the `data` repository. The file contains information on the annual spending on diverse product categories for the clients of a wholesale distributor. The data are obtained from the [UCI Machine Learning Repository](http://archive.ics.uci.edu/ml/index.php) and you can find more information about them [here](http://archive.ics.uci.edu/ml/datasets/Wholesale+customers#).\n",
    "\n",
    "#### Hints\n",
    "\n",
    "Use docstrings to describe your functions. We will subtract points from your mark if you do not use appropriate description of your code.\n",
    "\n",
    "There are many different implementations of the k-means algorithm you can find online. However, this problem set expects you to follow the instructions and algorithms below precisely.  "
   ]
  },
  {
   "cell_type": "code",
   "execution_count": 1,
   "metadata": {},
   "outputs": [],
   "source": [
    "# We will first import the modules we need\n",
    "# You are expected to solve the problem set with these modules only\n",
    "# Do not import and use any other ones \n",
    "\n",
    "# You will need the math module to estimate the square root.\n",
    "# To get the square root of num, use math.sqrt(num)\n",
    "import math\n",
    "import csv\n",
    "import random "
   ]
  },
  {
   "attachments": {},
   "cell_type": "markdown",
   "metadata": {},
   "source": [
    "### Problem 1: Function to estimate Euclidean distance between two points\n",
    "\n",
    "Write a function called `get_distance` that calculates the Euclidean distance between two n-dimensional points. The function should take two lists as arguments, where each list contains the n coordinates of each of the two points. \n",
    "\n",
    "Test your function for the points [0, 3, 0] and [4, 0, 0].\n",
    "\n",
    "#### Hints\n",
    "\n",
    "You can read about the definition of Euclidean distance on [Wikipedia](https://en.wikipedia.org/wiki/Euclidean_distance).\n"
   ]
  },
  {
   "cell_type": "code",
   "execution_count": 2,
   "metadata": {
    "collapsed": true
   },
   "outputs": [
    {
     "data": {
      "text/plain": [
       "5.0"
      ]
     },
     "execution_count": 2,
     "metadata": {},
     "output_type": "execute_result"
    }
   ],
   "source": [
    "# Enter your answer to Problem 1 below. \n",
    "def get_distance(point_1,point_2):\n",
    "    \"\"\"Calculates the Euclidean distance between two n-dimensional points.\n",
    "\n",
    "    Parameters:\n",
    "        point_1 (list): n coordinates of first point. \n",
    "        point_2 (list): n coordinates of second point.\n",
    "\n",
    "    Returns:\n",
    "        dist (int): Euclidean distance between point1 and point2.\n",
    "\n",
    "    This function returns the Euclidean distance from the \n",
    "    Cartesian coordinates of the points using Pythagoras' theorem. \n",
    "    \n",
    "    \"\"\"\n",
    "    # Calculate Euclidean distance by summing the squared differences between \n",
    "    # corresponding coordinates of point_1 and point_2 in each dimension.\n",
    "    dist = math.sqrt(sum((point_1[i]-point_2[i])**2 for i in range(len(point_1)))) \n",
    "    return dist\n",
    "\n",
    "get_distance([0,3,0],[4,0,0])"
   ]
  },
  {
   "attachments": {},
   "cell_type": "markdown",
   "metadata": {},
   "source": [
    "### Problem 2: Function to estimate the centroid of a collection of points\n",
    "\n",
    "Write a function called `get_centroid` that estimates the centroid of a collection of n-dimensional points. The function should take one list as an argument, which contains each of the points entered as a list of n coordinates. The function should return a list with the coordinates of the virtual center point.\n",
    "\n",
    "Test your function for the points in `test_lst` entered below.\n",
    "\n",
    "#### Hints\n",
    "\n",
    "The coordinate of the centroid in each dimension is the mean of the coordinates of all the points in that dimension.\n"
   ]
  },
  {
   "cell_type": "code",
   "execution_count": 3,
   "metadata": {
    "collapsed": true,
    "scrolled": false
   },
   "outputs": [
    {
     "data": {
      "text/plain": [
       "[0.5, 0.5, 0.5]"
      ]
     },
     "execution_count": 3,
     "metadata": {},
     "output_type": "execute_result"
    }
   ],
   "source": [
    "test_lst = [[0,0,0], [0,0,1], [0,1,0], [1,0,0], \n",
    "            [0,1,1], [1,0,1], [1,1,0], [1,1,1]]\n",
    "\n",
    "# Enter your answer to Problem 2 below. \n",
    "def get_centroid(points):\n",
    "    \"\"\"Calculates centroid of a collection of n-dimensional points.\n",
    "\n",
    "    Parameters:\n",
    "        points (list): Each of the points entered as a list of n coordinates.\n",
    "\n",
    "    Returns:\n",
    "        centroid (list): Coordinates of the virtual center point.\n",
    "\n",
    "    The function calculates the centroid by summing up coordinates of \n",
    "    all n-dimensional points in list and dividing each sum by the \n",
    "    total number of points in the list. \n",
    "    \"\"\"\n",
    "    # Determine dimensions of points\n",
    "    n = len(points[0])\n",
    "\n",
    "    # Initialise centroid as a list containing n elements \n",
    "    centroid = [0] * n\n",
    "\n",
    "    # Iterate over each point in list of points and summing points in each dimension\n",
    "    for point in points:\n",
    "        for i in range(n):\n",
    "            centroid[i] += point[i]\n",
    "    \n",
    "    # Finding mean of coordinates of all points in each dimension and storing as a list\n",
    "    centroid = [coord/len(points) for coord in centroid]\n",
    "\n",
    "    return centroid\n",
    "\n",
    "get_centroid(test_lst)"
   ]
  },
  {
   "attachments": {},
   "cell_type": "markdown",
   "metadata": {},
   "source": [
    "---\n",
    "### Problem 3: Function to read data\n",
    "\n",
    "Write a function called `get_data` that opens the file `../data/Wholesale customers data.csv` and returns all the data in a list. \n",
    "\n",
    "Use the csv module to read the file. You can read how to do this [here](https://docs.python.org/3/library/csv.html). Make sure you do not include the column names in the data. \n",
    "\n",
    "Each element in the list you return should be a list of each customer's annual spending on fresh products, milk products, grocery products, frozen products, detergents and paper products, and delicatessen products. In other words, your list should contain 440 elements (customers), each of which contains six numeric elements (amounts spent on products). The function does not need to take any arguments.\n",
    "\n",
    "Test your function by saving the data it returns in a variable called `data`. Then print the first two elements of `data`."
   ]
  },
  {
   "cell_type": "code",
   "execution_count": 4,
   "metadata": {
    "collapsed": true
   },
   "outputs": [
    {
     "data": {
      "text/plain": [
       "[[12669, 9656, 7561, 214, 2674, 1338], [7057, 9810, 9568, 1762, 3293, 1776]]"
      ]
     },
     "execution_count": 4,
     "metadata": {},
     "output_type": "execute_result"
    }
   ],
   "source": [
    "# Enter your answer to Problem 3 here. \n",
    "\n",
    "def get_data():\n",
    "    \"\"\"\n",
    "    This function reads the Wholesale customers file using the csv module\n",
    "    and returns a nested list where the inner list contains each customer's \n",
    "    annual spending on six different products.\n",
    "    \"\"\"\n",
    "    data = []\n",
    "    with open('../data/Wholesale customers data.csv', newline='') as f:\n",
    "        # Skips first line \n",
    "        next(f)\n",
    "        customer_data = csv.reader(f, delimiter=',')\n",
    "        # Iterate over each row, excluding column names, converting into integer\n",
    "        # and append to data list\n",
    "        for row in customer_data:\n",
    "            row = row[2:]\n",
    "            row = [int(i) for i in row]\n",
    "            data.append(row)\n",
    "    \n",
    "    return data\n",
    "\n",
    "data = get_data()\n",
    "data[:2]"
   ]
  },
  {
   "attachments": {},
   "cell_type": "markdown",
   "metadata": {},
   "source": [
    "---\n",
    "### Problem 4: Function to implement k-means algorithm\n",
    "\n",
    "Write a function called `kmeans` that clusters a collection of points into k clusters using a simplified version of the k-means algorithm. The function should take two arguments: \n",
    "\n",
    "1. `points` – a list of n-dimensional points, and\n",
    "2. `k` – an integer that defines the number of desired clusters. \n",
    "\n",
    "The function should return two things: \n",
    "\n",
    "1. A clustering – a list of `k` clusters, each of which is a list of points (each of which is a list of coordinates)\n",
    "2. A list of the centroids for each of the `k` clusters. Each centroid is essentially a point, so it should be presented as a list of coordinates.\n",
    "\n",
    "Write your code around the detailed comments and the helping code below.\n",
    "\n",
    "Test your function on the data from Problem 3 for k = 3. For each of the three clusters, print the number of customers assigned to it and the cordinates of its centroid.\n"
   ]
  },
  {
   "cell_type": "code",
   "execution_count": 5,
   "metadata": {},
   "outputs": [],
   "source": [
    "# Enter your answer to Problem 4 in-between the code and comments below.\n",
    "\n",
    "def kmeans(points, k):\n",
    "    \"\"\"Clusters a collection of points into k clusters.\n",
    "\n",
    "    Parameters:\n",
    "        points (list): A list of n-dimensional points\n",
    "        k (int): An integer that defines the number of desired clusters\n",
    "    \n",
    "    Returns:\n",
    "        clusters (list): A list of k clusters, each of which is a list \n",
    "        of points (each of which is a list of coordinates)\n",
    "        centroids (list): A list of the centroids for each of the k clusters\n",
    "\n",
    "    This function uses a simplified version of the k-means algorithm to cluster \n",
    "    a collection of points into k clusters. It assigns each point to the cluster with the \n",
    "    closest centroid using the get_distance() function, and updates the initial\n",
    "    clusters list and centroids list with the get_centroid() function. \n",
    "    Process is repeated for 100 iterations.\n",
    "    \"\"\"\n",
    "    \n",
    "    # Select k random points to use as initial centroids\n",
    "    init = random.sample(points, k) \n",
    "\n",
    "    # Create a list of k lists to contain the points assigned to each cluster.  \n",
    "    clusters = [[] for i in init]\n",
    "    \n",
    "    # Create a list to keep the centroids of the k clusters. \n",
    "    # For now, this list will contain the points from init.\n",
    "    centroids = [i for i in init]\n",
    "    \n",
    "    # You now need to assign each point to the cluster \n",
    "    # with the closest centroid. Use the get_distance function \n",
    "    # you wrote in Problem 1 for this.\n",
    "    max_iterations = 100\n",
    "    for _ in range(max_iterations):\n",
    "        # Create a new list of k lists to store points for each cluster\n",
    "        new_clusters = [[] for i in init]\n",
    "\n",
    "        for point in points:\n",
    "            # Initialise minimum distance to be between point and first centroid\n",
    "            min_dist = get_distance(point, centroids[0])\n",
    "            closest_centroid_index = 0\n",
    "\n",
    "            for j, centroid in enumerate(centroids):\n",
    "                dist = get_distance(point, centroid)\n",
    "                if dist < min_dist:\n",
    "                    min_dist = dist\n",
    "                    closest_centroid_index = j\n",
    "\n",
    "            if point not in new_clusters[closest_centroid_index]:\n",
    "                new_clusters[closest_centroid_index].append(point)\n",
    "\n",
    "    # You should then update the variable \"clusters\" to be\n",
    "    # the new clustering and update the variable \"centroids\"\n",
    "    # to contain the centroids of the clusters in this new clustering.\n",
    "    # Use the function you wrote in Problem 2 to estimate the centroids.\n",
    "        clusters = new_clusters\n",
    "        new_centroids = [get_centroid(cluster) for cluster in clusters]\n",
    "        centroids = new_centroids\n",
    "        \n",
    "    return clusters, centroids\n",
    "\n",
    "    # Repeat the process described above for 100 iterations. \n",
    "    # The idea is that each new repetition refines the clustering \n",
    "    # because it starts from the centroids of the previous clustering. \n",
    "    # If we repeat the process long enough, the assignment to \n",
    "    # clusters and the centroids will become stable.\n"
   ]
  },
  {
   "cell_type": "code",
   "execution_count": 6,
   "metadata": {},
   "outputs": [
    {
     "name": "stdout",
     "output_type": "stream",
     "text": [
      "There are 60 customers in Cluster 1.\n",
      "There are 53 customers in Cluster 2.\n",
      "There are 327 customers in Cluster 3.\n",
      "Cluster 1 centroid: [35941.4, 6044.45, 6288.616666666667, 6713.966666666666, 1039.6666666666667, 3049.4666666666667]\n",
      "Cluster 2 centroid: [7751.981132075472, 17910.509433962263, 27037.905660377357, 1970.9433962264152, 12104.867924528302, 2185.735849056604]\n",
      "Cluster 3 centroid: [8296.0, 3787.256880733945, 5162.80122324159, 2582.1162079510705, 1724.5229357798164, 1138.0152905198777]\n"
     ]
    }
   ],
   "source": [
    "# Test function on data for 3 clusters\n",
    "clusters, centroids = kmeans(data, 3)\n",
    "\n",
    "# Print number of customers assigned to each cluster\n",
    "for i in range(len(clusters)):\n",
    "        print(f'There are {len(clusters[i])} customers in Cluster {i+1}.')\n",
    "\n",
    "# Print coordinates of centroid of each cluster\n",
    "for i in range(len(centroids)):\n",
    "    print(f'Cluster {i+1} centroid: {centroids[i]}')"
   ]
  },
  {
   "cell_type": "markdown",
   "metadata": {},
   "source": [
    "---\n",
    "\n",
    "### Evaluation\n",
    "\n",
    "| Problem | Mark     | Comment   \n",
    "|:-------:|:--------:|:----------------------\n",
    "| 1       |   2/2    | Good |             \n",
    "| 2       |   2/2    | Good | \n",
    "| 3       |   2/2    | Good | \n",
    "| 4       |   6/6    | Good | \n",
    "| Legibility      |   2/2    | Align comments with code in P4. | \n",
    "| Modularity      |   2/2    | Good | \n",
    "| Efficiency      |   2/4    | P2 dividing can be included into the loop when you loop through each dimension (loop through the dimensions first, then points). P3 when you do the slicing operation ([2:]) separately, it effectively loops the list to collect the elements, which can be combined with your next line of code where you cast data type to each element in the list comprehension. | \n",
    "|**Total**|**18/20**  | Well done! |"
   ]
  }
 ],
 "metadata": {
  "kernelspec": {
   "display_name": "Python 3 (ipykernel)",
   "language": "python",
   "name": "python3"
  },
  "language_info": {
   "codemirror_mode": {
    "name": "ipython",
    "version": 3
   },
   "file_extension": ".py",
   "mimetype": "text/x-python",
   "name": "python",
   "nbconvert_exporter": "python",
   "pygments_lexer": "ipython3",
   "version": "3.11.4"
  }
 },
 "nbformat": 4,
 "nbformat_minor": 2
}
